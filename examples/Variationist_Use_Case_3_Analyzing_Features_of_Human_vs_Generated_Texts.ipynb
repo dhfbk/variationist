{
  "cells": [
    {
      "cell_type": "markdown",
      "metadata": {
        "id": "x2knSG08uVcv"
      },
      "source": [
        "# Variationist Use Case 3: Features of Human vs Generated Texts\n",
        "\n",
        "**Welcome! In this use case example, you will be shown how we carry out an analysis using Variationist.**"
      ]
    },
    {
      "cell_type": "code",
      "execution_count": 1,
      "metadata": {
        "id": "p8J6TosWFJ-M",
        "colab": {
          "base_uri": "https://localhost:8080/"
        },
        "outputId": "b65b740f-4780-4208-9c7c-e2bc957b1715"
      },
      "outputs": [
        {
          "output_type": "stream",
          "name": "stdout",
          "text": [
            "Collecting variationist\n",
            "  Downloading variationist-0.1.4-py3-none-any.whl (73 kB)\n",
            "\u001b[2K     \u001b[90m━━━━━━━━━━━━━━━━━━━━━━━━━━━━━━━━━━━━━━━━\u001b[0m \u001b[32m73.6/73.6 kB\u001b[0m \u001b[31m570.6 kB/s\u001b[0m eta \u001b[36m0:00:00\u001b[0m\n",
            "\u001b[?25hCollecting altair==5.2.0 (from variationist)\n",
            "  Downloading altair-5.2.0-py3-none-any.whl (996 kB)\n",
            "\u001b[2K     \u001b[90m━━━━━━━━━━━━━━━━━━━━━━━━━━━━━━━━━━━━━━━━\u001b[0m \u001b[32m996.9/996.9 kB\u001b[0m \u001b[31m5.1 MB/s\u001b[0m eta \u001b[36m0:00:00\u001b[0m\n",
            "\u001b[?25hCollecting datasets==2.17.1 (from variationist)\n",
            "  Downloading datasets-2.17.1-py3-none-any.whl (536 kB)\n",
            "\u001b[2K     \u001b[90m━━━━━━━━━━━━━━━━━━━━━━━━━━━━━━━━━━━━━━━━\u001b[0m \u001b[32m536.7/536.7 kB\u001b[0m \u001b[31m25.8 MB/s\u001b[0m eta \u001b[36m0:00:00\u001b[0m\n",
            "\u001b[?25hCollecting emoji==2.10.1 (from variationist)\n",
            "  Downloading emoji-2.10.1-py2.py3-none-any.whl (421 kB)\n",
            "\u001b[2K     \u001b[90m━━━━━━━━━━━━━━━━━━━━━━━━━━━━━━━━━━━━━━━━\u001b[0m \u001b[32m421.5/421.5 kB\u001b[0m \u001b[31m8.4 MB/s\u001b[0m eta \u001b[36m0:00:00\u001b[0m\n",
            "\u001b[?25hCollecting geopandas==0.14.3 (from variationist)\n",
            "  Downloading geopandas-0.14.3-py3-none-any.whl (1.1 MB)\n",
            "\u001b[2K     \u001b[90m━━━━━━━━━━━━━━━━━━━━━━━━━━━━━━━━━━━━━━━━\u001b[0m \u001b[32m1.1/1.1 MB\u001b[0m \u001b[31m23.9 MB/s\u001b[0m eta \u001b[36m0:00:00\u001b[0m\n",
            "\u001b[?25hCollecting kaleido==0.2.1 (from variationist)\n",
            "  Downloading kaleido-0.2.1-py2.py3-none-manylinux1_x86_64.whl (79.9 MB)\n",
            "\u001b[2K     \u001b[90m━━━━━━━━━━━━━━━━━━━━━━━━━━━━━━━━━━━━━━━━\u001b[0m \u001b[32m79.9/79.9 MB\u001b[0m \u001b[31m10.7 MB/s\u001b[0m eta \u001b[36m0:00:00\u001b[0m\n",
            "\u001b[?25hCollecting pandas==2.2.1 (from variationist)\n",
            "  Downloading pandas-2.2.1-cp310-cp310-manylinux_2_17_x86_64.manylinux2014_x86_64.whl (13.0 MB)\n",
            "\u001b[2K     \u001b[90m━━━━━━━━━━━━━━━━━━━━━━━━━━━━━━━━━━━━━━━━\u001b[0m \u001b[32m13.0/13.0 MB\u001b[0m \u001b[31m38.7 MB/s\u001b[0m eta \u001b[36m0:00:00\u001b[0m\n",
            "\u001b[?25hCollecting plotly==5.19.0 (from variationist)\n",
            "  Downloading plotly-5.19.0-py3-none-any.whl (15.7 MB)\n",
            "\u001b[2K     \u001b[90m━━━━━━━━━━━━━━━━━━━━━━━━━━━━━━━━━━━━━━━━\u001b[0m \u001b[32m15.7/15.7 MB\u001b[0m \u001b[31m36.5 MB/s\u001b[0m eta \u001b[36m0:00:00\u001b[0m\n",
            "\u001b[?25hCollecting pyogrio==0.7.2 (from variationist)\n",
            "  Downloading pyogrio-0.7.2-cp310-cp310-manylinux_2_17_x86_64.manylinux2014_x86_64.whl (22.0 MB)\n",
            "\u001b[2K     \u001b[90m━━━━━━━━━━━━━━━━━━━━━━━━━━━━━━━━━━━━━━━━\u001b[0m \u001b[32m22.0/22.0 MB\u001b[0m \u001b[31m18.6 MB/s\u001b[0m eta \u001b[36m0:00:00\u001b[0m\n",
            "\u001b[?25hCollecting stopwordsiso==0.6.1 (from variationist)\n",
            "  Downloading stopwordsiso-0.6.1-py3-none-any.whl (73 kB)\n",
            "\u001b[2K     \u001b[90m━━━━━━━━━━━━━━━━━━━━━━━━━━━━━━━━━━━━━━━━\u001b[0m \u001b[32m73.5/73.5 kB\u001b[0m \u001b[31m6.3 MB/s\u001b[0m eta \u001b[36m0:00:00\u001b[0m\n",
            "\u001b[?25hCollecting transformers==4.38.1 (from variationist)\n",
            "  Downloading transformers-4.38.1-py3-none-any.whl (8.5 MB)\n",
            "\u001b[2K     \u001b[90m━━━━━━━━━━━━━━━━━━━━━━━━━━━━━━━━━━━━━━━━\u001b[0m \u001b[32m8.5/8.5 MB\u001b[0m \u001b[31m38.2 MB/s\u001b[0m eta \u001b[36m0:00:00\u001b[0m\n",
            "\u001b[?25hCollecting vl-convert-python==1.2.4 (from variationist)\n",
            "  Downloading vl_convert_python-1.2.4-cp37-abi3-manylinux_2_17_x86_64.manylinux2014_x86_64.whl (27.9 MB)\n",
            "\u001b[2K     \u001b[90m━━━━━━━━━━━━━━━━━━━━━━━━━━━━━━━━━━━━━━━━\u001b[0m \u001b[32m27.9/27.9 MB\u001b[0m \u001b[31m28.1 MB/s\u001b[0m eta \u001b[36m0:00:00\u001b[0m\n",
            "\u001b[?25hRequirement already satisfied: jinja2 in /usr/local/lib/python3.10/dist-packages (from altair==5.2.0->variationist) (3.1.4)\n",
            "Requirement already satisfied: jsonschema>=3.0 in /usr/local/lib/python3.10/dist-packages (from altair==5.2.0->variationist) (4.19.2)\n",
            "Requirement already satisfied: numpy in /usr/local/lib/python3.10/dist-packages (from altair==5.2.0->variationist) (1.25.2)\n",
            "Requirement already satisfied: packaging in /usr/local/lib/python3.10/dist-packages (from altair==5.2.0->variationist) (24.1)\n",
            "Requirement already satisfied: toolz in /usr/local/lib/python3.10/dist-packages (from altair==5.2.0->variationist) (0.12.1)\n",
            "Requirement already satisfied: typing-extensions>=4.0.1 in /usr/local/lib/python3.10/dist-packages (from altair==5.2.0->variationist) (4.12.2)\n",
            "Requirement already satisfied: filelock in /usr/local/lib/python3.10/dist-packages (from datasets==2.17.1->variationist) (3.15.1)\n",
            "Requirement already satisfied: pyarrow>=12.0.0 in /usr/local/lib/python3.10/dist-packages (from datasets==2.17.1->variationist) (14.0.2)\n",
            "Requirement already satisfied: pyarrow-hotfix in /usr/local/lib/python3.10/dist-packages (from datasets==2.17.1->variationist) (0.6)\n",
            "Collecting dill<0.3.9,>=0.3.0 (from datasets==2.17.1->variationist)\n",
            "  Downloading dill-0.3.8-py3-none-any.whl (116 kB)\n",
            "\u001b[2K     \u001b[90m━━━━━━━━━━━━━━━━━━━━━━━━━━━━━━━━━━━━━━━━\u001b[0m \u001b[32m116.3/116.3 kB\u001b[0m \u001b[31m6.9 MB/s\u001b[0m eta \u001b[36m0:00:00\u001b[0m\n",
            "\u001b[?25hRequirement already satisfied: requests>=2.19.0 in /usr/local/lib/python3.10/dist-packages (from datasets==2.17.1->variationist) (2.31.0)\n",
            "Requirement already satisfied: tqdm>=4.62.1 in /usr/local/lib/python3.10/dist-packages (from datasets==2.17.1->variationist) (4.66.4)\n",
            "Collecting xxhash (from datasets==2.17.1->variationist)\n",
            "  Downloading xxhash-3.4.1-cp310-cp310-manylinux_2_17_x86_64.manylinux2014_x86_64.whl (194 kB)\n",
            "\u001b[2K     \u001b[90m━━━━━━━━━━━━━━━━━━━━━━━━━━━━━━━━━━━━━━━━\u001b[0m \u001b[32m194.1/194.1 kB\u001b[0m \u001b[31m9.7 MB/s\u001b[0m eta \u001b[36m0:00:00\u001b[0m\n",
            "\u001b[?25hCollecting multiprocess (from datasets==2.17.1->variationist)\n",
            "  Downloading multiprocess-0.70.16-py310-none-any.whl (134 kB)\n",
            "\u001b[2K     \u001b[90m━━━━━━━━━━━━━━━━━━━━━━━━━━━━━━━━━━━━━━━━\u001b[0m \u001b[32m134.8/134.8 kB\u001b[0m \u001b[31m15.5 MB/s\u001b[0m eta \u001b[36m0:00:00\u001b[0m\n",
            "\u001b[?25hRequirement already satisfied: fsspec[http]<=2023.10.0,>=2023.1.0 in /usr/local/lib/python3.10/dist-packages (from datasets==2.17.1->variationist) (2023.6.0)\n",
            "Requirement already satisfied: aiohttp in /usr/local/lib/python3.10/dist-packages (from datasets==2.17.1->variationist) (3.9.5)\n",
            "Requirement already satisfied: huggingface-hub>=0.19.4 in /usr/local/lib/python3.10/dist-packages (from datasets==2.17.1->variationist) (0.23.4)\n",
            "Requirement already satisfied: pyyaml>=5.1 in /usr/local/lib/python3.10/dist-packages (from datasets==2.17.1->variationist) (6.0.1)\n",
            "Requirement already satisfied: fiona>=1.8.21 in /usr/local/lib/python3.10/dist-packages (from geopandas==0.14.3->variationist) (1.9.6)\n",
            "Requirement already satisfied: pyproj>=3.3.0 in /usr/local/lib/python3.10/dist-packages (from geopandas==0.14.3->variationist) (3.6.1)\n",
            "Requirement already satisfied: shapely>=1.8.0 in /usr/local/lib/python3.10/dist-packages (from geopandas==0.14.3->variationist) (2.0.4)\n",
            "Requirement already satisfied: python-dateutil>=2.8.2 in /usr/local/lib/python3.10/dist-packages (from pandas==2.2.1->variationist) (2.8.2)\n",
            "Requirement already satisfied: pytz>=2020.1 in /usr/local/lib/python3.10/dist-packages (from pandas==2.2.1->variationist) (2023.4)\n",
            "Requirement already satisfied: tzdata>=2022.7 in /usr/local/lib/python3.10/dist-packages (from pandas==2.2.1->variationist) (2024.1)\n",
            "Requirement already satisfied: tenacity>=6.2.0 in /usr/local/lib/python3.10/dist-packages (from plotly==5.19.0->variationist) (8.4.1)\n",
            "Requirement already satisfied: certifi in /usr/local/lib/python3.10/dist-packages (from pyogrio==0.7.2->variationist) (2024.6.2)\n",
            "Requirement already satisfied: regex!=2019.12.17 in /usr/local/lib/python3.10/dist-packages (from transformers==4.38.1->variationist) (2024.5.15)\n",
            "Collecting tokenizers<0.19,>=0.14 (from transformers==4.38.1->variationist)\n",
            "  Downloading tokenizers-0.15.2-cp310-cp310-manylinux_2_17_x86_64.manylinux2014_x86_64.whl (3.6 MB)\n",
            "\u001b[2K     \u001b[90m━━━━━━━━━━━━━━━━━━━━━━━━━━━━━━━━━━━━━━━━\u001b[0m \u001b[32m3.6/3.6 MB\u001b[0m \u001b[31m23.9 MB/s\u001b[0m eta \u001b[36m0:00:00\u001b[0m\n",
            "\u001b[?25hRequirement already satisfied: safetensors>=0.4.1 in /usr/local/lib/python3.10/dist-packages (from transformers==4.38.1->variationist) (0.4.3)\n",
            "Requirement already satisfied: attrs>=19.2.0 in /usr/local/lib/python3.10/dist-packages (from fiona>=1.8.21->geopandas==0.14.3->variationist) (23.2.0)\n",
            "Requirement already satisfied: click~=8.0 in /usr/local/lib/python3.10/dist-packages (from fiona>=1.8.21->geopandas==0.14.3->variationist) (8.1.7)\n",
            "Requirement already satisfied: click-plugins>=1.0 in /usr/local/lib/python3.10/dist-packages (from fiona>=1.8.21->geopandas==0.14.3->variationist) (1.1.1)\n",
            "Requirement already satisfied: cligj>=0.5 in /usr/local/lib/python3.10/dist-packages (from fiona>=1.8.21->geopandas==0.14.3->variationist) (0.7.2)\n",
            "Requirement already satisfied: six in /usr/local/lib/python3.10/dist-packages (from fiona>=1.8.21->geopandas==0.14.3->variationist) (1.16.0)\n",
            "Requirement already satisfied: aiosignal>=1.1.2 in /usr/local/lib/python3.10/dist-packages (from aiohttp->datasets==2.17.1->variationist) (1.3.1)\n",
            "Requirement already satisfied: frozenlist>=1.1.1 in /usr/local/lib/python3.10/dist-packages (from aiohttp->datasets==2.17.1->variationist) (1.4.1)\n",
            "Requirement already satisfied: multidict<7.0,>=4.5 in /usr/local/lib/python3.10/dist-packages (from aiohttp->datasets==2.17.1->variationist) (6.0.5)\n",
            "Requirement already satisfied: yarl<2.0,>=1.0 in /usr/local/lib/python3.10/dist-packages (from aiohttp->datasets==2.17.1->variationist) (1.9.4)\n",
            "Requirement already satisfied: async-timeout<5.0,>=4.0 in /usr/local/lib/python3.10/dist-packages (from aiohttp->datasets==2.17.1->variationist) (4.0.3)\n",
            "Requirement already satisfied: jsonschema-specifications>=2023.03.6 in /usr/local/lib/python3.10/dist-packages (from jsonschema>=3.0->altair==5.2.0->variationist) (2023.12.1)\n",
            "Requirement already satisfied: referencing>=0.28.4 in /usr/local/lib/python3.10/dist-packages (from jsonschema>=3.0->altair==5.2.0->variationist) (0.35.1)\n",
            "Requirement already satisfied: rpds-py>=0.7.1 in /usr/local/lib/python3.10/dist-packages (from jsonschema>=3.0->altair==5.2.0->variationist) (0.18.1)\n",
            "Requirement already satisfied: charset-normalizer<4,>=2 in /usr/local/lib/python3.10/dist-packages (from requests>=2.19.0->datasets==2.17.1->variationist) (3.3.2)\n",
            "Requirement already satisfied: idna<4,>=2.5 in /usr/local/lib/python3.10/dist-packages (from requests>=2.19.0->datasets==2.17.1->variationist) (3.7)\n",
            "Requirement already satisfied: urllib3<3,>=1.21.1 in /usr/local/lib/python3.10/dist-packages (from requests>=2.19.0->datasets==2.17.1->variationist) (2.0.7)\n",
            "Requirement already satisfied: MarkupSafe>=2.0 in /usr/local/lib/python3.10/dist-packages (from jinja2->altair==5.2.0->variationist) (2.1.5)\n",
            "Installing collected packages: stopwordsiso, kaleido, xxhash, vl-convert-python, pyogrio, plotly, emoji, dill, pandas, multiprocess, tokenizers, geopandas, transformers, datasets, altair, variationist\n",
            "  Attempting uninstall: plotly\n",
            "    Found existing installation: plotly 5.15.0\n",
            "    Uninstalling plotly-5.15.0:\n",
            "      Successfully uninstalled plotly-5.15.0\n",
            "  Attempting uninstall: pandas\n",
            "    Found existing installation: pandas 2.0.3\n",
            "    Uninstalling pandas-2.0.3:\n",
            "      Successfully uninstalled pandas-2.0.3\n",
            "  Attempting uninstall: tokenizers\n",
            "    Found existing installation: tokenizers 0.19.1\n",
            "    Uninstalling tokenizers-0.19.1:\n",
            "      Successfully uninstalled tokenizers-0.19.1\n",
            "  Attempting uninstall: geopandas\n",
            "    Found existing installation: geopandas 0.13.2\n",
            "    Uninstalling geopandas-0.13.2:\n",
            "      Successfully uninstalled geopandas-0.13.2\n",
            "  Attempting uninstall: transformers\n",
            "    Found existing installation: transformers 4.41.2\n",
            "    Uninstalling transformers-4.41.2:\n",
            "      Successfully uninstalled transformers-4.41.2\n",
            "  Attempting uninstall: altair\n",
            "    Found existing installation: altair 4.2.2\n",
            "    Uninstalling altair-4.2.2:\n",
            "      Successfully uninstalled altair-4.2.2\n",
            "\u001b[31mERROR: pip's dependency resolver does not currently take into account all the packages that are installed. This behaviour is the source of the following dependency conflicts.\n",
            "google-colab 1.0.0 requires pandas==2.0.3, but you have pandas 2.2.1 which is incompatible.\u001b[0m\u001b[31m\n",
            "\u001b[0mSuccessfully installed altair-5.2.0 datasets-2.17.1 dill-0.3.8 emoji-2.10.1 geopandas-0.14.3 kaleido-0.2.1 multiprocess-0.70.16 pandas-2.2.1 plotly-5.19.0 pyogrio-0.7.2 stopwordsiso-0.6.1 tokenizers-0.15.2 transformers-4.38.1 variationist-0.1.4 vl-convert-python-1.2.4 xxhash-3.4.1\n"
          ]
        }
      ],
      "source": [
        "# Install using pip\n",
        "!pip install variationist"
      ]
    },
    {
      "cell_type": "code",
      "execution_count": 4,
      "metadata": {
        "colab": {
          "base_uri": "https://localhost:8080/"
        },
        "id": "PO7SWAu-uVc0",
        "outputId": "b20b5919-4ba7-48c3-f0df-a27d02e0bb56"
      },
      "outputs": [
        {
          "output_type": "stream",
          "name": "stdout",
          "text": [
            "Requirement already satisfied: vegafusion[embed]>=1.4.0 in /usr/local/lib/python3.10/dist-packages (1.6.9)\n",
            "Requirement already satisfied: altair>=5.2.0 in /usr/local/lib/python3.10/dist-packages (from vegafusion[embed]>=1.4.0) (5.2.0)\n",
            "Requirement already satisfied: pyarrow>=5 in /usr/local/lib/python3.10/dist-packages (from vegafusion[embed]>=1.4.0) (14.0.2)\n",
            "Requirement already satisfied: pandas in /usr/local/lib/python3.10/dist-packages (from vegafusion[embed]>=1.4.0) (2.2.1)\n",
            "Requirement already satisfied: psutil in /usr/local/lib/python3.10/dist-packages (from vegafusion[embed]>=1.4.0) (5.9.5)\n",
            "Requirement already satisfied: protobuf in /usr/local/lib/python3.10/dist-packages (from vegafusion[embed]>=1.4.0) (3.20.3)\n",
            "Requirement already satisfied: vegafusion-python-embed==1.6.9 in /usr/local/lib/python3.10/dist-packages (from vegafusion[embed]>=1.4.0) (1.6.9)\n",
            "Requirement already satisfied: vl-convert-python>=0.7.0 in /usr/local/lib/python3.10/dist-packages (from vegafusion[embed]>=1.4.0) (1.2.4)\n",
            "Requirement already satisfied: jinja2 in /usr/local/lib/python3.10/dist-packages (from altair>=5.2.0->vegafusion[embed]>=1.4.0) (3.1.4)\n",
            "Requirement already satisfied: jsonschema>=3.0 in /usr/local/lib/python3.10/dist-packages (from altair>=5.2.0->vegafusion[embed]>=1.4.0) (4.19.2)\n",
            "Requirement already satisfied: numpy in /usr/local/lib/python3.10/dist-packages (from altair>=5.2.0->vegafusion[embed]>=1.4.0) (1.25.2)\n",
            "Requirement already satisfied: packaging in /usr/local/lib/python3.10/dist-packages (from altair>=5.2.0->vegafusion[embed]>=1.4.0) (24.1)\n",
            "Requirement already satisfied: toolz in /usr/local/lib/python3.10/dist-packages (from altair>=5.2.0->vegafusion[embed]>=1.4.0) (0.12.1)\n",
            "Requirement already satisfied: typing-extensions>=4.0.1 in /usr/local/lib/python3.10/dist-packages (from altair>=5.2.0->vegafusion[embed]>=1.4.0) (4.12.2)\n",
            "Requirement already satisfied: python-dateutil>=2.8.2 in /usr/local/lib/python3.10/dist-packages (from pandas->vegafusion[embed]>=1.4.0) (2.8.2)\n",
            "Requirement already satisfied: pytz>=2020.1 in /usr/local/lib/python3.10/dist-packages (from pandas->vegafusion[embed]>=1.4.0) (2023.4)\n",
            "Requirement already satisfied: tzdata>=2022.7 in /usr/local/lib/python3.10/dist-packages (from pandas->vegafusion[embed]>=1.4.0) (2024.1)\n",
            "Requirement already satisfied: attrs>=22.2.0 in /usr/local/lib/python3.10/dist-packages (from jsonschema>=3.0->altair>=5.2.0->vegafusion[embed]>=1.4.0) (23.2.0)\n",
            "Requirement already satisfied: jsonschema-specifications>=2023.03.6 in /usr/local/lib/python3.10/dist-packages (from jsonschema>=3.0->altair>=5.2.0->vegafusion[embed]>=1.4.0) (2023.12.1)\n",
            "Requirement already satisfied: referencing>=0.28.4 in /usr/local/lib/python3.10/dist-packages (from jsonschema>=3.0->altair>=5.2.0->vegafusion[embed]>=1.4.0) (0.35.1)\n",
            "Requirement already satisfied: rpds-py>=0.7.1 in /usr/local/lib/python3.10/dist-packages (from jsonschema>=3.0->altair>=5.2.0->vegafusion[embed]>=1.4.0) (0.18.1)\n",
            "Requirement already satisfied: six>=1.5 in /usr/local/lib/python3.10/dist-packages (from python-dateutil>=2.8.2->pandas->vegafusion[embed]>=1.4.0) (1.16.0)\n",
            "Requirement already satisfied: MarkupSafe>=2.0 in /usr/local/lib/python3.10/dist-packages (from jinja2->altair>=5.2.0->vegafusion[embed]>=1.4.0) (2.1.5)\n"
          ]
        },
        {
          "output_type": "execute_result",
          "data": {
            "text/plain": [
              "DataTransformerRegistry.enable('vegafusion')"
            ]
          },
          "metadata": {},
          "execution_count": 4
        }
      ],
      "source": [
        "# If your dataset has a large number of examples, you might need this to display large charts\n",
        "!pip install \"vegafusion[embed]>=1.4.0\"\n",
        "import altair as alt\n",
        "alt.data_transformers.enable(\"vegafusion\")"
      ]
    },
    {
      "cell_type": "code",
      "execution_count": 5,
      "metadata": {
        "id": "QWTWjJAIuVc0"
      },
      "outputs": [],
      "source": [
        "from variationist import Inspector, InspectorArgs, Visualizer, VisualizerArgs"
      ]
    },
    {
      "cell_type": "markdown",
      "metadata": {
        "id": "M8RLgLIkuVc1"
      },
      "source": [
        "For this experiment, we use the `Hello-SimpleAI/HC3` dataset from the HuggingFace hub [(Guo et al., 2023)](https://arxiv.org/abs/2301.07597). It contains answers written by humans and ChatGPT-generated texts to the same questions, categorized into 5 different sources/domain. Let's take a look at the differences between human and synthetic texts."
      ]
    },
    {
      "cell_type": "code",
      "execution_count": 7,
      "metadata": {
        "id": "uOCrZm9YuVc1"
      },
      "outputs": [],
      "source": [
        "# Define the dataset name, subset, and split of the dataset to load from HuggingFace datasets\n",
        "my_dataset = \"hf::Hello-SimpleAI/HC3::all::train\""
      ]
    },
    {
      "cell_type": "markdown",
      "source": [
        "We specify two text columns of interest: `human_answers` and `chatgpt_answers`. We set bigrams as units with lowercase normalization, and specify stopword removal in English, further adding \"url\" and numbers from 0 to 9 as extra unigrams to remove. We further define `stats`, `root_ttr`, and `npw_pmi` as metrics in order to analyze different aspects of the texts. The other parameters are left with default values."
      ],
      "metadata": {
        "id": "re49TAWCyYqM"
      }
    },
    {
      "cell_type": "code",
      "execution_count": 8,
      "metadata": {
        "id": "yDOis-hzuVc1"
      },
      "outputs": [],
      "source": [
        "# Define the inspector arguments\n",
        "inspector_args = InspectorArgs(\n",
        "\t\t text_names=[\"human_answers\", \"chatgpt_answers\"],\n",
        "\t\t var_names=[],\n",
        "\t\t metrics=[\"stats\", \"root_ttr\", \"npw_pmi\"],\n",
        "\t\t n_tokens=2,\n",
        "\t\t lowercase=True,\n",
        "\t\t stopwords=True,\n",
        "\t\t custom_stopwords=[\"url\", \"0\", \"1\", \"2\", \"3\", \"4\", \"5\", \"6\", \"7\", \"8\", \"9\"],\n",
        "\t\t language=\"en\"\n",
        ")"
      ]
    },
    {
      "cell_type": "code",
      "execution_count": 9,
      "metadata": {
        "colab": {
          "base_uri": "https://localhost:8080/",
          "height": 655,
          "referenced_widgets": [
            "06b1fbd27e91498c9a63962dfee822c3",
            "550576a70e5d4b36b0c98c8f37c60c62",
            "8c7cb31c0dfb4ccb9d71b10d8057b077",
            "d3f3525061314cb9b61ec294bff2fa76",
            "3baf8e8c31d246f685ee0dda2c7e3c03",
            "4a4e493447f34d438b58f756313d1026",
            "f7f539a200bd4b0ab274e909272cf2de",
            "5a6e46e65891418d938eab6defc93bb8",
            "3993519566fc45b089fc6cacfad31062",
            "e13c55b325be4652b03f2af8d0238f5f",
            "c13ae65551584109865ee2d161eb2f8a",
            "554aaa78e95546938af41963925de59c",
            "821e3dafdedb46c194e65ddcd61415bb",
            "50e73edc777d49bfb2d4d97335b2ab9b",
            "60d3c13dbb8f45a4bb20dfc181254441",
            "c1ba528547b249acb145c230c1014deb",
            "7b3cb325b05446479dc468fab77eda10",
            "c4e64b2c1ec5415e9ec51da7aab95aef",
            "bda26790d50840bb85edbc97111985a0",
            "aaf8e0c4a38c41d5bf5f4a0e10302dd1",
            "582f3041f7a2403da6907d642e62ac37",
            "7824425f7ffe40609c176d35685a233a"
          ]
        },
        "id": "oJtLymL-uVc1",
        "outputId": "1f5103f3-4de1-4d7e-970a-39f478598232"
      },
      "outputs": [
        {
          "output_type": "stream",
          "name": "stdout",
          "text": [
            "INFO: No values have been set for var_types. Defaults to nominal.\n",
            "INFO: No values have been set for var_semantics. Defaults to general.\n",
            "INFO: The metadata we will be using for the current analysis are:\n",
            "{'text_names': ['human_answers', 'chatgpt_answers'], 'var_names': [], 'metrics': ['stats', 'root_ttr', 'npw_pmi'], 'var_types': [], 'var_semantics': [], 'var_subsets': None, 'var_bins': [], 'tokenizer': 'whitespace', 'language': 'en', 'n_tokens': 2, 'n_cooc': 1, 'unique_cooc': False, 'cooc_window_size': 0, 'freq_cutoff': 3, 'stopwords': True, 'custom_stopwords': ['url', '0', '1', '2', '3', '4', '5', '6', '7', '8', '9'], 'lowercase': True, 'ignore_null_var': False}\n",
            "INFO: all column identifiers are treated as column names.\n",
            "INFO: 'Loading hf::Hello-SimpleAI/HC3::all::train' as a HuggingFace dataset. We assume the third element in the specified string is the subset (\"all\") and the last is the split (\"train\").\n"
          ]
        },
        {
          "output_type": "stream",
          "name": "stderr",
          "text": [
            "/usr/local/lib/python3.10/dist-packages/huggingface_hub/utils/_token.py:89: UserWarning: \n",
            "The secret `HF_TOKEN` does not exist in your Colab secrets.\n",
            "To authenticate with the Hugging Face Hub, create a token in your settings tab (https://huggingface.co/settings/tokens), set it as secret in your Google Colab and restart your session.\n",
            "You will be able to reuse this secret in all of your notebooks.\n",
            "Please note that authentication is recommended but still optional to access public models or datasets.\n",
            "  warnings.warn(\n"
          ]
        },
        {
          "output_type": "display_data",
          "data": {
            "text/plain": [
              "Downloading data:   0%|          | 0.00/39.3M [00:00<?, ?B/s]"
            ],
            "application/vnd.jupyter.widget-view+json": {
              "version_major": 2,
              "version_minor": 0,
              "model_id": "06b1fbd27e91498c9a63962dfee822c3"
            }
          },
          "metadata": {}
        },
        {
          "output_type": "display_data",
          "data": {
            "text/plain": [
              "Generating train split:   0%|          | 0/24322 [00:00<?, ? examples/s]"
            ],
            "application/vnd.jupyter.widget-view+json": {
              "version_major": 2,
              "version_minor": 0,
              "model_id": "554aaa78e95546938af41963925de59c"
            }
          },
          "metadata": {}
        },
        {
          "output_type": "stream",
          "name": "stdout",
          "text": [
            "INFO: Tokenizing the human_answers column...\n"
          ]
        },
        {
          "output_type": "stream",
          "name": "stderr",
          "text": [
            "100%|██████████| 24322/24322 [00:21<00:00, 1137.44it/s]\n"
          ]
        },
        {
          "output_type": "stream",
          "name": "stdout",
          "text": [
            "INFO: Creating n-grams...\n"
          ]
        },
        {
          "output_type": "stream",
          "name": "stderr",
          "text": [
            "100%|██████████| 24322/24322 [00:01<00:00, 22622.01it/s]\n"
          ]
        },
        {
          "output_type": "stream",
          "name": "stdout",
          "text": [
            "INFO: Tokenizing the chatgpt_answers column...\n"
          ]
        },
        {
          "output_type": "stream",
          "name": "stderr",
          "text": [
            "100%|██████████| 24322/24322 [00:10<00:00, 2247.72it/s]\n"
          ]
        },
        {
          "output_type": "stream",
          "name": "stdout",
          "text": [
            "INFO: Creating n-grams...\n"
          ]
        },
        {
          "output_type": "stream",
          "name": "stderr",
          "text": [
            "100%|██████████| 24322/24322 [00:00<00:00, 33095.66it/s]\n"
          ]
        },
        {
          "output_type": "stream",
          "name": "stdout",
          "text": [
            "INFO: Splitting intersections of variables into subsets.\n",
            "Subsets for text column 'human_answers'...\n"
          ]
        },
        {
          "output_type": "stream",
          "name": "stderr",
          "text": [
            "100%|██████████| 1/1 [00:00<00:00, 455.61it/s]\n"
          ]
        },
        {
          "output_type": "stream",
          "name": "stdout",
          "text": [
            "INFO: Splitting intersections of variables into subsets.\n",
            "Subsets for text column 'chatgpt_answers'...\n"
          ]
        },
        {
          "output_type": "stream",
          "name": "stderr",
          "text": [
            "100%|██████████| 1/1 [00:00<00:00, 524.55it/s]\n"
          ]
        },
        {
          "output_type": "stream",
          "name": "stdout",
          "text": [
            "INFO: Currently calculating metric: 'stats'\n",
            "INFO: Currently calculating metric: 'root_ttr'\n"
          ]
        },
        {
          "output_type": "stream",
          "name": "stderr",
          "text": [
            "100%|██████████| 2/2 [00:00<00:00,  4.16it/s]\n"
          ]
        },
        {
          "output_type": "stream",
          "name": "stdout",
          "text": [
            "INFO: Currently calculating metric: 'npw_pmi'\n"
          ]
        },
        {
          "output_type": "stream",
          "name": "stderr",
          "text": [
            "100%|██████████| 2/2 [00:04<00:00,  2.23s/it]\n"
          ]
        }
      ],
      "source": [
        "# Create an inspector instance, run it, and get the results in json\n",
        "results = Inspector(dataset=my_dataset, args=inspector_args).inspect()"
      ]
    },
    {
      "cell_type": "markdown",
      "source": [
        "We then define the visualizer arguments and run the visualizer."
      ],
      "metadata": {
        "id": "YDlAgo7ty54S"
      }
    },
    {
      "cell_type": "code",
      "execution_count": 10,
      "metadata": {
        "colab": {
          "base_uri": "https://localhost:8080/"
        },
        "id": "OrG7F-1wuVc2",
        "outputId": "4b2b87e8-f30d-4f4a-b5e1-46cf12bd66aa"
      },
      "outputs": [
        {
          "output_type": "stream",
          "name": "stdout",
          "text": [
            "Reading json data...\n",
            "INFO: Creating a BarChart object for metric \"stats\"...\n",
            "INFO: Saving it to the filepath: \"output/stats/StatsBarChart.html\".\n",
            "The dataset is too big to be serialized as PNG efficiently. Please use the interactive HTML.\n",
            "INFO: Creating a BarChart object for metric \"root_ttr\"...\n",
            "INFO: Saving it to the filepath: \"output/root_ttr/DiversityBarChart.html\".\n",
            "The dataset is too big to be serialized as PNG efficiently. Please use the interactive HTML.\n",
            "INFO: Creating a BarChart object for metric \"npw_pmi\"...\n",
            "INFO: Saving it to the filepath: \"output/npw_pmi/BarChart.html\".\n",
            "The dataset is too big to be serialized as PNG efficiently. Please use the interactive HTML.\n"
          ]
        }
      ],
      "source": [
        "# Define the visualizer arguments\n",
        "visualizer_args = VisualizerArgs(\n",
        "\toutput_folder=\"output\", output_formats=[\"html\", \"png\"])\n",
        "\n",
        "# Create dynamic visualizations of the results\n",
        "charts = Visualizer(input_json=results, args=visualizer_args).create()"
      ]
    },
    {
      "cell_type": "markdown",
      "source": [
        "We can now inspect the basic `stats` and see that human answers are generally longer and with a larger vocabulary size compared to ChatGPT-generated ones."
      ],
      "metadata": {
        "id": "TdaJFM7tzMZ1"
      }
    },
    {
      "cell_type": "code",
      "execution_count": 11,
      "metadata": {
        "colab": {
          "base_uri": "https://localhost:8080/",
          "height": 161
        },
        "id": "6EzgSX5CuVc2",
        "outputId": "ae4d696f-c631-4d85-9dd3-83db1cfe89b7"
      },
      "outputs": [
        {
          "output_type": "execute_result",
          "data": {
            "text/html": [
              "\n",
              "<style>\n",
              "  #altair-viz-d4d6bb833ddf40059f01910915f924ab.vega-embed {\n",
              "    width: 100%;\n",
              "    display: flex;\n",
              "  }\n",
              "\n",
              "  #altair-viz-d4d6bb833ddf40059f01910915f924ab.vega-embed details,\n",
              "  #altair-viz-d4d6bb833ddf40059f01910915f924ab.vega-embed details summary {\n",
              "    position: relative;\n",
              "  }\n",
              "</style>\n",
              "<div id=\"altair-viz-d4d6bb833ddf40059f01910915f924ab\"></div>\n",
              "<script type=\"text/javascript\">\n",
              "  var VEGA_DEBUG = (typeof VEGA_DEBUG == \"undefined\") ? {} : VEGA_DEBUG;\n",
              "  (function(spec, embedOpt){\n",
              "    let outputDiv = document.currentScript.previousElementSibling;\n",
              "    if (outputDiv.id !== \"altair-viz-d4d6bb833ddf40059f01910915f924ab\") {\n",
              "      outputDiv = document.getElementById(\"altair-viz-d4d6bb833ddf40059f01910915f924ab\");\n",
              "    }\n",
              "    const paths = {\n",
              "      \"vega\": \"https://cdn.jsdelivr.net/npm/vega@5?noext\",\n",
              "      \"vega-lib\": \"https://cdn.jsdelivr.net/npm/vega-lib?noext\",\n",
              "      \"vega-lite\": \"https://cdn.jsdelivr.net/npm/vega-lite@5.16.3?noext\",\n",
              "      \"vega-embed\": \"https://cdn.jsdelivr.net/npm/vega-embed@6?noext\",\n",
              "    };\n",
              "\n",
              "    function maybeLoadScript(lib, version) {\n",
              "      var key = `${lib.replace(\"-\", \"\")}_version`;\n",
              "      return (VEGA_DEBUG[key] == version) ?\n",
              "        Promise.resolve(paths[lib]) :\n",
              "        new Promise(function(resolve, reject) {\n",
              "          var s = document.createElement('script');\n",
              "          document.getElementsByTagName(\"head\")[0].appendChild(s);\n",
              "          s.async = true;\n",
              "          s.onload = () => {\n",
              "            VEGA_DEBUG[key] = version;\n",
              "            return resolve(paths[lib]);\n",
              "          };\n",
              "          s.onerror = () => reject(`Error loading script: ${paths[lib]}`);\n",
              "          s.src = paths[lib];\n",
              "        });\n",
              "    }\n",
              "\n",
              "    function showError(err) {\n",
              "      outputDiv.innerHTML = `<div class=\"error\" style=\"color:red;\">${err}</div>`;\n",
              "      throw err;\n",
              "    }\n",
              "\n",
              "    function displayChart(vegaEmbed) {\n",
              "      vegaEmbed(outputDiv, spec, embedOpt)\n",
              "        .catch(err => showError(`Javascript Error: ${err.message}<br>This usually means there's a typo in your chart specification. See the javascript console for the full traceback.`));\n",
              "    }\n",
              "\n",
              "    if(typeof define === \"function\" && define.amd) {\n",
              "      requirejs.config({paths});\n",
              "      require([\"vega-embed\"], displayChart, err => showError(`Error loading script: ${err.message}`));\n",
              "    } else {\n",
              "      maybeLoadScript(\"vega\", \"5\")\n",
              "        .then(() => maybeLoadScript(\"vega-lite\", \"5.16.3\"))\n",
              "        .then(() => maybeLoadScript(\"vega-embed\", \"6\"))\n",
              "        .catch(showError)\n",
              "        .then(() => displayChart(vegaEmbed));\n",
              "    }\n",
              "  })({\"$schema\": \"https://vega.github.io/schema/vega/v5.json\", \"data\": [{\"name\": \"source_0\", \"values\": [{\"text_name\": \"human_answers\", \"\": \"\", \"statistics\": \"num_texts\", \"val_1\": 24322.0, \"val_2\": null}, {\"text_name\": \"chatgpt_answers\", \"\": \"\", \"statistics\": \"num_texts\", \"val_1\": 24322.0, \"val_2\": null}, {\"text_name\": \"human_answers\", \"\": \"\", \"statistics\": \"avg_text_len\", \"val_1\": 98.25546004195286, \"val_2\": 91.1611579027553}, {\"text_name\": \"chatgpt_answers\", \"\": \"\", \"statistics\": \"avg_text_len\", \"val_1\": 73.66447368421052, \"val_2\": 39.66882581521187}, {\"text_name\": \"human_answers\", \"\": \"\", \"statistics\": \"num_tokens\", \"val_1\": 2388885.0, \"val_2\": null}, {\"text_name\": \"chatgpt_answers\", \"\": \"\", \"statistics\": \"num_tokens\", \"val_1\": 1757929.0, \"val_2\": null}, {\"text_name\": \"human_answers\", \"\": \"\", \"statistics\": \"vocab_size\", \"val_1\": 1599253.0, \"val_2\": null}, {\"text_name\": \"chatgpt_answers\", \"\": \"\", \"statistics\": \"vocab_size\", \"val_1\": 872387.0, \"val_2\": null}, {\"text_name\": \"human_answers\", \"\": \"\", \"statistics\": \"num_duplicates\", \"val_1\": 1877.0, \"val_2\": null}, {\"text_name\": \"chatgpt_answers\", \"\": \"\", \"statistics\": \"num_duplicates\", \"val_1\": 569.0, \"val_2\": null}]}, {\"name\": \"column_domain\", \"values\": [{\"statistics\": \"num_texts\", \"count\": 2}, {\"statistics\": \"avg_text_len\", \"count\": 2}, {\"statistics\": \"num_tokens\", \"count\": 2}, {\"statistics\": \"vocab_size\", \"count\": 2}, {\"statistics\": \"num_duplicates\", \"count\": 2}]}, {\"name\": \"data_2\"}, {\"name\": \"source_0_color_domain_text_name\", \"values\": [{\"sort_field\": 4014435.255460042, \"text_name\": \"human_answers\"}, {\"sort_field\": 2655280.6644736845, \"text_name\": \"chatgpt_answers\"}]}], \"signals\": [{\"name\": \"child_width\", \"value\": 160}, {\"name\": \"child_y_step\", \"value\": 20}], \"marks\": [{\"type\": \"group\", \"name\": \"column-title\", \"title\": {\"text\": \"statistics\", \"style\": \"guide-title\", \"offset\": 10}, \"role\": \"column-title\"}, {\"type\": \"group\", \"name\": \"column_header\", \"from\": {\"data\": \"column_domain\"}, \"sort\": {\"field\": \"datum[\\\"statistics\\\"]\", \"order\": \"ascending\"}, \"encode\": {\"update\": {\"width\": {\"signal\": \"child_width\"}}}, \"title\": {\"text\": {\"signal\": \"isValid(parent[\\\"statistics\\\"]) ? parent[\\\"statistics\\\"] : \\\"\\\"+parent[\\\"statistics\\\"]\"}, \"fontWeight\": \"bold\", \"style\": \"guide-label\", \"offset\": 10, \"frame\": \"group\"}, \"role\": \"column-header\"}, {\"type\": \"group\", \"name\": \"cell\", \"from\": {\"facet\": {\"data\": \"source_0\", \"name\": \"facet\", \"groupby\": [\"statistics\"], \"aggregate\": {\"fields\": [\"text_name\"], \"ops\": [\"distinct\"], \"as\": [\"distinct_text_name\"]}}}, \"sort\": {\"field\": [\"datum[\\\"statistics\\\"]\"], \"order\": [\"ascending\"]}, \"encode\": {\"update\": {\"width\": {\"signal\": \"child_width\"}, \"height\": {\"signal\": \"bandspace(datum[\\\"distinct_text_name\\\"], 0.1, 0.05) * child_y_step\"}}}, \"data\": [{\"name\": \"data_0\", \"source\": \"facet\", \"transform\": [{\"type\": \"stack\", \"field\": \"val_1\", \"groupby\": [\"text_name\"], \"sort\": {\"field\": [], \"order\": []}, \"as\": [\"val_1_start\", \"val_1_end\"], \"offset\": \"zero\"}, {\"type\": \"filter\", \"expr\": \"isValid(datum[\\\"val_1\\\"]) && isFinite(+datum[\\\"val_1\\\"])\"}]}, {\"name\": \"facet_child_y_domain_text_name_2\", \"source\": \"facet\", \"transform\": [{\"type\": \"aggregate\", \"groupby\": [\"text_name\"], \"fields\": [\"val_1\"], \"ops\": [\"sum\"], \"as\": [\"sort_field\"]}, {\"type\": \"project\", \"fields\": [\"sort_field\", \"text_name\"]}]}], \"marks\": [{\"type\": \"group\", \"from\": {\"facet\": {\"data\": \"data_0\", \"name\": \"stack_group_child_main\", \"groupby\": [\"text_name\"], \"aggregate\": {\"fields\": [\"val_1_start\", \"val_1_start\", \"val_1_end\", \"val_1_end\"], \"ops\": [\"min\", \"max\", \"min\", \"max\"]}}}, \"encode\": {\"update\": {\"yc\": {\"field\": \"text_name\", \"scale\": \"child_y\", \"band\": 0.5}, \"clip\": {\"value\": true}, \"height\": {\"value\": 15}, \"x\": {\"signal\": \"min(scale('child_x',datum[\\\"min_val_1_start\\\"]),scale('child_x',datum[\\\"max_val_1_start\\\"]),scale('child_x',datum[\\\"min_val_1_end\\\"]),scale('child_x',datum[\\\"max_val_1_end\\\"]))\"}, \"cornerRadiusBottomRight\": {\"value\": 5}, \"x2\": {\"signal\": \"max(scale('child_x',datum[\\\"min_val_1_start\\\"]),scale('child_x',datum[\\\"max_val_1_start\\\"]),scale('child_x',datum[\\\"min_val_1_end\\\"]),scale('child_x',datum[\\\"max_val_1_end\\\"]))\"}, \"cornerRadiusTopRight\": {\"value\": 5}}}, \"marks\": [{\"type\": \"group\", \"encode\": {\"update\": {\"x\": {\"field\": {\"signal\": null, \"datum\": null, \"group\": \"x\", \"parent\": null}, \"mult\": -1}, \"height\": {\"field\": {\"signal\": null, \"datum\": null, \"group\": \"height\", \"parent\": null}}}}, \"marks\": [{\"type\": \"rect\", \"name\": \"child_marks\", \"from\": {\"data\": \"stack_group_child_main\"}, \"encode\": {\"update\": {\"x\": {\"field\": \"val_1_end\", \"scale\": \"child_x\"}, \"fill\": {\"field\": \"text_name\", \"scale\": \"color\"}, \"x2\": {\"field\": \"val_1_start\", \"scale\": \"child_x\"}, \"height\": {\"field\": {\"signal\": null, \"datum\": null, \"group\": \"height\", \"parent\": null}}, \"tooltip\": {\"signal\": \"{\\\"text_name\\\": isValid(datum[\\\"text_name\\\"]) ? datum[\\\"text_name\\\"] : \\\"\\\"+datum[\\\"text_name\\\"], \\\"mean\\\": format(datum[\\\"val_1\\\"], \\\"\\\"), \\\"stdev\\\": format(datum[\\\"val_2\\\"], \\\"\\\")}\"}}}, \"style\": [\"bar\"]}]}]}], \"scales\": [{\"name\": \"child_x\", \"type\": \"linear\", \"domain\": {\"data\": \"data_0\", \"fields\": [\"val_1_start\", \"val_1_end\"]}, \"range\": [0, {\"signal\": \"child_width\"}], \"zero\": true, \"nice\": true}, {\"name\": \"child_y\", \"type\": \"band\", \"domain\": {\"data\": \"facet_child_y_domain_text_name_2\", \"field\": \"text_name\", \"sort\": {\"op\": \"max\", \"field\": \"sort_field\", \"order\": \"descending\"}}, \"range\": {\"step\": {\"signal\": \"child_y_step\"}}, \"paddingInner\": 0.1, \"paddingOuter\": 0.05}], \"axes\": [{\"scale\": \"child_x\", \"tickCount\": {\"signal\": \"ceil(child_width/40)\"}, \"gridScale\": \"child_y\", \"maxExtent\": 0, \"minExtent\": 0, \"ticks\": false, \"aria\": false, \"grid\": true, \"labels\": false, \"domain\": false, \"zindex\": 0, \"orient\": \"bottom\"}, {\"scale\": \"child_x\", \"tickCount\": {\"signal\": \"ceil(child_width/40)\"}, \"labelFlush\": true, \"zindex\": 0, \"labelOverlap\": true, \"orient\": \"bottom\", \"grid\": false}, {\"scale\": \"child_y\", \"zindex\": 0, \"orient\": \"left\", \"grid\": false}], \"style\": \"cell\"}], \"scales\": [{\"name\": \"color\", \"type\": \"ordinal\", \"domain\": {\"data\": \"source_0_color_domain_text_name\", \"field\": \"text_name\", \"sort\": {\"op\": \"max\", \"field\": \"sort_field\", \"order\": \"descending\"}}, \"range\": \"category\"}], \"legends\": [{\"fill\": \"color\", \"symbolType\": \"square\"}], \"padding\": 5, \"layout\": {\"padding\": 20, \"offset\": {\"columnTitle\": 10}, \"columns\": {\"signal\": \"length(data('column_domain'))\"}, \"bounds\": \"full\", \"align\": \"none\", \"center\": true}, \"background\": \"white\"}, {\"mode\": \"vega\"});\n",
              "</script>"
            ],
            "text/plain": [
              "alt.Chart(...)"
            ]
          },
          "metadata": {},
          "execution_count": 11
        }
      ],
      "source": [
        "charts[\"stats\"][\"BarChart\"]"
      ]
    },
    {
      "cell_type": "markdown",
      "metadata": {
        "id": "Z-AMTys0uVc2"
      },
      "source": [
        "By looking at the `root_ttr`, we can see that human answers are on average more varied, also exhibiting a greater standard deviation that ChatGPT-generated ones."
      ]
    },
    {
      "cell_type": "code",
      "execution_count": 12,
      "metadata": {
        "colab": {
          "base_uri": "https://localhost:8080/",
          "height": 141
        },
        "id": "3N-OewlHuVc2",
        "outputId": "b4ba36be-1837-4d36-897a-b4ee86f98e6a"
      },
      "outputs": [
        {
          "output_type": "execute_result",
          "data": {
            "text/html": [
              "\n",
              "<style>\n",
              "  #altair-viz-d84866732d364f8c840bea2075ec36d0.vega-embed {\n",
              "    width: 100%;\n",
              "    display: flex;\n",
              "  }\n",
              "\n",
              "  #altair-viz-d84866732d364f8c840bea2075ec36d0.vega-embed details,\n",
              "  #altair-viz-d84866732d364f8c840bea2075ec36d0.vega-embed details summary {\n",
              "    position: relative;\n",
              "  }\n",
              "</style>\n",
              "<div id=\"altair-viz-d84866732d364f8c840bea2075ec36d0\"></div>\n",
              "<script type=\"text/javascript\">\n",
              "  var VEGA_DEBUG = (typeof VEGA_DEBUG == \"undefined\") ? {} : VEGA_DEBUG;\n",
              "  (function(spec, embedOpt){\n",
              "    let outputDiv = document.currentScript.previousElementSibling;\n",
              "    if (outputDiv.id !== \"altair-viz-d84866732d364f8c840bea2075ec36d0\") {\n",
              "      outputDiv = document.getElementById(\"altair-viz-d84866732d364f8c840bea2075ec36d0\");\n",
              "    }\n",
              "    const paths = {\n",
              "      \"vega\": \"https://cdn.jsdelivr.net/npm/vega@5?noext\",\n",
              "      \"vega-lib\": \"https://cdn.jsdelivr.net/npm/vega-lib?noext\",\n",
              "      \"vega-lite\": \"https://cdn.jsdelivr.net/npm/vega-lite@5.16.3?noext\",\n",
              "      \"vega-embed\": \"https://cdn.jsdelivr.net/npm/vega-embed@6?noext\",\n",
              "    };\n",
              "\n",
              "    function maybeLoadScript(lib, version) {\n",
              "      var key = `${lib.replace(\"-\", \"\")}_version`;\n",
              "      return (VEGA_DEBUG[key] == version) ?\n",
              "        Promise.resolve(paths[lib]) :\n",
              "        new Promise(function(resolve, reject) {\n",
              "          var s = document.createElement('script');\n",
              "          document.getElementsByTagName(\"head\")[0].appendChild(s);\n",
              "          s.async = true;\n",
              "          s.onload = () => {\n",
              "            VEGA_DEBUG[key] = version;\n",
              "            return resolve(paths[lib]);\n",
              "          };\n",
              "          s.onerror = () => reject(`Error loading script: ${paths[lib]}`);\n",
              "          s.src = paths[lib];\n",
              "        });\n",
              "    }\n",
              "\n",
              "    function showError(err) {\n",
              "      outputDiv.innerHTML = `<div class=\"error\" style=\"color:red;\">${err}</div>`;\n",
              "      throw err;\n",
              "    }\n",
              "\n",
              "    function displayChart(vegaEmbed) {\n",
              "      vegaEmbed(outputDiv, spec, embedOpt)\n",
              "        .catch(err => showError(`Javascript Error: ${err.message}<br>This usually means there's a typo in your chart specification. See the javascript console for the full traceback.`));\n",
              "    }\n",
              "\n",
              "    if(typeof define === \"function\" && define.amd) {\n",
              "      requirejs.config({paths});\n",
              "      require([\"vega-embed\"], displayChart, err => showError(`Error loading script: ${err.message}`));\n",
              "    } else {\n",
              "      maybeLoadScript(\"vega\", \"5\")\n",
              "        .then(() => maybeLoadScript(\"vega-lite\", \"5.16.3\"))\n",
              "        .then(() => maybeLoadScript(\"vega-embed\", \"6\"))\n",
              "        .catch(showError)\n",
              "        .then(() => displayChart(vegaEmbed));\n",
              "    }\n",
              "  })({\"$schema\": \"https://vega.github.io/schema/vega/v5.json\", \"data\": [{\"name\": \"source_0\", \"values\": [{\"text_name\": \"human_answers\", \"\": \"\", \"ngram\": \"mean\", \"value\": 8.70564992390856, \"value_start\": 0.0, \"value_end\": 8.70564992390856}, {\"text_name\": \"human_answers\", \"\": \"\", \"ngram\": \"stdev\", \"value\": 3.656225814639994, \"value_start\": 0.0, \"value_end\": 3.656225814639994}, {\"text_name\": \"chatgpt_answers\", \"\": \"\", \"ngram\": \"mean\", \"value\": 7.374222893095546, \"value_start\": 0.0, \"value_end\": 7.374222893095546}, {\"text_name\": \"chatgpt_answers\", \"\": \"\", \"ngram\": \"stdev\", \"value\": 1.5740251125986289, \"value_start\": 0.0, \"value_end\": 1.5740251125986289}]}, {\"name\": \"column_domain\", \"values\": [{\"ngram\": \"mean\", \"count\": 2}, {\"ngram\": \"stdev\", \"count\": 2}]}, {\"name\": \"source_0_color_domain_text_name\", \"values\": [{\"text_name\": \"human_answers\"}, {\"text_name\": \"chatgpt_answers\"}]}], \"signals\": [{\"name\": \"child_width\", \"value\": 250}, {\"name\": \"child_y_step\", \"value\": 20}], \"marks\": [{\"type\": \"group\", \"name\": \"column-title\", \"title\": {\"text\": \"root_ttr\", \"style\": \"guide-title\", \"offset\": 10}, \"role\": \"column-title\"}, {\"type\": \"group\", \"name\": \"column_header\", \"from\": {\"data\": \"column_domain\"}, \"sort\": {\"field\": \"datum[\\\"ngram\\\"]\", \"order\": \"ascending\"}, \"encode\": {\"update\": {\"width\": {\"signal\": \"child_width\"}}}, \"title\": {\"text\": {\"signal\": \"isValid(parent[\\\"ngram\\\"]) ? parent[\\\"ngram\\\"] : \\\"\\\"+parent[\\\"ngram\\\"]\"}, \"style\": \"guide-label\", \"frame\": \"group\", \"fontWeight\": \"bold\", \"offset\": 10}, \"role\": \"column-header\"}, {\"type\": \"group\", \"name\": \"cell\", \"from\": {\"facet\": {\"data\": \"source_0\", \"name\": \"facet\", \"groupby\": [\"ngram\"], \"aggregate\": {\"fields\": [\"text_name\"], \"ops\": [\"distinct\"], \"as\": [\"distinct_text_name\"]}}}, \"sort\": {\"field\": [\"datum[\\\"ngram\\\"]\"], \"order\": [\"ascending\"]}, \"encode\": {\"update\": {\"height\": {\"signal\": \"bandspace(datum[\\\"distinct_text_name\\\"], 0.1, 0.05) * child_y_step\"}, \"width\": {\"signal\": \"child_width\"}}}, \"data\": [{\"name\": \"facet_child_y_domain_text_name_2\", \"source\": \"facet\", \"transform\": [{\"type\": \"aggregate\", \"groupby\": [\"text_name\"], \"fields\": [], \"ops\": [], \"as\": []}, {\"type\": \"formula\", \"expr\": \"datum['text_name']\", \"as\": \"sort_field\"}, {\"type\": \"project\", \"fields\": [\"text_name\"]}]}], \"marks\": [{\"type\": \"group\", \"from\": {\"facet\": {\"data\": \"facet\", \"name\": \"stack_group_child_main\", \"groupby\": [\"text_name\"], \"aggregate\": {\"fields\": [\"value_start\", \"value_start\", \"value_end\", \"value_end\"], \"ops\": [\"min\", \"max\", \"min\", \"max\"]}}}, \"encode\": {\"update\": {\"cornerRadiusBottomRight\": {\"value\": 5}, \"x\": {\"signal\": \"min(scale('child_x',datum[\\\"min_value_start\\\"]),scale('child_x',datum[\\\"max_value_start\\\"]),scale('child_x',datum[\\\"min_value_end\\\"]),scale('child_x',datum[\\\"max_value_end\\\"]))\"}, \"x2\": {\"signal\": \"max(scale('child_x',datum[\\\"min_value_start\\\"]),scale('child_x',datum[\\\"max_value_start\\\"]),scale('child_x',datum[\\\"min_value_end\\\"]),scale('child_x',datum[\\\"max_value_end\\\"]))\"}, \"clip\": {\"value\": true}, \"cornerRadiusTopRight\": {\"value\": 5}, \"yc\": {\"field\": \"text_name\", \"scale\": \"child_y\", \"band\": 0.5}, \"height\": {\"value\": 15}}}, \"marks\": [{\"type\": \"group\", \"encode\": {\"update\": {\"x\": {\"field\": {\"signal\": null, \"datum\": null, \"group\": \"x\", \"parent\": null}, \"mult\": -1}, \"height\": {\"field\": {\"signal\": null, \"datum\": null, \"group\": \"height\", \"parent\": null}}}}, \"marks\": [{\"type\": \"rect\", \"name\": \"child_marks\", \"from\": {\"data\": \"stack_group_child_main\"}, \"encode\": {\"update\": {\"x\": {\"field\": \"value_end\", \"scale\": \"child_x\"}, \"tooltip\": {\"signal\": \"{\\\"text_name\\\": isValid(datum[\\\"text_name\\\"]) ? datum[\\\"text_name\\\"] : \\\"\\\"+datum[\\\"text_name\\\"], \\\"root_ttr value\\\": format(datum[\\\"value\\\"], \\\"\\\")}\"}, \"x2\": {\"field\": \"value_start\", \"scale\": \"child_x\"}, \"fill\": {\"field\": \"text_name\", \"scale\": \"color\"}, \"height\": {\"field\": {\"signal\": null, \"datum\": null, \"group\": \"height\", \"parent\": null}}}}, \"style\": [\"bar\"]}]}]}], \"scales\": [{\"name\": \"child_x\", \"type\": \"linear\", \"domain\": {\"data\": \"facet\", \"fields\": [\"value_start\", \"value_end\"]}, \"range\": [0, {\"signal\": \"child_width\"}], \"nice\": true, \"zero\": true}, {\"name\": \"child_y\", \"type\": \"band\", \"domain\": {\"data\": \"facet_child_y_domain_text_name_2\", \"field\": \"text_name\", \"sort\": true}, \"range\": {\"step\": {\"signal\": \"child_y_step\"}}, \"paddingInner\": 0.1, \"paddingOuter\": 0.05}], \"axes\": [{\"scale\": \"child_x\", \"ticks\": false, \"grid\": true, \"domain\": false, \"tickCount\": {\"signal\": \"ceil(child_width/40)\"}, \"labels\": false, \"gridScale\": \"child_y\", \"maxExtent\": 0, \"minExtent\": 0, \"orient\": \"bottom\", \"aria\": false, \"zindex\": 0}, {\"scale\": \"child_x\", \"zindex\": 0, \"tickCount\": {\"signal\": \"ceil(child_width/40)\"}, \"orient\": \"bottom\", \"labelOverlap\": true, \"grid\": false, \"labelFlush\": true}, {\"scale\": \"child_y\", \"grid\": false, \"orient\": \"left\", \"zindex\": 0}], \"style\": \"cell\"}], \"scales\": [{\"name\": \"color\", \"type\": \"ordinal\", \"domain\": {\"data\": \"source_0_color_domain_text_name\", \"field\": \"text_name\", \"sort\": true}, \"range\": \"category\"}], \"padding\": 5, \"legends\": [{\"fill\": \"color\", \"symbolType\": \"square\"}], \"background\": \"white\", \"layout\": {\"padding\": 20, \"offset\": {\"columnTitle\": 10}, \"columns\": {\"signal\": \"length(data('column_domain'))\"}, \"bounds\": \"full\", \"align\": \"none\", \"center\": true}}, {\"mode\": \"vega\"});\n",
              "</script>"
            ],
            "text/plain": [
              "alt.Chart(...)"
            ]
          },
          "metadata": {},
          "execution_count": 12
        }
      ],
      "source": [
        "charts[\"root_ttr\"][\"BarChart\"]"
      ]
    },
    {
      "cell_type": "markdown",
      "metadata": {
        "id": "Gnf8OV5KuVc2"
      },
      "source": [
        "Lastly, from the `npw_pmi` we see that the distribution of bigrams is a bit more balanced for human-authored texts, while ChatGPT appears to produce texts that include very specific bigrams with a much higher frequency. This might be a consequence of the different lexical variety between ChatGPT and human-authored texts."
      ]
    },
    {
      "cell_type": "code",
      "execution_count": 14,
      "metadata": {
        "colab": {
          "base_uri": "https://localhost:8080/",
          "height": 535
        },
        "id": "I5AlgfhSuVc3",
        "outputId": "6dabbe66-d90b-4dfc-fb74-5298226ef0ea"
      },
      "outputs": [
        {
          "output_type": "execute_result",
          "data": {
            "text/html": [
              "\n",
              "<style>\n",
              "  #altair-viz-4ac236724d724d98996d8fb7e2aa97bd.vega-embed {\n",
              "    width: 100%;\n",
              "    display: flex;\n",
              "  }\n",
              "\n",
              "  #altair-viz-4ac236724d724d98996d8fb7e2aa97bd.vega-embed details,\n",
              "  #altair-viz-4ac236724d724d98996d8fb7e2aa97bd.vega-embed details summary {\n",
              "    position: relative;\n",
              "  }\n",
              "</style>\n",
              "<div id=\"altair-viz-4ac236724d724d98996d8fb7e2aa97bd\"></div>\n",
              "<script type=\"text/javascript\">\n",
              "  var VEGA_DEBUG = (typeof VEGA_DEBUG == \"undefined\") ? {} : VEGA_DEBUG;\n",
              "  (function(spec, embedOpt){\n",
              "    let outputDiv = document.currentScript.previousElementSibling;\n",
              "    if (outputDiv.id !== \"altair-viz-4ac236724d724d98996d8fb7e2aa97bd\") {\n",
              "      outputDiv = document.getElementById(\"altair-viz-4ac236724d724d98996d8fb7e2aa97bd\");\n",
              "    }\n",
              "    const paths = {\n",
              "      \"vega\": \"https://cdn.jsdelivr.net/npm/vega@5?noext\",\n",
              "      \"vega-lib\": \"https://cdn.jsdelivr.net/npm/vega-lib?noext\",\n",
              "      \"vega-lite\": \"https://cdn.jsdelivr.net/npm/vega-lite@5.16.3?noext\",\n",
              "      \"vega-embed\": \"https://cdn.jsdelivr.net/npm/vega-embed@6?noext\",\n",
              "    };\n",
              "\n",
              "    function maybeLoadScript(lib, version) {\n",
              "      var key = `${lib.replace(\"-\", \"\")}_version`;\n",
              "      return (VEGA_DEBUG[key] == version) ?\n",
              "        Promise.resolve(paths[lib]) :\n",
              "        new Promise(function(resolve, reject) {\n",
              "          var s = document.createElement('script');\n",
              "          document.getElementsByTagName(\"head\")[0].appendChild(s);\n",
              "          s.async = true;\n",
              "          s.onload = () => {\n",
              "            VEGA_DEBUG[key] = version;\n",
              "            return resolve(paths[lib]);\n",
              "          };\n",
              "          s.onerror = () => reject(`Error loading script: ${paths[lib]}`);\n",
              "          s.src = paths[lib];\n",
              "        });\n",
              "    }\n",
              "\n",
              "    function showError(err) {\n",
              "      outputDiv.innerHTML = `<div class=\"error\" style=\"color:red;\">${err}</div>`;\n",
              "      throw err;\n",
              "    }\n",
              "\n",
              "    function displayChart(vegaEmbed) {\n",
              "      vegaEmbed(outputDiv, spec, embedOpt)\n",
              "        .catch(err => showError(`Javascript Error: ${err.message}<br>This usually means there's a typo in your chart specification. See the javascript console for the full traceback.`));\n",
              "    }\n",
              "\n",
              "    if(typeof define === \"function\" && define.amd) {\n",
              "      requirejs.config({paths});\n",
              "      require([\"vega-embed\"], displayChart, err => showError(`Error loading script: ${err.message}`));\n",
              "    } else {\n",
              "      maybeLoadScript(\"vega\", \"5\")\n",
              "        .then(() => maybeLoadScript(\"vega-lite\", \"5.16.3\"))\n",
              "        .then(() => maybeLoadScript(\"vega-embed\", \"6\"))\n",
              "        .catch(showError)\n",
              "        .then(() => displayChart(vegaEmbed));\n",
              "    }\n",
              "  })({\"$schema\": \"https://vega.github.io/schema/vega/v5.json\", \"data\": [{\"name\": \"source_0\", \"values\": [{\"text_name\": \"human_answers\", \"\": \"\", \"ngram\": \"tl dr\", \"value\": 0.6405890916079093, \"rank\": 1}, {\"text_name\": \"human_answers\", \"\": \"\", \"ngram\": \"lot people\", \"value\": 0.41292596814430826, \"rank\": 2}, {\"text_name\": \"human_answers\", \"\": \"\", \"ngram\": \"answer question\", \"value\": 0.32012709557788854, \"rank\": 3}, {\"text_name\": \"human_answers\", \"\": \"\", \"ngram\": \"speed light\", \"value\": 0.3021632390316036, \"rank\": 4}, {\"text_name\": \"human_answers\", \"\": \"\", \"ngram\": \"credit card\", \"value\": 0.2749215283584241, \"rank\": 5}, {\"text_name\": \"human_answers\", \"\": \"\", \"ngram\": \"short term\", \"value\": 0.2323626209840044, \"rank\": 6}, {\"text_name\": \"human_answers\", \"\": \"\", \"ngram\": \"lot money\", \"value\": 0.20051924640146404, \"rank\": 7}, {\"text_name\": \"human_answers\", \"\": \"\", \"ngram\": \"health care\", \"value\": 0.19889185148418023, \"rank\": 8}, {\"text_name\": \"human_answers\", \"\": \"\", \"ngram\": \"hope helps\", \"value\": 0.1956804810339848, \"rank\": 9}, {\"text_name\": \"human_answers\", \"\": \"\", \"ngram\": \"federal government\", \"value\": 0.19248501615506017, \"rank\": 10}, {\"text_name\": \"human_answers\", \"\": \"\", \"ngram\": \"000 000\", \"value\": 0.18425180068004904, \"rank\": 11}, {\"text_name\": \"human_answers\", \"\": \"\", \"ngram\": \"hope answered\", \"value\": 0.17076983522430456, \"rank\": 12}, {\"text_name\": \"human_answers\", \"\": \"\", \"ngram\": \"people people\", \"value\": 0.16280630795233028, \"rank\": 13}, {\"text_name\": \"human_answers\", \"\": \"\", \"ngram\": \"stock market\", \"value\": 0.1620808593521635, \"rank\": 14}, {\"text_name\": \"human_answers\", \"\": \"\", \"ngram\": \"hard drive\", \"value\": 0.15381540996144735, \"rank\": 15}, {\"text_name\": \"human_answers\", \"\": \"\", \"ngram\": \"pay taxes\", \"value\": 0.1506784348650999, \"rank\": 16}, {\"text_name\": \"human_answers\", \"\": \"\", \"ngram\": \"100 000\", \"value\": 0.14426651426050296, \"rank\": 17}, {\"text_name\": \"human_answers\", \"\": \"\", \"ngram\": \"black hole\", \"value\": 0.14183454328895234, \"rank\": 18}, {\"text_name\": \"human_answers\", \"\": \"\", \"ngram\": \"money money\", \"value\": 0.14179571525723283, \"rank\": 19}, {\"text_name\": \"human_answers\", \"\": \"\", \"ngram\": \"short answer\", \"value\": 0.1406006760341871, \"rank\": 20}, {\"text_name\": \"chatgpt_answers\", \"\": \"\", \"ngram\": \"healthcare provider\", \"value\": 1.0, \"rank\": 1}, {\"text_name\": \"chatgpt_answers\", \"\": \"\", \"ngram\": \"hope helps\", \"value\": 0.973917878882932, \"rank\": 2}, {\"text_name\": \"chatgpt_answers\", \"\": \"\", \"ngram\": \"credit card\", \"value\": 0.8362856204855673, \"rank\": 3}, {\"text_name\": \"chatgpt_answers\", \"\": \"\", \"ngram\": \"factors including\", \"value\": 0.554460073708757, \"rank\": 4}, {\"text_name\": \"chatgpt_answers\", \"\": \"\", \"ngram\": \"nit note\", \"value\": 0.516280897189758, \"rank\": 5}, {\"text_name\": \"chatgpt_answers\", \"\": \"\", \"ngram\": \"helps questions\", \"value\": 0.4964439413222334, \"rank\": 6}, {\"text_name\": \"chatgpt_answers\", \"\": \"\", \"ngram\": \"wide range\", \"value\": 0.49301267854997904, \"rank\": 7}, {\"text_name\": \"chatgpt_answers\", \"\": \"\", \"ngram\": \"variety factors\", \"value\": 0.4768659961336245, \"rank\": 8}, {\"text_name\": \"chatgpt_answers\", \"\": \"\", \"ngram\": \"financial advisor\", \"value\": 0.47315283541088204, \"rank\": 9}, {\"text_name\": \"chatgpt_answers\", \"\": \"\", \"ngram\": \"credit score\", \"value\": 0.4432906475375408, \"rank\": 10}, {\"text_name\": \"chatgpt_answers\", \"\": \"\", \"ngram\": \"period time\", \"value\": 0.4430980179107371, \"rank\": 11}, {\"text_name\": \"chatgpt_answers\", \"\": \"\", \"ngram\": \"stock price\", \"value\": 0.4296098394457008, \"rank\": 12}, {\"text_name\": \"chatgpt_answers\", \"\": \"\", \"ngram\": \"tax return\", \"value\": 0.3793040891816095, \"rank\": 13}, {\"text_name\": \"chatgpt_answers\", \"\": \"\", \"ngram\": \"worth noting\", \"value\": 0.37443999354327584, \"rank\": 14}, {\"text_name\": \"chatgpt_answers\", \"\": \"\", \"ngram\": \"financial situation\", \"value\": 0.36312732548495186, \"rank\": 15}, {\"text_name\": \"chatgpt_answers\", \"\": \"\", \"ngram\": \"helps explain\", \"value\": 0.360908703764039, \"rank\": 16}, {\"text_name\": \"chatgpt_answers\", \"\": \"\", \"ngram\": \"nanother reason\", \"value\": 0.3554395407575642, \"rank\": 17}, {\"text_name\": \"chatgpt_answers\", \"\": \"\", \"ngram\": \"tax professional\", \"value\": 0.3493533355404242, \"rank\": 18}, {\"text_name\": \"chatgpt_answers\", \"\": \"\", \"ngram\": \"stock market\", \"value\": 0.3488217232109916, \"rank\": 19}, {\"text_name\": \"chatgpt_answers\", \"\": \"\", \"ngram\": \"vary depending\", \"value\": 0.34398306933864414, \"rank\": 20}]}, {\"name\": \"column_domain\", \"values\": [{\"text_name\": \"human_answers\", \"count\": 20}, {\"text_name\": \"chatgpt_answers\", \"count\": 20}]}, {\"name\": \"data_2\"}, {\"name\": \"source_0_color_domain_ngram\", \"values\": [{\"ngram\": \"tl dr\", \"sort_field\": 0.6405890916079093}, {\"ngram\": \"lot people\", \"sort_field\": 0.41292596814430826}, {\"ngram\": \"answer question\", \"sort_field\": 0.32012709557788854}, {\"ngram\": \"speed light\", \"sort_field\": 0.3021632390316036}, {\"ngram\": \"credit card\", \"sort_field\": 1.1112071488439914}, {\"ngram\": \"short term\", \"sort_field\": 0.2323626209840044}, {\"ngram\": \"lot money\", \"sort_field\": 0.20051924640146404}, {\"ngram\": \"health care\", \"sort_field\": 0.19889185148418023}, {\"ngram\": \"hope helps\", \"sort_field\": 1.1695983599169169}, {\"ngram\": \"federal government\", \"sort_field\": 0.19248501615506017}, {\"ngram\": \"000 000\", \"sort_field\": 0.18425180068004904}, {\"ngram\": \"hope answered\", \"sort_field\": 0.17076983522430456}, {\"ngram\": \"people people\", \"sort_field\": 0.16280630795233028}, {\"ngram\": \"stock market\", \"sort_field\": 0.510902582563155}, {\"ngram\": \"hard drive\", \"sort_field\": 0.15381540996144735}, {\"ngram\": \"pay taxes\", \"sort_field\": 0.1506784348650999}, {\"ngram\": \"100 000\", \"sort_field\": 0.14426651426050296}, {\"ngram\": \"black hole\", \"sort_field\": 0.14183454328895234}, {\"ngram\": \"money money\", \"sort_field\": 0.14179571525723283}, {\"ngram\": \"short answer\", \"sort_field\": 0.1406006760341871}, {\"ngram\": \"healthcare provider\", \"sort_field\": 1.0}, {\"ngram\": \"factors including\", \"sort_field\": 0.554460073708757}, {\"ngram\": \"nit note\", \"sort_field\": 0.516280897189758}, {\"ngram\": \"helps questions\", \"sort_field\": 0.4964439413222334}, {\"ngram\": \"wide range\", \"sort_field\": 0.49301267854997904}, {\"ngram\": \"variety factors\", \"sort_field\": 0.4768659961336245}, {\"ngram\": \"financial advisor\", \"sort_field\": 0.47315283541088204}, {\"ngram\": \"credit score\", \"sort_field\": 0.4432906475375408}, {\"ngram\": \"period time\", \"sort_field\": 0.4430980179107371}, {\"ngram\": \"stock price\", \"sort_field\": 0.4296098394457008}, {\"ngram\": \"tax return\", \"sort_field\": 0.3793040891816095}, {\"ngram\": \"worth noting\", \"sort_field\": 0.37443999354327584}, {\"ngram\": \"financial situation\", \"sort_field\": 0.36312732548495186}, {\"ngram\": \"helps explain\", \"sort_field\": 0.360908703764039}, {\"ngram\": \"nanother reason\", \"sort_field\": 0.3554395407575642}, {\"ngram\": \"tax professional\", \"sort_field\": 0.3493533355404242}, {\"ngram\": \"vary depending\", \"sort_field\": 0.34398306933864414}]}], \"signals\": [{\"name\": \"child_width\", \"value\": 400}, {\"name\": \"child_y_step\", \"value\": 20}, {\"name\": \"param_1\", \"value\": \"\", \"bind\": {\"input\": \"search\", \"placeholder\": \"insert 2-gram...\", \"name\": \"Filter by 2-gram \"}}], \"marks\": [{\"type\": \"group\", \"name\": \"column-title\", \"title\": {\"text\": \"text_name\", \"style\": \"guide-title\", \"offset\": 10}, \"role\": \"column-title\"}, {\"type\": \"group\", \"name\": \"column_header\", \"from\": {\"data\": \"column_domain\"}, \"sort\": {\"field\": \"datum[\\\"text_name\\\"]\", \"order\": \"ascending\"}, \"encode\": {\"update\": {\"width\": {\"signal\": \"child_width\"}}}, \"title\": {\"text\": {\"signal\": \"isValid(parent[\\\"text_name\\\"]) ? parent[\\\"text_name\\\"] : \\\"\\\"+parent[\\\"text_name\\\"]\"}, \"style\": \"guide-label\", \"offset\": 10, \"fontWeight\": \"bold\", \"frame\": \"group\"}, \"role\": \"column-header\"}, {\"type\": \"group\", \"name\": \"cell\", \"from\": {\"facet\": {\"data\": \"source_0\", \"name\": \"facet\", \"groupby\": [\"text_name\"], \"aggregate\": {\"fields\": [\"ngram\"], \"ops\": [\"distinct\"], \"as\": [\"distinct_ngram\"]}}}, \"sort\": {\"field\": [\"datum[\\\"text_name\\\"]\"], \"order\": [\"ascending\"]}, \"encode\": {\"update\": {\"width\": {\"signal\": \"child_width\"}, \"height\": {\"signal\": \"bandspace(datum[\\\"distinct_ngram\\\"], 0.1, 0.05) * child_y_step\"}}}, \"data\": [{\"name\": \"data_0\", \"source\": \"facet\", \"transform\": [{\"type\": \"stack\", \"field\": \"value\", \"groupby\": [\"ngram\"], \"sort\": {\"field\": [], \"order\": []}, \"as\": [\"value_start\", \"value_end\"], \"offset\": \"zero\"}, {\"type\": \"filter\", \"expr\": \"isValid(datum[\\\"value\\\"]) && isFinite(+datum[\\\"value\\\"])\"}]}, {\"name\": \"facet_child_y_domain_ngram_2\", \"source\": \"facet\", \"transform\": [{\"type\": \"aggregate\", \"groupby\": [\"ngram\"], \"fields\": [\"value\"], \"ops\": [\"sum\"], \"as\": [\"sort_field\"]}, {\"type\": \"project\", \"fields\": [\"ngram\", \"sort_field\"]}]}], \"marks\": [{\"type\": \"group\", \"from\": {\"facet\": {\"data\": \"data_0\", \"name\": \"stack_group_child_main\", \"groupby\": [\"ngram\"], \"aggregate\": {\"fields\": [\"value_start\", \"value_start\", \"value_end\", \"value_end\"], \"ops\": [\"min\", \"max\", \"min\", \"max\"]}}}, \"encode\": {\"update\": {\"cornerRadiusTopRight\": {\"value\": 5}, \"x\": {\"signal\": \"min(scale('child_x',datum[\\\"min_value_start\\\"]),scale('child_x',datum[\\\"max_value_start\\\"]),scale('child_x',datum[\\\"min_value_end\\\"]),scale('child_x',datum[\\\"max_value_end\\\"]))\"}, \"height\": {\"value\": 15}, \"yc\": {\"field\": \"ngram\", \"scale\": \"child_y\", \"band\": 0.5}, \"cornerRadiusBottomRight\": {\"value\": 5}, \"clip\": {\"value\": true}, \"x2\": {\"signal\": \"max(scale('child_x',datum[\\\"min_value_start\\\"]),scale('child_x',datum[\\\"max_value_start\\\"]),scale('child_x',datum[\\\"min_value_end\\\"]),scale('child_x',datum[\\\"max_value_end\\\"]))\"}}}, \"marks\": [{\"type\": \"group\", \"encode\": {\"update\": {\"height\": {\"field\": {\"signal\": null, \"datum\": null, \"group\": \"height\", \"parent\": null}}, \"x\": {\"field\": {\"signal\": null, \"datum\": null, \"group\": \"x\", \"parent\": null}, \"mult\": -1}}}, \"marks\": [{\"type\": \"rect\", \"name\": \"child_marks\", \"from\": {\"data\": \"stack_group_child_main\"}, \"encode\": {\"update\": {\"x\": {\"field\": \"value_end\", \"scale\": \"child_x\"}, \"x2\": {\"field\": \"value_start\", \"scale\": \"child_x\"}, \"fill\": [{\"field\": \"ngram\", \"scale\": \"color\", \"test\": \"test(regexp(param_1,'i'),datum.ngram)\"}, {\"value\": \"\"}], \"tooltip\": {\"signal\": \"{\\\"2-gram\\\": isValid(datum[\\\"ngram\\\"]) ? datum[\\\"ngram\\\"] : \\\"\\\"+datum[\\\"ngram\\\"], \\\"npw_pmi value\\\": format(datum[\\\"value\\\"], \\\"\\\")}\"}, \"opacity\": [{\"value\": 1, \"test\": \"test(regexp(param_1,'i'),datum.ngram)\"}, {\"value\": 0}], \"height\": {\"field\": {\"signal\": null, \"datum\": null, \"group\": \"height\", \"parent\": null}}}}, \"style\": [\"bar\"]}]}]}], \"scales\": [{\"name\": \"child_x\", \"type\": \"linear\", \"domain\": {\"data\": \"data_0\", \"fields\": [\"value_start\", \"value_end\"]}, \"range\": [0, {\"signal\": \"child_width\"}], \"nice\": true, \"zero\": true}, {\"name\": \"child_y\", \"type\": \"band\", \"domain\": {\"data\": \"facet_child_y_domain_ngram_2\", \"field\": \"ngram\", \"sort\": {\"op\": \"max\", \"field\": \"sort_field\", \"order\": \"descending\"}}, \"range\": {\"step\": {\"signal\": \"child_y_step\"}}, \"paddingInner\": 0.1, \"paddingOuter\": 0.05}], \"axes\": [{\"scale\": \"child_x\", \"zindex\": 0, \"grid\": true, \"gridScale\": \"child_y\", \"tickCount\": {\"signal\": \"ceil(child_width/40)\"}, \"minExtent\": 0, \"aria\": false, \"ticks\": false, \"domain\": false, \"maxExtent\": 0, \"labels\": false, \"orient\": \"bottom\"}, {\"scale\": \"child_x\", \"grid\": false, \"zindex\": 0, \"orient\": \"bottom\", \"title\": \"npw_pmi\", \"labelFlush\": true, \"labelOverlap\": true, \"tickCount\": {\"signal\": \"ceil(child_width/40)\"}}, {\"scale\": \"child_y\", \"orient\": \"left\", \"zindex\": 0, \"grid\": false}], \"style\": \"cell\"}], \"scales\": [{\"name\": \"color\", \"type\": \"ordinal\", \"domain\": {\"data\": \"source_0_color_domain_ngram\", \"field\": \"ngram\", \"sort\": {\"op\": \"max\", \"field\": \"sort_field\", \"order\": \"descending\"}}, \"range\": \"category\"}], \"background\": \"white\", \"layout\": {\"padding\": 20, \"offset\": {\"columnTitle\": 10}, \"columns\": {\"signal\": \"length(data('column_domain'))\"}, \"bounds\": \"full\", \"align\": \"none\", \"center\": true}, \"padding\": 5, \"legends\": [{\"fill\": \"color\", \"symbolType\": \"square\", \"encode\": {\"symbols\": {\"update\": {\"opacity\": {\"value\": 1}}}}}]}, {\"mode\": \"vega\"});\n",
              "</script>"
            ],
            "text/plain": [
              "alt.Chart(...)"
            ]
          },
          "metadata": {},
          "execution_count": 14
        }
      ],
      "source": [
        "charts[\"npw_pmi\"][\"BarChart\"]"
      ]
    }
  ],
  "metadata": {
    "colab": {
      "provenance": []
    },
    "kernelspec": {
      "display_name": "Python 3",
      "name": "python3"
    },
    "language_info": {
      "codemirror_mode": {
        "name": "ipython",
        "version": 3
      },
      "file_extension": ".py",
      "mimetype": "text/x-python",
      "name": "python",
      "nbconvert_exporter": "python",
      "pygments_lexer": "ipython3",
      "version": "3.9.18"
    },
    "widgets": {
      "application/vnd.jupyter.widget-state+json": {
        "06b1fbd27e91498c9a63962dfee822c3": {
          "model_module": "@jupyter-widgets/controls",
          "model_name": "HBoxModel",
          "model_module_version": "1.5.0",
          "state": {
            "_dom_classes": [],
            "_model_module": "@jupyter-widgets/controls",
            "_model_module_version": "1.5.0",
            "_model_name": "HBoxModel",
            "_view_count": null,
            "_view_module": "@jupyter-widgets/controls",
            "_view_module_version": "1.5.0",
            "_view_name": "HBoxView",
            "box_style": "",
            "children": [
              "IPY_MODEL_550576a70e5d4b36b0c98c8f37c60c62",
              "IPY_MODEL_8c7cb31c0dfb4ccb9d71b10d8057b077",
              "IPY_MODEL_d3f3525061314cb9b61ec294bff2fa76"
            ],
            "layout": "IPY_MODEL_3baf8e8c31d246f685ee0dda2c7e3c03"
          }
        },
        "550576a70e5d4b36b0c98c8f37c60c62": {
          "model_module": "@jupyter-widgets/controls",
          "model_name": "HTMLModel",
          "model_module_version": "1.5.0",
          "state": {
            "_dom_classes": [],
            "_model_module": "@jupyter-widgets/controls",
            "_model_module_version": "1.5.0",
            "_model_name": "HTMLModel",
            "_view_count": null,
            "_view_module": "@jupyter-widgets/controls",
            "_view_module_version": "1.5.0",
            "_view_name": "HTMLView",
            "description": "",
            "description_tooltip": null,
            "layout": "IPY_MODEL_4a4e493447f34d438b58f756313d1026",
            "placeholder": "​",
            "style": "IPY_MODEL_f7f539a200bd4b0ab274e909272cf2de",
            "value": "Downloading data: 100%"
          }
        },
        "8c7cb31c0dfb4ccb9d71b10d8057b077": {
          "model_module": "@jupyter-widgets/controls",
          "model_name": "FloatProgressModel",
          "model_module_version": "1.5.0",
          "state": {
            "_dom_classes": [],
            "_model_module": "@jupyter-widgets/controls",
            "_model_module_version": "1.5.0",
            "_model_name": "FloatProgressModel",
            "_view_count": null,
            "_view_module": "@jupyter-widgets/controls",
            "_view_module_version": "1.5.0",
            "_view_name": "ProgressView",
            "bar_style": "success",
            "description": "",
            "description_tooltip": null,
            "layout": "IPY_MODEL_5a6e46e65891418d938eab6defc93bb8",
            "max": 39283467,
            "min": 0,
            "orientation": "horizontal",
            "style": "IPY_MODEL_3993519566fc45b089fc6cacfad31062",
            "value": 39283467
          }
        },
        "d3f3525061314cb9b61ec294bff2fa76": {
          "model_module": "@jupyter-widgets/controls",
          "model_name": "HTMLModel",
          "model_module_version": "1.5.0",
          "state": {
            "_dom_classes": [],
            "_model_module": "@jupyter-widgets/controls",
            "_model_module_version": "1.5.0",
            "_model_name": "HTMLModel",
            "_view_count": null,
            "_view_module": "@jupyter-widgets/controls",
            "_view_module_version": "1.5.0",
            "_view_name": "HTMLView",
            "description": "",
            "description_tooltip": null,
            "layout": "IPY_MODEL_e13c55b325be4652b03f2af8d0238f5f",
            "placeholder": "​",
            "style": "IPY_MODEL_c13ae65551584109865ee2d161eb2f8a",
            "value": " 39.3M/39.3M [00:00&lt;00:00, 70.5MB/s]"
          }
        },
        "3baf8e8c31d246f685ee0dda2c7e3c03": {
          "model_module": "@jupyter-widgets/base",
          "model_name": "LayoutModel",
          "model_module_version": "1.2.0",
          "state": {
            "_model_module": "@jupyter-widgets/base",
            "_model_module_version": "1.2.0",
            "_model_name": "LayoutModel",
            "_view_count": null,
            "_view_module": "@jupyter-widgets/base",
            "_view_module_version": "1.2.0",
            "_view_name": "LayoutView",
            "align_content": null,
            "align_items": null,
            "align_self": null,
            "border": null,
            "bottom": null,
            "display": null,
            "flex": null,
            "flex_flow": null,
            "grid_area": null,
            "grid_auto_columns": null,
            "grid_auto_flow": null,
            "grid_auto_rows": null,
            "grid_column": null,
            "grid_gap": null,
            "grid_row": null,
            "grid_template_areas": null,
            "grid_template_columns": null,
            "grid_template_rows": null,
            "height": null,
            "justify_content": null,
            "justify_items": null,
            "left": null,
            "margin": null,
            "max_height": null,
            "max_width": null,
            "min_height": null,
            "min_width": null,
            "object_fit": null,
            "object_position": null,
            "order": null,
            "overflow": null,
            "overflow_x": null,
            "overflow_y": null,
            "padding": null,
            "right": null,
            "top": null,
            "visibility": null,
            "width": null
          }
        },
        "4a4e493447f34d438b58f756313d1026": {
          "model_module": "@jupyter-widgets/base",
          "model_name": "LayoutModel",
          "model_module_version": "1.2.0",
          "state": {
            "_model_module": "@jupyter-widgets/base",
            "_model_module_version": "1.2.0",
            "_model_name": "LayoutModel",
            "_view_count": null,
            "_view_module": "@jupyter-widgets/base",
            "_view_module_version": "1.2.0",
            "_view_name": "LayoutView",
            "align_content": null,
            "align_items": null,
            "align_self": null,
            "border": null,
            "bottom": null,
            "display": null,
            "flex": null,
            "flex_flow": null,
            "grid_area": null,
            "grid_auto_columns": null,
            "grid_auto_flow": null,
            "grid_auto_rows": null,
            "grid_column": null,
            "grid_gap": null,
            "grid_row": null,
            "grid_template_areas": null,
            "grid_template_columns": null,
            "grid_template_rows": null,
            "height": null,
            "justify_content": null,
            "justify_items": null,
            "left": null,
            "margin": null,
            "max_height": null,
            "max_width": null,
            "min_height": null,
            "min_width": null,
            "object_fit": null,
            "object_position": null,
            "order": null,
            "overflow": null,
            "overflow_x": null,
            "overflow_y": null,
            "padding": null,
            "right": null,
            "top": null,
            "visibility": null,
            "width": null
          }
        },
        "f7f539a200bd4b0ab274e909272cf2de": {
          "model_module": "@jupyter-widgets/controls",
          "model_name": "DescriptionStyleModel",
          "model_module_version": "1.5.0",
          "state": {
            "_model_module": "@jupyter-widgets/controls",
            "_model_module_version": "1.5.0",
            "_model_name": "DescriptionStyleModel",
            "_view_count": null,
            "_view_module": "@jupyter-widgets/base",
            "_view_module_version": "1.2.0",
            "_view_name": "StyleView",
            "description_width": ""
          }
        },
        "5a6e46e65891418d938eab6defc93bb8": {
          "model_module": "@jupyter-widgets/base",
          "model_name": "LayoutModel",
          "model_module_version": "1.2.0",
          "state": {
            "_model_module": "@jupyter-widgets/base",
            "_model_module_version": "1.2.0",
            "_model_name": "LayoutModel",
            "_view_count": null,
            "_view_module": "@jupyter-widgets/base",
            "_view_module_version": "1.2.0",
            "_view_name": "LayoutView",
            "align_content": null,
            "align_items": null,
            "align_self": null,
            "border": null,
            "bottom": null,
            "display": null,
            "flex": null,
            "flex_flow": null,
            "grid_area": null,
            "grid_auto_columns": null,
            "grid_auto_flow": null,
            "grid_auto_rows": null,
            "grid_column": null,
            "grid_gap": null,
            "grid_row": null,
            "grid_template_areas": null,
            "grid_template_columns": null,
            "grid_template_rows": null,
            "height": null,
            "justify_content": null,
            "justify_items": null,
            "left": null,
            "margin": null,
            "max_height": null,
            "max_width": null,
            "min_height": null,
            "min_width": null,
            "object_fit": null,
            "object_position": null,
            "order": null,
            "overflow": null,
            "overflow_x": null,
            "overflow_y": null,
            "padding": null,
            "right": null,
            "top": null,
            "visibility": null,
            "width": null
          }
        },
        "3993519566fc45b089fc6cacfad31062": {
          "model_module": "@jupyter-widgets/controls",
          "model_name": "ProgressStyleModel",
          "model_module_version": "1.5.0",
          "state": {
            "_model_module": "@jupyter-widgets/controls",
            "_model_module_version": "1.5.0",
            "_model_name": "ProgressStyleModel",
            "_view_count": null,
            "_view_module": "@jupyter-widgets/base",
            "_view_module_version": "1.2.0",
            "_view_name": "StyleView",
            "bar_color": null,
            "description_width": ""
          }
        },
        "e13c55b325be4652b03f2af8d0238f5f": {
          "model_module": "@jupyter-widgets/base",
          "model_name": "LayoutModel",
          "model_module_version": "1.2.0",
          "state": {
            "_model_module": "@jupyter-widgets/base",
            "_model_module_version": "1.2.0",
            "_model_name": "LayoutModel",
            "_view_count": null,
            "_view_module": "@jupyter-widgets/base",
            "_view_module_version": "1.2.0",
            "_view_name": "LayoutView",
            "align_content": null,
            "align_items": null,
            "align_self": null,
            "border": null,
            "bottom": null,
            "display": null,
            "flex": null,
            "flex_flow": null,
            "grid_area": null,
            "grid_auto_columns": null,
            "grid_auto_flow": null,
            "grid_auto_rows": null,
            "grid_column": null,
            "grid_gap": null,
            "grid_row": null,
            "grid_template_areas": null,
            "grid_template_columns": null,
            "grid_template_rows": null,
            "height": null,
            "justify_content": null,
            "justify_items": null,
            "left": null,
            "margin": null,
            "max_height": null,
            "max_width": null,
            "min_height": null,
            "min_width": null,
            "object_fit": null,
            "object_position": null,
            "order": null,
            "overflow": null,
            "overflow_x": null,
            "overflow_y": null,
            "padding": null,
            "right": null,
            "top": null,
            "visibility": null,
            "width": null
          }
        },
        "c13ae65551584109865ee2d161eb2f8a": {
          "model_module": "@jupyter-widgets/controls",
          "model_name": "DescriptionStyleModel",
          "model_module_version": "1.5.0",
          "state": {
            "_model_module": "@jupyter-widgets/controls",
            "_model_module_version": "1.5.0",
            "_model_name": "DescriptionStyleModel",
            "_view_count": null,
            "_view_module": "@jupyter-widgets/base",
            "_view_module_version": "1.2.0",
            "_view_name": "StyleView",
            "description_width": ""
          }
        },
        "554aaa78e95546938af41963925de59c": {
          "model_module": "@jupyter-widgets/controls",
          "model_name": "HBoxModel",
          "model_module_version": "1.5.0",
          "state": {
            "_dom_classes": [],
            "_model_module": "@jupyter-widgets/controls",
            "_model_module_version": "1.5.0",
            "_model_name": "HBoxModel",
            "_view_count": null,
            "_view_module": "@jupyter-widgets/controls",
            "_view_module_version": "1.5.0",
            "_view_name": "HBoxView",
            "box_style": "",
            "children": [
              "IPY_MODEL_821e3dafdedb46c194e65ddcd61415bb",
              "IPY_MODEL_50e73edc777d49bfb2d4d97335b2ab9b",
              "IPY_MODEL_60d3c13dbb8f45a4bb20dfc181254441"
            ],
            "layout": "IPY_MODEL_c1ba528547b249acb145c230c1014deb"
          }
        },
        "821e3dafdedb46c194e65ddcd61415bb": {
          "model_module": "@jupyter-widgets/controls",
          "model_name": "HTMLModel",
          "model_module_version": "1.5.0",
          "state": {
            "_dom_classes": [],
            "_model_module": "@jupyter-widgets/controls",
            "_model_module_version": "1.5.0",
            "_model_name": "HTMLModel",
            "_view_count": null,
            "_view_module": "@jupyter-widgets/controls",
            "_view_module_version": "1.5.0",
            "_view_name": "HTMLView",
            "description": "",
            "description_tooltip": null,
            "layout": "IPY_MODEL_7b3cb325b05446479dc468fab77eda10",
            "placeholder": "​",
            "style": "IPY_MODEL_c4e64b2c1ec5415e9ec51da7aab95aef",
            "value": "Generating train split: 100%"
          }
        },
        "50e73edc777d49bfb2d4d97335b2ab9b": {
          "model_module": "@jupyter-widgets/controls",
          "model_name": "FloatProgressModel",
          "model_module_version": "1.5.0",
          "state": {
            "_dom_classes": [],
            "_model_module": "@jupyter-widgets/controls",
            "_model_module_version": "1.5.0",
            "_model_name": "FloatProgressModel",
            "_view_count": null,
            "_view_module": "@jupyter-widgets/controls",
            "_view_module_version": "1.5.0",
            "_view_name": "ProgressView",
            "bar_style": "success",
            "description": "",
            "description_tooltip": null,
            "layout": "IPY_MODEL_bda26790d50840bb85edbc97111985a0",
            "max": 24322,
            "min": 0,
            "orientation": "horizontal",
            "style": "IPY_MODEL_aaf8e0c4a38c41d5bf5f4a0e10302dd1",
            "value": 24322
          }
        },
        "60d3c13dbb8f45a4bb20dfc181254441": {
          "model_module": "@jupyter-widgets/controls",
          "model_name": "HTMLModel",
          "model_module_version": "1.5.0",
          "state": {
            "_dom_classes": [],
            "_model_module": "@jupyter-widgets/controls",
            "_model_module_version": "1.5.0",
            "_model_name": "HTMLModel",
            "_view_count": null,
            "_view_module": "@jupyter-widgets/controls",
            "_view_module_version": "1.5.0",
            "_view_name": "HTMLView",
            "description": "",
            "description_tooltip": null,
            "layout": "IPY_MODEL_582f3041f7a2403da6907d642e62ac37",
            "placeholder": "​",
            "style": "IPY_MODEL_7824425f7ffe40609c176d35685a233a",
            "value": " 24322/24322 [00:00&lt;00:00, 38679.42 examples/s]"
          }
        },
        "c1ba528547b249acb145c230c1014deb": {
          "model_module": "@jupyter-widgets/base",
          "model_name": "LayoutModel",
          "model_module_version": "1.2.0",
          "state": {
            "_model_module": "@jupyter-widgets/base",
            "_model_module_version": "1.2.0",
            "_model_name": "LayoutModel",
            "_view_count": null,
            "_view_module": "@jupyter-widgets/base",
            "_view_module_version": "1.2.0",
            "_view_name": "LayoutView",
            "align_content": null,
            "align_items": null,
            "align_self": null,
            "border": null,
            "bottom": null,
            "display": null,
            "flex": null,
            "flex_flow": null,
            "grid_area": null,
            "grid_auto_columns": null,
            "grid_auto_flow": null,
            "grid_auto_rows": null,
            "grid_column": null,
            "grid_gap": null,
            "grid_row": null,
            "grid_template_areas": null,
            "grid_template_columns": null,
            "grid_template_rows": null,
            "height": null,
            "justify_content": null,
            "justify_items": null,
            "left": null,
            "margin": null,
            "max_height": null,
            "max_width": null,
            "min_height": null,
            "min_width": null,
            "object_fit": null,
            "object_position": null,
            "order": null,
            "overflow": null,
            "overflow_x": null,
            "overflow_y": null,
            "padding": null,
            "right": null,
            "top": null,
            "visibility": null,
            "width": null
          }
        },
        "7b3cb325b05446479dc468fab77eda10": {
          "model_module": "@jupyter-widgets/base",
          "model_name": "LayoutModel",
          "model_module_version": "1.2.0",
          "state": {
            "_model_module": "@jupyter-widgets/base",
            "_model_module_version": "1.2.0",
            "_model_name": "LayoutModel",
            "_view_count": null,
            "_view_module": "@jupyter-widgets/base",
            "_view_module_version": "1.2.0",
            "_view_name": "LayoutView",
            "align_content": null,
            "align_items": null,
            "align_self": null,
            "border": null,
            "bottom": null,
            "display": null,
            "flex": null,
            "flex_flow": null,
            "grid_area": null,
            "grid_auto_columns": null,
            "grid_auto_flow": null,
            "grid_auto_rows": null,
            "grid_column": null,
            "grid_gap": null,
            "grid_row": null,
            "grid_template_areas": null,
            "grid_template_columns": null,
            "grid_template_rows": null,
            "height": null,
            "justify_content": null,
            "justify_items": null,
            "left": null,
            "margin": null,
            "max_height": null,
            "max_width": null,
            "min_height": null,
            "min_width": null,
            "object_fit": null,
            "object_position": null,
            "order": null,
            "overflow": null,
            "overflow_x": null,
            "overflow_y": null,
            "padding": null,
            "right": null,
            "top": null,
            "visibility": null,
            "width": null
          }
        },
        "c4e64b2c1ec5415e9ec51da7aab95aef": {
          "model_module": "@jupyter-widgets/controls",
          "model_name": "DescriptionStyleModel",
          "model_module_version": "1.5.0",
          "state": {
            "_model_module": "@jupyter-widgets/controls",
            "_model_module_version": "1.5.0",
            "_model_name": "DescriptionStyleModel",
            "_view_count": null,
            "_view_module": "@jupyter-widgets/base",
            "_view_module_version": "1.2.0",
            "_view_name": "StyleView",
            "description_width": ""
          }
        },
        "bda26790d50840bb85edbc97111985a0": {
          "model_module": "@jupyter-widgets/base",
          "model_name": "LayoutModel",
          "model_module_version": "1.2.0",
          "state": {
            "_model_module": "@jupyter-widgets/base",
            "_model_module_version": "1.2.0",
            "_model_name": "LayoutModel",
            "_view_count": null,
            "_view_module": "@jupyter-widgets/base",
            "_view_module_version": "1.2.0",
            "_view_name": "LayoutView",
            "align_content": null,
            "align_items": null,
            "align_self": null,
            "border": null,
            "bottom": null,
            "display": null,
            "flex": null,
            "flex_flow": null,
            "grid_area": null,
            "grid_auto_columns": null,
            "grid_auto_flow": null,
            "grid_auto_rows": null,
            "grid_column": null,
            "grid_gap": null,
            "grid_row": null,
            "grid_template_areas": null,
            "grid_template_columns": null,
            "grid_template_rows": null,
            "height": null,
            "justify_content": null,
            "justify_items": null,
            "left": null,
            "margin": null,
            "max_height": null,
            "max_width": null,
            "min_height": null,
            "min_width": null,
            "object_fit": null,
            "object_position": null,
            "order": null,
            "overflow": null,
            "overflow_x": null,
            "overflow_y": null,
            "padding": null,
            "right": null,
            "top": null,
            "visibility": null,
            "width": null
          }
        },
        "aaf8e0c4a38c41d5bf5f4a0e10302dd1": {
          "model_module": "@jupyter-widgets/controls",
          "model_name": "ProgressStyleModel",
          "model_module_version": "1.5.0",
          "state": {
            "_model_module": "@jupyter-widgets/controls",
            "_model_module_version": "1.5.0",
            "_model_name": "ProgressStyleModel",
            "_view_count": null,
            "_view_module": "@jupyter-widgets/base",
            "_view_module_version": "1.2.0",
            "_view_name": "StyleView",
            "bar_color": null,
            "description_width": ""
          }
        },
        "582f3041f7a2403da6907d642e62ac37": {
          "model_module": "@jupyter-widgets/base",
          "model_name": "LayoutModel",
          "model_module_version": "1.2.0",
          "state": {
            "_model_module": "@jupyter-widgets/base",
            "_model_module_version": "1.2.0",
            "_model_name": "LayoutModel",
            "_view_count": null,
            "_view_module": "@jupyter-widgets/base",
            "_view_module_version": "1.2.0",
            "_view_name": "LayoutView",
            "align_content": null,
            "align_items": null,
            "align_self": null,
            "border": null,
            "bottom": null,
            "display": null,
            "flex": null,
            "flex_flow": null,
            "grid_area": null,
            "grid_auto_columns": null,
            "grid_auto_flow": null,
            "grid_auto_rows": null,
            "grid_column": null,
            "grid_gap": null,
            "grid_row": null,
            "grid_template_areas": null,
            "grid_template_columns": null,
            "grid_template_rows": null,
            "height": null,
            "justify_content": null,
            "justify_items": null,
            "left": null,
            "margin": null,
            "max_height": null,
            "max_width": null,
            "min_height": null,
            "min_width": null,
            "object_fit": null,
            "object_position": null,
            "order": null,
            "overflow": null,
            "overflow_x": null,
            "overflow_y": null,
            "padding": null,
            "right": null,
            "top": null,
            "visibility": null,
            "width": null
          }
        },
        "7824425f7ffe40609c176d35685a233a": {
          "model_module": "@jupyter-widgets/controls",
          "model_name": "DescriptionStyleModel",
          "model_module_version": "1.5.0",
          "state": {
            "_model_module": "@jupyter-widgets/controls",
            "_model_module_version": "1.5.0",
            "_model_name": "DescriptionStyleModel",
            "_view_count": null,
            "_view_module": "@jupyter-widgets/base",
            "_view_module_version": "1.2.0",
            "_view_name": "StyleView",
            "description_width": ""
          }
        }
      }
    }
  },
  "nbformat": 4,
  "nbformat_minor": 0
}