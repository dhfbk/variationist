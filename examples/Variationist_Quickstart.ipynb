{
  "cells": [
    {
      "cell_type": "markdown",
      "metadata": {
        "id": "XAEWCmbT69e8"
      },
      "source": [
        "# Variationist Quickstart\n",
        "\n",
        "**Welcome! In this quickstart guide, you will be shown the basics of how Variationist works, and a sample of what you can do with it.**\n",
        "\n",
        "🕵️‍♀️ Variationist is a highly-modular, flexible, and customizable tool to analyze and explore language variation and bias in written language data. It allows researchers, from NLP practitioners to linguists and social scientists, to seamlessly investigate language use across a wide range of use cases.\n",
        "\n"
      ]
    },
    {
      "cell_type": "markdown",
      "metadata": {
        "id": "2pfyCXgU7jgA"
      },
      "source": [
        "## Installing Variationist\n",
        "\n",
        "You can install Variationist either using `pip` or by cloning our `github` repo."
      ]
    },
    {
      "cell_type": "code",
      "execution_count": 1,
      "metadata": {
        "colab": {
          "base_uri": "https://localhost:8080/"
        },
        "id": "n2mWiCrE84GR",
        "outputId": "402e7c55-7a2e-42b9-d7c7-a138a3d92bd7"
      },
      "outputs": [
        {
          "output_type": "stream",
          "name": "stdout",
          "text": [
            "Collecting variationist\n",
            "  Downloading variationist-0.1.4-py3-none-any.whl (73 kB)\n",
            "\u001b[2K     \u001b[90m━━━━━━━━━━━━━━━━━━━━━━━━━━━━━━━━━━━━━━━━\u001b[0m \u001b[32m73.6/73.6 kB\u001b[0m \u001b[31m1.1 MB/s\u001b[0m eta \u001b[36m0:00:00\u001b[0m\n",
            "\u001b[?25hCollecting altair==5.2.0 (from variationist)\n",
            "  Downloading altair-5.2.0-py3-none-any.whl (996 kB)\n",
            "\u001b[2K     \u001b[90m━━━━━━━━━━━━━━━━━━━━━━━━━━━━━━━━━━━━━━━━\u001b[0m \u001b[32m996.9/996.9 kB\u001b[0m \u001b[31m31.4 MB/s\u001b[0m eta \u001b[36m0:00:00\u001b[0m\n",
            "\u001b[?25hCollecting datasets==2.17.1 (from variationist)\n",
            "  Downloading datasets-2.17.1-py3-none-any.whl (536 kB)\n",
            "\u001b[2K     \u001b[90m━━━━━━━━━━━━━━━━━━━━━━━━━━━━━━━━━━━━━━━━\u001b[0m \u001b[32m536.7/536.7 kB\u001b[0m \u001b[31m19.4 MB/s\u001b[0m eta \u001b[36m0:00:00\u001b[0m\n",
            "\u001b[?25hCollecting emoji==2.10.1 (from variationist)\n",
            "  Downloading emoji-2.10.1-py2.py3-none-any.whl (421 kB)\n",
            "\u001b[2K     \u001b[90m━━━━━━━━━━━━━━━━━━━━━━━━━━━━━━━━━━━━━━━━\u001b[0m \u001b[32m421.5/421.5 kB\u001b[0m \u001b[31m15.8 MB/s\u001b[0m eta \u001b[36m0:00:00\u001b[0m\n",
            "\u001b[?25hCollecting geopandas==0.14.3 (from variationist)\n",
            "  Downloading geopandas-0.14.3-py3-none-any.whl (1.1 MB)\n",
            "\u001b[2K     \u001b[90m━━━━━━━━━━━━━━━━━━━━━━━━━━━━━━━━━━━━━━━━\u001b[0m \u001b[32m1.1/1.1 MB\u001b[0m \u001b[31m14.6 MB/s\u001b[0m eta \u001b[36m0:00:00\u001b[0m\n",
            "\u001b[?25hCollecting kaleido==0.2.1 (from variationist)\n",
            "  Downloading kaleido-0.2.1-py2.py3-none-manylinux1_x86_64.whl (79.9 MB)\n",
            "\u001b[2K     \u001b[90m━━━━━━━━━━━━━━━━━━━━━━━━━━━━━━━━━━━━━━━━\u001b[0m \u001b[32m79.9/79.9 MB\u001b[0m \u001b[31m12.4 MB/s\u001b[0m eta \u001b[36m0:00:00\u001b[0m\n",
            "\u001b[?25hCollecting pandas==2.2.1 (from variationist)\n",
            "  Downloading pandas-2.2.1-cp310-cp310-manylinux_2_17_x86_64.manylinux2014_x86_64.whl (13.0 MB)\n",
            "\u001b[2K     \u001b[90m━━━━━━━━━━━━━━━━━━━━━━━━━━━━━━━━━━━━━━━━\u001b[0m \u001b[32m13.0/13.0 MB\u001b[0m \u001b[31m48.8 MB/s\u001b[0m eta \u001b[36m0:00:00\u001b[0m\n",
            "\u001b[?25hCollecting plotly==5.19.0 (from variationist)\n",
            "  Downloading plotly-5.19.0-py3-none-any.whl (15.7 MB)\n",
            "\u001b[2K     \u001b[90m━━━━━━━━━━━━━━━━━━━━━━━━━━━━━━━━━━━━━━━━\u001b[0m \u001b[32m15.7/15.7 MB\u001b[0m \u001b[31m52.0 MB/s\u001b[0m eta \u001b[36m0:00:00\u001b[0m\n",
            "\u001b[?25hCollecting pyogrio==0.7.2 (from variationist)\n",
            "  Downloading pyogrio-0.7.2-cp310-cp310-manylinux_2_17_x86_64.manylinux2014_x86_64.whl (22.0 MB)\n",
            "\u001b[2K     \u001b[90m━━━━━━━━━━━━━━━━━━━━━━━━━━━━━━━━━━━━━━━━\u001b[0m \u001b[32m22.0/22.0 MB\u001b[0m \u001b[31m18.1 MB/s\u001b[0m eta \u001b[36m0:00:00\u001b[0m\n",
            "\u001b[?25hCollecting stopwordsiso==0.6.1 (from variationist)\n",
            "  Downloading stopwordsiso-0.6.1-py3-none-any.whl (73 kB)\n",
            "\u001b[2K     \u001b[90m━━━━━━━━━━━━━━━━━━━━━━━━━━━━━━━━━━━━━━━━\u001b[0m \u001b[32m73.5/73.5 kB\u001b[0m \u001b[31m7.9 MB/s\u001b[0m eta \u001b[36m0:00:00\u001b[0m\n",
            "\u001b[?25hCollecting transformers==4.38.1 (from variationist)\n",
            "  Downloading transformers-4.38.1-py3-none-any.whl (8.5 MB)\n",
            "\u001b[2K     \u001b[90m━━━━━━━━━━━━━━━━━━━━━━━━━━━━━━━━━━━━━━━━\u001b[0m \u001b[32m8.5/8.5 MB\u001b[0m \u001b[31m58.8 MB/s\u001b[0m eta \u001b[36m0:00:00\u001b[0m\n",
            "\u001b[?25hCollecting vl-convert-python==1.2.4 (from variationist)\n",
            "  Downloading vl_convert_python-1.2.4-cp37-abi3-manylinux_2_17_x86_64.manylinux2014_x86_64.whl (27.9 MB)\n",
            "\u001b[2K     \u001b[90m━━━━━━━━━━━━━━━━━━━━━━━━━━━━━━━━━━━━━━━━\u001b[0m \u001b[32m27.9/27.9 MB\u001b[0m \u001b[31m35.1 MB/s\u001b[0m eta \u001b[36m0:00:00\u001b[0m\n",
            "\u001b[?25hRequirement already satisfied: jinja2 in /usr/local/lib/python3.10/dist-packages (from altair==5.2.0->variationist) (3.1.4)\n",
            "Requirement already satisfied: jsonschema>=3.0 in /usr/local/lib/python3.10/dist-packages (from altair==5.2.0->variationist) (4.19.2)\n",
            "Requirement already satisfied: numpy in /usr/local/lib/python3.10/dist-packages (from altair==5.2.0->variationist) (1.25.2)\n",
            "Requirement already satisfied: packaging in /usr/local/lib/python3.10/dist-packages (from altair==5.2.0->variationist) (24.1)\n",
            "Requirement already satisfied: toolz in /usr/local/lib/python3.10/dist-packages (from altair==5.2.0->variationist) (0.12.1)\n",
            "Requirement already satisfied: typing-extensions>=4.0.1 in /usr/local/lib/python3.10/dist-packages (from altair==5.2.0->variationist) (4.12.2)\n",
            "Requirement already satisfied: filelock in /usr/local/lib/python3.10/dist-packages (from datasets==2.17.1->variationist) (3.15.1)\n",
            "Requirement already satisfied: pyarrow>=12.0.0 in /usr/local/lib/python3.10/dist-packages (from datasets==2.17.1->variationist) (14.0.2)\n",
            "Requirement already satisfied: pyarrow-hotfix in /usr/local/lib/python3.10/dist-packages (from datasets==2.17.1->variationist) (0.6)\n",
            "Collecting dill<0.3.9,>=0.3.0 (from datasets==2.17.1->variationist)\n",
            "  Downloading dill-0.3.8-py3-none-any.whl (116 kB)\n",
            "\u001b[2K     \u001b[90m━━━━━━━━━━━━━━━━━━━━━━━━━━━━━━━━━━━━━━━━\u001b[0m \u001b[32m116.3/116.3 kB\u001b[0m \u001b[31m11.0 MB/s\u001b[0m eta \u001b[36m0:00:00\u001b[0m\n",
            "\u001b[?25hRequirement already satisfied: requests>=2.19.0 in /usr/local/lib/python3.10/dist-packages (from datasets==2.17.1->variationist) (2.31.0)\n",
            "Requirement already satisfied: tqdm>=4.62.1 in /usr/local/lib/python3.10/dist-packages (from datasets==2.17.1->variationist) (4.66.4)\n",
            "Collecting xxhash (from datasets==2.17.1->variationist)\n",
            "  Downloading xxhash-3.4.1-cp310-cp310-manylinux_2_17_x86_64.manylinux2014_x86_64.whl (194 kB)\n",
            "\u001b[2K     \u001b[90m━━━━━━━━━━━━━━━━━━━━━━━━━━━━━━━━━━━━━━━━\u001b[0m \u001b[32m194.1/194.1 kB\u001b[0m \u001b[31m8.8 MB/s\u001b[0m eta \u001b[36m0:00:00\u001b[0m\n",
            "\u001b[?25hCollecting multiprocess (from datasets==2.17.1->variationist)\n",
            "  Downloading multiprocess-0.70.16-py310-none-any.whl (134 kB)\n",
            "\u001b[2K     \u001b[90m━━━━━━━━━━━━━━━━━━━━━━━━━━━━━━━━━━━━━━━━\u001b[0m \u001b[32m134.8/134.8 kB\u001b[0m \u001b[31m12.7 MB/s\u001b[0m eta \u001b[36m0:00:00\u001b[0m\n",
            "\u001b[?25hRequirement already satisfied: fsspec[http]<=2023.10.0,>=2023.1.0 in /usr/local/lib/python3.10/dist-packages (from datasets==2.17.1->variationist) (2023.6.0)\n",
            "Requirement already satisfied: aiohttp in /usr/local/lib/python3.10/dist-packages (from datasets==2.17.1->variationist) (3.9.5)\n",
            "Requirement already satisfied: huggingface-hub>=0.19.4 in /usr/local/lib/python3.10/dist-packages (from datasets==2.17.1->variationist) (0.23.4)\n",
            "Requirement already satisfied: pyyaml>=5.1 in /usr/local/lib/python3.10/dist-packages (from datasets==2.17.1->variationist) (6.0.1)\n",
            "Requirement already satisfied: fiona>=1.8.21 in /usr/local/lib/python3.10/dist-packages (from geopandas==0.14.3->variationist) (1.9.6)\n",
            "Requirement already satisfied: pyproj>=3.3.0 in /usr/local/lib/python3.10/dist-packages (from geopandas==0.14.3->variationist) (3.6.1)\n",
            "Requirement already satisfied: shapely>=1.8.0 in /usr/local/lib/python3.10/dist-packages (from geopandas==0.14.3->variationist) (2.0.4)\n",
            "Requirement already satisfied: python-dateutil>=2.8.2 in /usr/local/lib/python3.10/dist-packages (from pandas==2.2.1->variationist) (2.8.2)\n",
            "Requirement already satisfied: pytz>=2020.1 in /usr/local/lib/python3.10/dist-packages (from pandas==2.2.1->variationist) (2023.4)\n",
            "Requirement already satisfied: tzdata>=2022.7 in /usr/local/lib/python3.10/dist-packages (from pandas==2.2.1->variationist) (2024.1)\n",
            "Requirement already satisfied: tenacity>=6.2.0 in /usr/local/lib/python3.10/dist-packages (from plotly==5.19.0->variationist) (8.4.1)\n",
            "Requirement already satisfied: certifi in /usr/local/lib/python3.10/dist-packages (from pyogrio==0.7.2->variationist) (2024.6.2)\n",
            "Requirement already satisfied: regex!=2019.12.17 in /usr/local/lib/python3.10/dist-packages (from transformers==4.38.1->variationist) (2024.5.15)\n",
            "Collecting tokenizers<0.19,>=0.14 (from transformers==4.38.1->variationist)\n",
            "  Downloading tokenizers-0.15.2-cp310-cp310-manylinux_2_17_x86_64.manylinux2014_x86_64.whl (3.6 MB)\n",
            "\u001b[2K     \u001b[90m━━━━━━━━━━━━━━━━━━━━━━━━━━━━━━━━━━━━━━━━\u001b[0m \u001b[32m3.6/3.6 MB\u001b[0m \u001b[31m34.1 MB/s\u001b[0m eta \u001b[36m0:00:00\u001b[0m\n",
            "\u001b[?25hRequirement already satisfied: safetensors>=0.4.1 in /usr/local/lib/python3.10/dist-packages (from transformers==4.38.1->variationist) (0.4.3)\n",
            "Requirement already satisfied: attrs>=19.2.0 in /usr/local/lib/python3.10/dist-packages (from fiona>=1.8.21->geopandas==0.14.3->variationist) (23.2.0)\n",
            "Requirement already satisfied: click~=8.0 in /usr/local/lib/python3.10/dist-packages (from fiona>=1.8.21->geopandas==0.14.3->variationist) (8.1.7)\n",
            "Requirement already satisfied: click-plugins>=1.0 in /usr/local/lib/python3.10/dist-packages (from fiona>=1.8.21->geopandas==0.14.3->variationist) (1.1.1)\n",
            "Requirement already satisfied: cligj>=0.5 in /usr/local/lib/python3.10/dist-packages (from fiona>=1.8.21->geopandas==0.14.3->variationist) (0.7.2)\n",
            "Requirement already satisfied: six in /usr/local/lib/python3.10/dist-packages (from fiona>=1.8.21->geopandas==0.14.3->variationist) (1.16.0)\n",
            "Requirement already satisfied: aiosignal>=1.1.2 in /usr/local/lib/python3.10/dist-packages (from aiohttp->datasets==2.17.1->variationist) (1.3.1)\n",
            "Requirement already satisfied: frozenlist>=1.1.1 in /usr/local/lib/python3.10/dist-packages (from aiohttp->datasets==2.17.1->variationist) (1.4.1)\n",
            "Requirement already satisfied: multidict<7.0,>=4.5 in /usr/local/lib/python3.10/dist-packages (from aiohttp->datasets==2.17.1->variationist) (6.0.5)\n",
            "Requirement already satisfied: yarl<2.0,>=1.0 in /usr/local/lib/python3.10/dist-packages (from aiohttp->datasets==2.17.1->variationist) (1.9.4)\n",
            "Requirement already satisfied: async-timeout<5.0,>=4.0 in /usr/local/lib/python3.10/dist-packages (from aiohttp->datasets==2.17.1->variationist) (4.0.3)\n",
            "Requirement already satisfied: jsonschema-specifications>=2023.03.6 in /usr/local/lib/python3.10/dist-packages (from jsonschema>=3.0->altair==5.2.0->variationist) (2023.12.1)\n",
            "Requirement already satisfied: referencing>=0.28.4 in /usr/local/lib/python3.10/dist-packages (from jsonschema>=3.0->altair==5.2.0->variationist) (0.35.1)\n",
            "Requirement already satisfied: rpds-py>=0.7.1 in /usr/local/lib/python3.10/dist-packages (from jsonschema>=3.0->altair==5.2.0->variationist) (0.18.1)\n",
            "Requirement already satisfied: charset-normalizer<4,>=2 in /usr/local/lib/python3.10/dist-packages (from requests>=2.19.0->datasets==2.17.1->variationist) (3.3.2)\n",
            "Requirement already satisfied: idna<4,>=2.5 in /usr/local/lib/python3.10/dist-packages (from requests>=2.19.0->datasets==2.17.1->variationist) (3.7)\n",
            "Requirement already satisfied: urllib3<3,>=1.21.1 in /usr/local/lib/python3.10/dist-packages (from requests>=2.19.0->datasets==2.17.1->variationist) (2.0.7)\n",
            "Requirement already satisfied: MarkupSafe>=2.0 in /usr/local/lib/python3.10/dist-packages (from jinja2->altair==5.2.0->variationist) (2.1.5)\n",
            "Installing collected packages: stopwordsiso, kaleido, xxhash, vl-convert-python, pyogrio, plotly, emoji, dill, pandas, multiprocess, tokenizers, geopandas, transformers, datasets, altair, variationist\n",
            "  Attempting uninstall: plotly\n",
            "    Found existing installation: plotly 5.15.0\n",
            "    Uninstalling plotly-5.15.0:\n",
            "      Successfully uninstalled plotly-5.15.0\n",
            "  Attempting uninstall: pandas\n",
            "    Found existing installation: pandas 2.0.3\n",
            "    Uninstalling pandas-2.0.3:\n",
            "      Successfully uninstalled pandas-2.0.3\n",
            "  Attempting uninstall: tokenizers\n",
            "    Found existing installation: tokenizers 0.19.1\n",
            "    Uninstalling tokenizers-0.19.1:\n",
            "      Successfully uninstalled tokenizers-0.19.1\n",
            "  Attempting uninstall: geopandas\n",
            "    Found existing installation: geopandas 0.13.2\n",
            "    Uninstalling geopandas-0.13.2:\n",
            "      Successfully uninstalled geopandas-0.13.2\n",
            "  Attempting uninstall: transformers\n",
            "    Found existing installation: transformers 4.41.2\n",
            "    Uninstalling transformers-4.41.2:\n",
            "      Successfully uninstalled transformers-4.41.2\n",
            "  Attempting uninstall: altair\n",
            "    Found existing installation: altair 4.2.2\n",
            "    Uninstalling altair-4.2.2:\n",
            "      Successfully uninstalled altair-4.2.2\n",
            "\u001b[31mERROR: pip's dependency resolver does not currently take into account all the packages that are installed. This behaviour is the source of the following dependency conflicts.\n",
            "google-colab 1.0.0 requires pandas==2.0.3, but you have pandas 2.2.1 which is incompatible.\u001b[0m\u001b[31m\n",
            "\u001b[0mSuccessfully installed altair-5.2.0 datasets-2.17.1 dill-0.3.8 emoji-2.10.1 geopandas-0.14.3 kaleido-0.2.1 multiprocess-0.70.16 pandas-2.2.1 plotly-5.19.0 pyogrio-0.7.2 stopwordsiso-0.6.1 tokenizers-0.15.2 transformers-4.38.1 variationist-0.1.4 vl-convert-python-1.2.4 xxhash-3.4.1\n"
          ]
        }
      ],
      "source": [
        "# Install using pip\n",
        "!pip install variationist"
      ]
    },
    {
      "cell_type": "code",
      "execution_count": 2,
      "metadata": {
        "colab": {
          "base_uri": "https://localhost:8080/"
        },
        "id": "MPe2sIp5li5I",
        "outputId": "4328e817-4da5-4dc2-f201-369f35ab9cec"
      },
      "outputs": [
        {
          "output_type": "stream",
          "name": "stdout",
          "text": [
            "Collecting vegafusion[embed]>=1.4.0\n",
            "  Downloading vegafusion-1.6.9-py3-none-any.whl (54 kB)\n",
            "\u001b[?25l     \u001b[90m━━━━━━━━━━━━━━━━━━━━━━━━━━━━━━━━━━━━━━━━\u001b[0m \u001b[32m0.0/54.5 kB\u001b[0m \u001b[31m?\u001b[0m eta \u001b[36m-:--:--\u001b[0m\r\u001b[2K     \u001b[90m━━━━━━━━━━━━━━━━━━━━━━━━━━━━━━━━━━━━━━━━\u001b[0m \u001b[32m54.5/54.5 kB\u001b[0m \u001b[31m1.8 MB/s\u001b[0m eta \u001b[36m0:00:00\u001b[0m\n",
            "\u001b[?25hRequirement already satisfied: altair>=5.2.0 in /usr/local/lib/python3.10/dist-packages (from vegafusion[embed]>=1.4.0) (5.2.0)\n",
            "Requirement already satisfied: pyarrow>=5 in /usr/local/lib/python3.10/dist-packages (from vegafusion[embed]>=1.4.0) (14.0.2)\n",
            "Requirement already satisfied: pandas in /usr/local/lib/python3.10/dist-packages (from vegafusion[embed]>=1.4.0) (2.2.1)\n",
            "Requirement already satisfied: psutil in /usr/local/lib/python3.10/dist-packages (from vegafusion[embed]>=1.4.0) (5.9.5)\n",
            "Requirement already satisfied: protobuf in /usr/local/lib/python3.10/dist-packages (from vegafusion[embed]>=1.4.0) (3.20.3)\n",
            "Collecting vegafusion-python-embed==1.6.9 (from vegafusion[embed]>=1.4.0)\n",
            "  Downloading vegafusion_python_embed-1.6.9-cp38-abi3-manylinux_2_17_x86_64.manylinux2014_x86_64.whl (25.1 MB)\n",
            "\u001b[2K     \u001b[90m━━━━━━━━━━━━━━━━━━━━━━━━━━━━━━━━━━━━━━━━\u001b[0m \u001b[32m25.1/25.1 MB\u001b[0m \u001b[31m54.2 MB/s\u001b[0m eta \u001b[36m0:00:00\u001b[0m\n",
            "\u001b[?25hRequirement already satisfied: vl-convert-python>=0.7.0 in /usr/local/lib/python3.10/dist-packages (from vegafusion[embed]>=1.4.0) (1.2.4)\n",
            "Requirement already satisfied: jinja2 in /usr/local/lib/python3.10/dist-packages (from altair>=5.2.0->vegafusion[embed]>=1.4.0) (3.1.4)\n",
            "Requirement already satisfied: jsonschema>=3.0 in /usr/local/lib/python3.10/dist-packages (from altair>=5.2.0->vegafusion[embed]>=1.4.0) (4.19.2)\n",
            "Requirement already satisfied: numpy in /usr/local/lib/python3.10/dist-packages (from altair>=5.2.0->vegafusion[embed]>=1.4.0) (1.25.2)\n",
            "Requirement already satisfied: packaging in /usr/local/lib/python3.10/dist-packages (from altair>=5.2.0->vegafusion[embed]>=1.4.0) (24.1)\n",
            "Requirement already satisfied: toolz in /usr/local/lib/python3.10/dist-packages (from altair>=5.2.0->vegafusion[embed]>=1.4.0) (0.12.1)\n",
            "Requirement already satisfied: typing-extensions>=4.0.1 in /usr/local/lib/python3.10/dist-packages (from altair>=5.2.0->vegafusion[embed]>=1.4.0) (4.12.2)\n",
            "Requirement already satisfied: python-dateutil>=2.8.2 in /usr/local/lib/python3.10/dist-packages (from pandas->vegafusion[embed]>=1.4.0) (2.8.2)\n",
            "Requirement already satisfied: pytz>=2020.1 in /usr/local/lib/python3.10/dist-packages (from pandas->vegafusion[embed]>=1.4.0) (2023.4)\n",
            "Requirement already satisfied: tzdata>=2022.7 in /usr/local/lib/python3.10/dist-packages (from pandas->vegafusion[embed]>=1.4.0) (2024.1)\n",
            "Requirement already satisfied: attrs>=22.2.0 in /usr/local/lib/python3.10/dist-packages (from jsonschema>=3.0->altair>=5.2.0->vegafusion[embed]>=1.4.0) (23.2.0)\n",
            "Requirement already satisfied: jsonschema-specifications>=2023.03.6 in /usr/local/lib/python3.10/dist-packages (from jsonschema>=3.0->altair>=5.2.0->vegafusion[embed]>=1.4.0) (2023.12.1)\n",
            "Requirement already satisfied: referencing>=0.28.4 in /usr/local/lib/python3.10/dist-packages (from jsonschema>=3.0->altair>=5.2.0->vegafusion[embed]>=1.4.0) (0.35.1)\n",
            "Requirement already satisfied: rpds-py>=0.7.1 in /usr/local/lib/python3.10/dist-packages (from jsonschema>=3.0->altair>=5.2.0->vegafusion[embed]>=1.4.0) (0.18.1)\n",
            "Requirement already satisfied: six>=1.5 in /usr/local/lib/python3.10/dist-packages (from python-dateutil>=2.8.2->pandas->vegafusion[embed]>=1.4.0) (1.16.0)\n",
            "Requirement already satisfied: MarkupSafe>=2.0 in /usr/local/lib/python3.10/dist-packages (from jinja2->altair>=5.2.0->vegafusion[embed]>=1.4.0) (2.1.5)\n",
            "Installing collected packages: vegafusion-python-embed, vegafusion\n",
            "Successfully installed vegafusion-1.6.9 vegafusion-python-embed-1.6.9\n"
          ]
        },
        {
          "output_type": "execute_result",
          "data": {
            "text/plain": [
              "DataTransformerRegistry.enable('vegafusion')"
            ]
          },
          "metadata": {},
          "execution_count": 2
        }
      ],
      "source": [
        "# If your dataset has a large number of examples, you might need this to display large charts\n",
        "!pip install \"vegafusion[embed]>=1.4.0\"\n",
        "import altair as alt\n",
        "alt.data_transformers.enable(\"vegafusion\")"
      ]
    },
    {
      "cell_type": "code",
      "execution_count": 3,
      "metadata": {
        "id": "esp4Pol2AwDL"
      },
      "outputs": [],
      "source": [
        "from variationist import Inspector, InspectorArgs, Visualizer, VisualizerArgs"
      ]
    },
    {
      "cell_type": "markdown",
      "metadata": {
        "id": "HKeb_KASD8ST"
      },
      "source": [
        "Load your own dataset in .tsv or .csv format, or use a dataset that is available on HuggingFace\n"
      ]
    },
    {
      "cell_type": "code",
      "execution_count": 4,
      "metadata": {
        "id": "7bo4-0XpD7Ef"
      },
      "outputs": [],
      "source": [
        "# my_dataset = \"my_dataset.tsv\"\n",
        "my_dataset = \"hf::yelp_review_full::train\""
      ]
    },
    {
      "cell_type": "code",
      "execution_count": 5,
      "metadata": {
        "id": "Q48ZyONcGvyb"
      },
      "outputs": [],
      "source": [
        "# Define the inspector arguments. For now, let's just select a handful of metrics.\n",
        "inspector_args = InspectorArgs(\n",
        "\t\t text_names=[\"text\"],\n",
        "\t\t var_names=[\"label\"],\n",
        "\t\t metrics=[\"pmi\", \"stats\", \"npw_relevance\", \"ttr\", \"freq\"],\n",
        "\t\t stopwords=True,\n",
        "\t\t language=\"en\",\n",
        "\t\t n_tokens=1,\n",
        "\t\t n_cooc=1\n",
        ")"
      ]
    },
    {
      "cell_type": "code",
      "execution_count": 6,
      "metadata": {
        "colab": {
          "base_uri": "https://localhost:8080/",
          "height": 608,
          "referenced_widgets": [
            "481087fedd5545c4ad26941bc8a8d6af",
            "977c816c03424c258fa22a7b17493e23",
            "d92cd6e18cf0475c9599ae4c69b89140",
            "bce3fa0392974687b12a0ac262c4ad6d",
            "57ef6f970bf048dbabbc49dec7afa9ab",
            "70197974e05a4d37af4a78c505c05135",
            "60411bab7cbe4210ad497cade541d957",
            "9c5ec4f6c3b448fc92c6dfa149dcbdf8",
            "e743a71f0b0a4c3d849baae74f20f6fa",
            "59dbc33a112d46b5af38509dda7406c4",
            "80939ac3db5d44f08c5eb1b7156a708e",
            "692fb62ee5db4a5ca831f7f530ac78c8",
            "8b71003855104bf5bed195d2ad0f302b",
            "6758e11618ea4899a1d0212687ec8b1f",
            "3ccc62550c904d8a889073a03957fe54",
            "42308e4a490e43b39733b1a7e8cab6aa",
            "0c688e2b50484a9cadd28a480d934528",
            "cff868bfcd4548cbb9802a0cbb21ac30",
            "41b4681e18b447b58645fce38bab3fbd",
            "0eb3741dee6e4f97832a684b67781f74",
            "3dbf1a151c694f3dbf15da02506a1d97",
            "c574ba401a0740dc95d6c2e9b10b5e1c",
            "94d8edb106a342e19143969e9fb80dae",
            "5e0c319ad7ee4e08b6a1917be81815a7",
            "d485d95101e74426b3a17e4f6b9d410f",
            "0bb2dc6c954f45beb9cc1ffcf85d8745",
            "4c9446817b914755b30c1ac0c3969729",
            "db840247572543648df1f12cbd188320",
            "0d08ba949d2f4ac795e7b1267e55a6c1",
            "397d9035a0b248a6a34d4a021b6a86ec",
            "e00da59bd9ee455ca597eec2393e8324",
            "ba0a80f0dd17438696aafbf8ad81d332",
            "92277a0dfa844e448032569895cc6b48",
            "ed19787cf4a54439952cde3b7690540f",
            "381374d318a74d249c4ea9c928594d3f",
            "853e8299fded419c9d78352f2faae02b",
            "6d143f43d25148de8f4d2bb76de6e639",
            "6b29170ba15144e28cb801722d8d0072",
            "6362528e8097410fad55bc67f3b56698",
            "02d8340cd23f40e6acf29c9bc21cbe4e",
            "8ea593f951824050a1107c51b854d6a3",
            "2434f6cd37fa4a15adcccf14087eab55",
            "02ebe4972a3b4a97ae3339c47859fb26",
            "fde26087f4c44165891b5a84847eee4c",
            "8687fc45db4249a9a0f13872f6c87207",
            "1510b9a26e054e3983742e7fd61847c7",
            "f33dabad34fa40c38785b2c8b97b0337",
            "a653d8f03fc9492a82fcc50ce1c678ea",
            "b022f5acfa7c4d87b4b16b429d62c0cb",
            "2f606a6a2ce34cdda3353b7850d9ee57",
            "952798b4a5ca4e0397864f65c5f1a39e",
            "b2e1e787c0e64989abade34bc2e81d50",
            "0b6f796a7713450c93ca7308b1aecf94",
            "de5b9a9483264cb199214a1a2617deab",
            "e2cabecb81a9455b8fc8c7f500d5dd7d"
          ]
        },
        "id": "ceUhGtxqG8yC",
        "outputId": "ac6e2ee8-1509-4f1b-e583-bc8fcaa96df2"
      },
      "outputs": [
        {
          "output_type": "stream",
          "name": "stdout",
          "text": [
            "INFO: No values have been set for var_types. Defaults to nominal.\n",
            "INFO: No values have been set for var_semantics. Defaults to general.\n",
            "INFO: The metadata we will be using for the current analysis are:\n",
            "{'text_names': ['text'], 'var_names': ['label'], 'metrics': ['pmi', 'stats', 'npw_relevance', 'ttr', 'freq'], 'var_types': ['nominal'], 'var_semantics': ['general'], 'var_subsets': None, 'var_bins': [0], 'tokenizer': 'whitespace', 'language': 'en', 'n_tokens': 1, 'n_cooc': 1, 'unique_cooc': False, 'cooc_window_size': 0, 'freq_cutoff': 3, 'stopwords': True, 'custom_stopwords': None, 'lowercase': False, 'ignore_null_var': False}\n",
            "INFO: all column identifiers are treated as column names.\n",
            "INFO: 'Loading hf::yelp_review_full::train' as a HuggingFace dataset. We assume the last element in the specified string is the split (\"train\").\n"
          ]
        },
        {
          "output_type": "stream",
          "name": "stderr",
          "text": [
            "/usr/local/lib/python3.10/dist-packages/huggingface_hub/utils/_token.py:89: UserWarning: \n",
            "The secret `HF_TOKEN` does not exist in your Colab secrets.\n",
            "To authenticate with the Hugging Face Hub, create a token in your settings tab (https://huggingface.co/settings/tokens), set it as secret in your Google Colab and restart your session.\n",
            "You will be able to reuse this secret in all of your notebooks.\n",
            "Please note that authentication is recommended but still optional to access public models or datasets.\n",
            "  warnings.warn(\n"
          ]
        },
        {
          "output_type": "display_data",
          "data": {
            "text/plain": [
              "Downloading readme:   0%|          | 0.00/6.72k [00:00<?, ?B/s]"
            ],
            "application/vnd.jupyter.widget-view+json": {
              "version_major": 2,
              "version_minor": 0,
              "model_id": "481087fedd5545c4ad26941bc8a8d6af"
            }
          },
          "metadata": {}
        },
        {
          "output_type": "display_data",
          "data": {
            "text/plain": [
              "Downloading data:   0%|          | 0.00/299M [00:00<?, ?B/s]"
            ],
            "application/vnd.jupyter.widget-view+json": {
              "version_major": 2,
              "version_minor": 0,
              "model_id": "692fb62ee5db4a5ca831f7f530ac78c8"
            }
          },
          "metadata": {}
        },
        {
          "output_type": "display_data",
          "data": {
            "text/plain": [
              "Downloading data:   0%|          | 0.00/23.5M [00:00<?, ?B/s]"
            ],
            "application/vnd.jupyter.widget-view+json": {
              "version_major": 2,
              "version_minor": 0,
              "model_id": "94d8edb106a342e19143969e9fb80dae"
            }
          },
          "metadata": {}
        },
        {
          "output_type": "display_data",
          "data": {
            "text/plain": [
              "Generating train split:   0%|          | 0/650000 [00:00<?, ? examples/s]"
            ],
            "application/vnd.jupyter.widget-view+json": {
              "version_major": 2,
              "version_minor": 0,
              "model_id": "ed19787cf4a54439952cde3b7690540f"
            }
          },
          "metadata": {}
        },
        {
          "output_type": "display_data",
          "data": {
            "text/plain": [
              "Generating test split:   0%|          | 0/50000 [00:00<?, ? examples/s]"
            ],
            "application/vnd.jupyter.widget-view+json": {
              "version_major": 2,
              "version_minor": 0,
              "model_id": "8687fc45db4249a9a0f13872f6c87207"
            }
          },
          "metadata": {}
        },
        {
          "output_type": "stream",
          "name": "stdout",
          "text": [
            "INFO: Tokenizing the text column...\n"
          ]
        },
        {
          "output_type": "stream",
          "name": "stderr",
          "text": [
            "100%|██████████| 650000/650000 [03:09<00:00, 3432.04it/s]\n"
          ]
        },
        {
          "output_type": "stream",
          "name": "stdout",
          "text": [
            "INFO: Currently calculating metric: 'pmi'\n"
          ]
        },
        {
          "output_type": "stream",
          "name": "stderr",
          "text": [
            "100%|██████████| 5/5 [00:15<00:00,  3.18s/it]\n"
          ]
        },
        {
          "output_type": "stream",
          "name": "stdout",
          "text": [
            "INFO: Currently calculating metric: 'stats'\n",
            "INFO: Currently calculating metric: 'npw_relevance'\n"
          ]
        },
        {
          "output_type": "stream",
          "name": "stderr",
          "text": [
            "100%|██████████| 5/5 [00:14<00:00,  2.80s/it]\n"
          ]
        },
        {
          "output_type": "stream",
          "name": "stdout",
          "text": [
            "INFO: Currently calculating metric: 'ttr'\n"
          ]
        },
        {
          "output_type": "stream",
          "name": "stderr",
          "text": [
            "100%|██████████| 5/5 [00:06<00:00,  1.22s/it]\n"
          ]
        },
        {
          "output_type": "stream",
          "name": "stdout",
          "text": [
            "INFO: Currently calculating metric: 'freq'\n"
          ]
        },
        {
          "output_type": "stream",
          "name": "stderr",
          "text": [
            "100%|██████████| 5/5 [00:12<00:00,  2.48s/it]\n"
          ]
        }
      ],
      "source": [
        "# Create an inspector instance, run it, and get the results in json\n",
        "results = Inspector(dataset=my_dataset, args=inspector_args).inspect()"
      ]
    },
    {
      "cell_type": "code",
      "execution_count": 7,
      "metadata": {
        "colab": {
          "base_uri": "https://localhost:8080/"
        },
        "id": "Wv5s1QLO9E7j",
        "outputId": "a9a77b01-b4dc-47e4-b1fd-dea5dc22f63e"
      },
      "outputs": [
        {
          "output_type": "stream",
          "name": "stdout",
          "text": [
            "Reading json data...\n",
            "INFO: Creating a BarChart object for metric \"pmi\"...\n",
            "INFO: Saving it to the filepath: \"output/pmi/BarChart.html\".\n",
            "The dataset is too big to be serialized as PNG efficiently. Please use the interactive HTML.\n",
            "INFO: Creating a BarChart object for metric \"stats\"...\n",
            "INFO: Saving it to the filepath: \"output/stats/StatsBarChart.html\".\n",
            "The dataset is too big to be serialized as PNG efficiently. Please use the interactive HTML.\n",
            "INFO: Creating a BarChart object for metric \"npw_relevance\"...\n",
            "INFO: Saving it to the filepath: \"output/npw_relevance/BarChart.html\".\n",
            "The dataset is too big to be serialized as PNG efficiently. Please use the interactive HTML.\n",
            "INFO: Creating a BarChart object for metric \"ttr\"...\n",
            "INFO: Saving it to the filepath: \"output/ttr/DiversityBarChart.html\".\n",
            "The dataset is too big to be serialized as PNG efficiently. Please use the interactive HTML.\n",
            "INFO: Creating a BarChart object for metric \"freq\"...\n",
            "INFO: Saving it to the filepath: \"output/freq/BarChart.html\".\n",
            "The dataset is too big to be serialized as PNG efficiently. Please use the interactive HTML.\n"
          ]
        }
      ],
      "source": [
        "# Define the visualizer arguments\n",
        "visualizer_args = VisualizerArgs(\n",
        "\toutput_folder=\"output\",\n",
        "\toutput_formats=[\"html\", \"png\"]\n",
        ")\n",
        "\n",
        "# Create dynamic visualizations of the results\n",
        "charts = Visualizer(input_json=results, args=visualizer_args).create()"
      ]
    },
    {
      "cell_type": "code",
      "execution_count": 8,
      "metadata": {
        "colab": {
          "base_uri": "https://localhost:8080/",
          "height": 535
        },
        "id": "uZAuem3YLPyG",
        "outputId": "4ca14ec0-d043-4757-da38-48686fd60b17"
      },
      "outputs": [
        {
          "output_type": "execute_result",
          "data": {
            "text/html": [
              "\n",
              "<style>\n",
              "  #altair-viz-3cd6101a5aab44298de0477296fa789c.vega-embed {\n",
              "    width: 100%;\n",
              "    display: flex;\n",
              "  }\n",
              "\n",
              "  #altair-viz-3cd6101a5aab44298de0477296fa789c.vega-embed details,\n",
              "  #altair-viz-3cd6101a5aab44298de0477296fa789c.vega-embed details summary {\n",
              "    position: relative;\n",
              "  }\n",
              "</style>\n",
              "<div id=\"altair-viz-3cd6101a5aab44298de0477296fa789c\"></div>\n",
              "<script type=\"text/javascript\">\n",
              "  var VEGA_DEBUG = (typeof VEGA_DEBUG == \"undefined\") ? {} : VEGA_DEBUG;\n",
              "  (function(spec, embedOpt){\n",
              "    let outputDiv = document.currentScript.previousElementSibling;\n",
              "    if (outputDiv.id !== \"altair-viz-3cd6101a5aab44298de0477296fa789c\") {\n",
              "      outputDiv = document.getElementById(\"altair-viz-3cd6101a5aab44298de0477296fa789c\");\n",
              "    }\n",
              "    const paths = {\n",
              "      \"vega\": \"https://cdn.jsdelivr.net/npm/vega@5?noext\",\n",
              "      \"vega-lib\": \"https://cdn.jsdelivr.net/npm/vega-lib?noext\",\n",
              "      \"vega-lite\": \"https://cdn.jsdelivr.net/npm/vega-lite@5.16.3?noext\",\n",
              "      \"vega-embed\": \"https://cdn.jsdelivr.net/npm/vega-embed@6?noext\",\n",
              "    };\n",
              "\n",
              "    function maybeLoadScript(lib, version) {\n",
              "      var key = `${lib.replace(\"-\", \"\")}_version`;\n",
              "      return (VEGA_DEBUG[key] == version) ?\n",
              "        Promise.resolve(paths[lib]) :\n",
              "        new Promise(function(resolve, reject) {\n",
              "          var s = document.createElement('script');\n",
              "          document.getElementsByTagName(\"head\")[0].appendChild(s);\n",
              "          s.async = true;\n",
              "          s.onload = () => {\n",
              "            VEGA_DEBUG[key] = version;\n",
              "            return resolve(paths[lib]);\n",
              "          };\n",
              "          s.onerror = () => reject(`Error loading script: ${paths[lib]}`);\n",
              "          s.src = paths[lib];\n",
              "        });\n",
              "    }\n",
              "\n",
              "    function showError(err) {\n",
              "      outputDiv.innerHTML = `<div class=\"error\" style=\"color:red;\">${err}</div>`;\n",
              "      throw err;\n",
              "    }\n",
              "\n",
              "    function displayChart(vegaEmbed) {\n",
              "      vegaEmbed(outputDiv, spec, embedOpt)\n",
              "        .catch(err => showError(`Javascript Error: ${err.message}<br>This usually means there's a typo in your chart specification. See the javascript console for the full traceback.`));\n",
              "    }\n",
              "\n",
              "    if(typeof define === \"function\" && define.amd) {\n",
              "      requirejs.config({paths});\n",
              "      require([\"vega-embed\"], displayChart, err => showError(`Error loading script: ${err.message}`));\n",
              "    } else {\n",
              "      maybeLoadScript(\"vega\", \"5\")\n",
              "        .then(() => maybeLoadScript(\"vega-lite\", \"5.16.3\"))\n",
              "        .then(() => maybeLoadScript(\"vega-embed\", \"6\"))\n",
              "        .catch(showError)\n",
              "        .then(() => displayChart(vegaEmbed));\n",
              "    }\n",
              "  })({\"$schema\": \"https://vega.github.io/schema/vega/v5.json\", \"data\": [{\"name\": \"source_0\", \"values\": [{\"label\": \"4\", \"ngram\": \"food\", \"value\": 53671, \"rank\": 1}, {\"label\": \"4\", \"ngram\": \"time\", \"value\": 41596, \"rank\": 2}, {\"label\": \"4\", \"ngram\": \"service\", \"value\": 34800, \"rank\": 3}, {\"label\": \"4\", \"ngram\": \"love\", \"value\": 25986, \"rank\": 4}, {\"label\": \"4\", \"ngram\": \"amazing\", \"value\": 21956, \"rank\": 5}, {\"label\": \"4\", \"ngram\": \"friendly\", \"value\": 21672, \"rank\": 6}, {\"label\": \"4\", \"ngram\": \"nThe\", \"value\": 20907, \"rank\": 7}, {\"label\": \"4\", \"ngram\": \"nice\", \"value\": 20898, \"rank\": 8}, {\"label\": \"4\", \"ngram\": \"Vegas\", \"value\": 20599, \"rank\": 9}, {\"label\": \"4\", \"ngram\": \"staff\", \"value\": 20349, \"rank\": 10}, {\"label\": \"4\", \"ngram\": \"delicious\", \"value\": 19544, \"rank\": 11}, {\"label\": \"4\", \"ngram\": \"restaurant\", \"value\": 17142, \"rank\": 12}, {\"label\": \"4\", \"ngram\": \"menu\", \"value\": 15464, \"rank\": 13}, {\"label\": \"4\", \"ngram\": \"people\", \"value\": 15454, \"rank\": 14}, {\"label\": \"4\", \"ngram\": \"experience\", \"value\": 15368, \"rank\": 15}, {\"label\": \"4\", \"ngram\": \"recommend\", \"value\": 15341, \"rank\": 16}, {\"label\": \"4\", \"ngram\": \"awesome\", \"value\": 14052, \"rank\": 17}, {\"label\": \"4\", \"ngram\": \"favorite\", \"value\": 13852, \"rank\": 18}, {\"label\": \"4\", \"ngram\": \"day\", \"value\": 13816, \"rank\": 19}, {\"label\": \"4\", \"ngram\": \"fresh\", \"value\": 13591, \"rank\": 20}, {\"label\": \"1\", \"ngram\": \"food\", \"value\": 94687, \"rank\": 1}, {\"label\": \"1\", \"ngram\": \"time\", \"value\": 54954, \"rank\": 2}, {\"label\": \"1\", \"ngram\": \"service\", \"value\": 50381, \"rank\": 3}, {\"label\": \"1\", \"ngram\": \"nThe\", \"value\": 35540, \"rank\": 4}, {\"label\": \"1\", \"ngram\": \"2\", \"value\": 29907, \"rank\": 5}, {\"label\": \"1\", \"ngram\": \"people\", \"value\": 27899, \"rank\": 6}, {\"label\": \"1\", \"ngram\": \"restaurant\", \"value\": 27759, \"rank\": 7}, {\"label\": \"1\", \"ngram\": \"pretty\", \"value\": 25472, \"rank\": 8}, {\"label\": \"1\", \"ngram\": \"nice\", \"value\": 25466, \"rank\": 9}, {\"label\": \"1\", \"ngram\": \"minutes\", \"value\": 25029, \"rank\": 10}, {\"label\": \"1\", \"ngram\": \"bad\", \"value\": 23509, \"rank\": 11}, {\"label\": \"1\", \"ngram\": \"table\", \"value\": 21892, \"rank\": 12}, {\"label\": \"1\", \"ngram\": \"menu\", \"value\": 21237, \"rank\": 13}, {\"label\": \"1\", \"ngram\": \"night\", \"value\": 20784, \"rank\": 14}, {\"label\": \"1\", \"ngram\": \"chicken\", \"value\": 20228, \"rank\": 15}, {\"label\": \"1\", \"ngram\": \"bar\", \"value\": 20214, \"rank\": 16}, {\"label\": \"1\", \"ngram\": \"experience\", \"value\": 19876, \"rank\": 17}, {\"label\": \"1\", \"ngram\": \"5\", \"value\": 17867, \"rank\": 18}, {\"label\": \"1\", \"ngram\": \"3\", \"value\": 17813, \"rank\": 19}, {\"label\": \"1\", \"ngram\": \"wait\", \"value\": 17576, \"rank\": 20}, {\"label\": \"3\", \"ngram\": \"food\", \"value\": 67604, \"rank\": 1}, {\"label\": \"3\", \"ngram\": \"time\", \"value\": 43968, \"rank\": 2}, {\"label\": \"3\", \"ngram\": \"service\", \"value\": 33573, \"rank\": 3}, {\"label\": \"3\", \"ngram\": \"nice\", \"value\": 32839, \"rank\": 4}, {\"label\": \"3\", \"ngram\": \"nThe\", \"value\": 32220, \"rank\": 5}, {\"label\": \"3\", \"ngram\": \"pretty\", \"value\": 25145, \"rank\": 6}, {\"label\": \"3\", \"ngram\": \"menu\", \"value\": 22298, \"rank\": 7}, {\"label\": \"3\", \"ngram\": \"restaurant\", \"value\": 21059, \"rank\": 8}, {\"label\": \"3\", \"ngram\": \"love\", \"value\": 20461, \"rank\": 9}, {\"label\": \"3\", \"ngram\": \"friendly\", \"value\": 20382, \"rank\": 10}, {\"label\": \"3\", \"ngram\": \"delicious\", \"value\": 20064, \"rank\": 11}, {\"label\": \"3\", \"ngram\": \"bar\", \"value\": 19729, \"rank\": 12}, {\"label\": \"3\", \"ngram\": \"night\", \"value\": 19658, \"rank\": 13}, {\"label\": \"3\", \"ngram\": \"people\", \"value\": 19345, \"rank\": 14}, {\"label\": \"3\", \"ngram\": \"Vegas\", \"value\": 18231, \"rank\": 15}, {\"label\": \"3\", \"ngram\": \"chicken\", \"value\": 18131, \"rank\": 16}, {\"label\": \"3\", \"ngram\": \"5\", \"value\": 17593, \"rank\": 17}, {\"label\": \"3\", \"ngram\": \"bit\", \"value\": 17535, \"rank\": 18}, {\"label\": \"3\", \"ngram\": \"staff\", \"value\": 16952, \"rank\": 19}, {\"label\": \"3\", \"ngram\": \"lunch\", \"value\": 16500, \"rank\": 20}, {\"label\": \"0\", \"ngram\": \"food\", \"value\": 73208, \"rank\": 1}, {\"label\": \"0\", \"ngram\": \"time\", \"value\": 58869, \"rank\": 2}, {\"label\": \"0\", \"ngram\": \"service\", \"value\": 56141, \"rank\": 3}, {\"label\": \"0\", \"ngram\": \"told\", \"value\": 40547, \"rank\": 4}, {\"label\": \"0\", \"ngram\": \"minutes\", \"value\": 33822, \"rank\": 5}, {\"label\": \"0\", \"ngram\": \"people\", \"value\": 30830, \"rank\": 6}, {\"label\": \"0\", \"ngram\": \"2\", \"value\": 26418, \"rank\": 7}, {\"label\": \"0\", \"ngram\": \"bad\", \"value\": 24909, \"rank\": 8}, {\"label\": \"0\", \"ngram\": \"restaurant\", \"value\": 23215, \"rank\": 9}, {\"label\": \"0\", \"ngram\": \"customer\", \"value\": 21879, \"rank\": 10}, {\"label\": \"0\", \"ngram\": \"manager\", \"value\": 21799, \"rank\": 11}, {\"label\": \"0\", \"ngram\": \"experience\", \"value\": 21443, \"rank\": 12}, {\"label\": \"0\", \"ngram\": \"table\", \"value\": 20515, \"rank\": 13}, {\"label\": \"0\", \"ngram\": \"called\", \"value\": 20466, \"rank\": 14}, {\"label\": \"0\", \"ngram\": \"nThe\", \"value\": 19899, \"rank\": 15}, {\"label\": \"0\", \"ngram\": \"day\", \"value\": 19632, \"rank\": 16}, {\"label\": \"0\", \"ngram\": \"left\", \"value\": 19605, \"rank\": 17}, {\"label\": \"0\", \"ngram\": \"3\", \"value\": 19503, \"rank\": 18}, {\"label\": \"0\", \"ngram\": \"money\", \"value\": 19168, \"rank\": 19}, {\"label\": \"0\", \"ngram\": \"wait\", \"value\": 18536, \"rank\": 20}, {\"label\": \"2\", \"ngram\": \"food\", \"value\": 81385, \"rank\": 1}, {\"label\": \"2\", \"ngram\": \"time\", \"value\": 47289, \"rank\": 2}, {\"label\": \"2\", \"ngram\": \"service\", \"value\": 39698, \"rank\": 3}, {\"label\": \"2\", \"ngram\": \"nThe\", \"value\": 37331, \"rank\": 4}, {\"label\": \"2\", \"ngram\": \"pretty\", \"value\": 35938, \"rank\": 5}, {\"label\": \"2\", \"ngram\": \"nice\", \"value\": 34196, \"rank\": 6}, {\"label\": \"2\", \"ngram\": \"restaurant\", \"value\": 24409, \"rank\": 7}, {\"label\": \"2\", \"ngram\": \"3\", \"value\": 24014, \"rank\": 8}, {\"label\": \"2\", \"ngram\": \"people\", \"value\": 23876, \"rank\": 9}, {\"label\": \"2\", \"ngram\": \"menu\", \"value\": 23355, \"rank\": 10}, {\"label\": \"2\", \"ngram\": \"bit\", \"value\": 22467, \"rank\": 11}, {\"label\": \"2\", \"ngram\": \"bar\", \"value\": 22256, \"rank\": 12}, {\"label\": \"2\", \"ngram\": \"night\", \"value\": 21325, \"rank\": 13}, {\"label\": \"2\", \"ngram\": \"2\", \"value\": 20642, \"rank\": 14}, {\"label\": \"2\", \"ngram\": \"chicken\", \"value\": 20217, \"rank\": 15}, {\"label\": \"2\", \"ngram\": \"bad\", \"value\": 19564, \"rank\": 16}, {\"label\": \"2\", \"ngram\": \"5\", \"value\": 18560, \"rank\": 17}, {\"label\": \"2\", \"ngram\": \"stars\", \"value\": 17157, \"rank\": 18}, {\"label\": \"2\", \"ngram\": \"Vegas\", \"value\": 16613, \"rank\": 19}, {\"label\": \"2\", \"ngram\": \"sauce\", \"value\": 16406, \"rank\": 20}]}, {\"name\": \"column_domain\", \"values\": [{\"label\": \"4\", \"count\": 20}, {\"label\": \"1\", \"count\": 20}, {\"label\": \"3\", \"count\": 20}, {\"label\": \"0\", \"count\": 20}, {\"label\": \"2\", \"count\": 20}]}, {\"name\": \"data_2\"}, {\"name\": \"source_0_color_domain_ngram\", \"values\": [{\"ngram\": \"food\", \"sort_field\": 370555}, {\"ngram\": \"time\", \"sort_field\": 246676}, {\"ngram\": \"service\", \"sort_field\": 214593}, {\"ngram\": \"love\", \"sort_field\": 46447}, {\"ngram\": \"amazing\", \"sort_field\": 21956}, {\"ngram\": \"friendly\", \"sort_field\": 42054}, {\"ngram\": \"nThe\", \"sort_field\": 145897}, {\"ngram\": \"nice\", \"sort_field\": 113399}, {\"ngram\": \"Vegas\", \"sort_field\": 55443}, {\"ngram\": \"staff\", \"sort_field\": 37301}, {\"ngram\": \"delicious\", \"sort_field\": 39608}, {\"ngram\": \"restaurant\", \"sort_field\": 113584}, {\"ngram\": \"menu\", \"sort_field\": 82354}, {\"ngram\": \"people\", \"sort_field\": 117404}, {\"ngram\": \"experience\", \"sort_field\": 56687}, {\"ngram\": \"recommend\", \"sort_field\": 15341}, {\"ngram\": \"awesome\", \"sort_field\": 14052}, {\"ngram\": \"favorite\", \"sort_field\": 13852}, {\"ngram\": \"day\", \"sort_field\": 33448}, {\"ngram\": \"fresh\", \"sort_field\": 13591}, {\"ngram\": \"2\", \"sort_field\": 76967}, {\"ngram\": \"pretty\", \"sort_field\": 86555}, {\"ngram\": \"minutes\", \"sort_field\": 58851}, {\"ngram\": \"bad\", \"sort_field\": 67982}, {\"ngram\": \"table\", \"sort_field\": 42407}, {\"ngram\": \"night\", \"sort_field\": 61767}, {\"ngram\": \"chicken\", \"sort_field\": 58576}, {\"ngram\": \"bar\", \"sort_field\": 62199}, {\"ngram\": \"5\", \"sort_field\": 54020}, {\"ngram\": \"3\", \"sort_field\": 61330}, {\"ngram\": \"wait\", \"sort_field\": 36112}, {\"ngram\": \"bit\", \"sort_field\": 40002}, {\"ngram\": \"lunch\", \"sort_field\": 16500}, {\"ngram\": \"told\", \"sort_field\": 40547}, {\"ngram\": \"customer\", \"sort_field\": 21879}, {\"ngram\": \"manager\", \"sort_field\": 21799}, {\"ngram\": \"called\", \"sort_field\": 20466}, {\"ngram\": \"left\", \"sort_field\": 19605}, {\"ngram\": \"money\", \"sort_field\": 19168}, {\"ngram\": \"stars\", \"sort_field\": 17157}, {\"ngram\": \"sauce\", \"sort_field\": 16406}]}], \"signals\": [{\"name\": \"child_width\", \"value\": 160}, {\"name\": \"child_y_step\", \"value\": 20}, {\"name\": \"param_3\", \"value\": \"\", \"bind\": {\"input\": \"search\", \"placeholder\": \"insert token...\", \"name\": \"Filter by token \"}}], \"marks\": [{\"type\": \"group\", \"name\": \"column-title\", \"title\": {\"text\": \"label\", \"style\": \"guide-title\", \"offset\": 10}, \"role\": \"column-title\"}, {\"type\": \"group\", \"name\": \"column_header\", \"from\": {\"data\": \"column_domain\"}, \"sort\": {\"field\": \"datum[\\\"label\\\"]\", \"order\": \"ascending\"}, \"encode\": {\"update\": {\"width\": {\"signal\": \"child_width\"}}}, \"title\": {\"text\": {\"signal\": \"isValid(parent[\\\"label\\\"]) ? parent[\\\"label\\\"] : \\\"\\\"+parent[\\\"label\\\"]\"}, \"frame\": \"group\", \"fontWeight\": \"bold\", \"offset\": 10, \"style\": \"guide-label\"}, \"role\": \"column-header\"}, {\"type\": \"group\", \"name\": \"cell\", \"from\": {\"facet\": {\"data\": \"source_0\", \"name\": \"facet\", \"groupby\": [\"label\"], \"aggregate\": {\"fields\": [\"ngram\"], \"ops\": [\"distinct\"], \"as\": [\"distinct_ngram\"]}}}, \"sort\": {\"field\": [\"datum[\\\"label\\\"]\"], \"order\": [\"ascending\"]}, \"encode\": {\"update\": {\"height\": {\"signal\": \"bandspace(datum[\\\"distinct_ngram\\\"], 0.1, 0.05) * child_y_step\"}, \"width\": {\"signal\": \"child_width\"}}}, \"data\": [{\"name\": \"data_0\", \"source\": \"facet\", \"transform\": [{\"type\": \"stack\", \"field\": \"value\", \"groupby\": [\"ngram\"], \"sort\": {\"field\": [], \"order\": []}, \"as\": [\"value_start\", \"value_end\"], \"offset\": \"zero\"}, {\"type\": \"filter\", \"expr\": \"isValid(datum[\\\"value\\\"]) && isFinite(+datum[\\\"value\\\"])\"}]}, {\"name\": \"facet_child_y_domain_ngram_2\", \"source\": \"facet\", \"transform\": [{\"type\": \"aggregate\", \"groupby\": [\"ngram\"], \"fields\": [\"value\"], \"ops\": [\"sum\"], \"as\": [\"sort_field\"]}, {\"type\": \"project\", \"fields\": [\"ngram\", \"sort_field\"]}]}], \"marks\": [{\"type\": \"group\", \"from\": {\"facet\": {\"data\": \"data_0\", \"name\": \"stack_group_child_main\", \"groupby\": [\"ngram\"], \"aggregate\": {\"fields\": [\"value_start\", \"value_start\", \"value_end\", \"value_end\"], \"ops\": [\"min\", \"max\", \"min\", \"max\"]}}}, \"encode\": {\"update\": {\"cornerRadiusTopRight\": {\"value\": 5}, \"height\": {\"value\": 15}, \"x\": {\"signal\": \"min(scale('child_x',datum[\\\"min_value_start\\\"]),scale('child_x',datum[\\\"max_value_start\\\"]),scale('child_x',datum[\\\"min_value_end\\\"]),scale('child_x',datum[\\\"max_value_end\\\"]))\"}, \"clip\": {\"value\": true}, \"cornerRadiusBottomRight\": {\"value\": 5}, \"yc\": {\"field\": \"ngram\", \"scale\": \"child_y\", \"band\": 0.5}, \"x2\": {\"signal\": \"max(scale('child_x',datum[\\\"min_value_start\\\"]),scale('child_x',datum[\\\"max_value_start\\\"]),scale('child_x',datum[\\\"min_value_end\\\"]),scale('child_x',datum[\\\"max_value_end\\\"]))\"}}}, \"marks\": [{\"type\": \"group\", \"encode\": {\"update\": {\"x\": {\"field\": {\"signal\": null, \"datum\": null, \"group\": \"x\", \"parent\": null}, \"mult\": -1}, \"height\": {\"field\": {\"signal\": null, \"datum\": null, \"group\": \"height\", \"parent\": null}}}}, \"marks\": [{\"type\": \"rect\", \"name\": \"child_marks\", \"from\": {\"data\": \"stack_group_child_main\"}, \"encode\": {\"update\": {\"x\": {\"field\": \"value_end\", \"scale\": \"child_x\"}, \"height\": {\"field\": {\"signal\": null, \"datum\": null, \"group\": \"height\", \"parent\": null}}, \"fill\": [{\"field\": \"ngram\", \"scale\": \"color\", \"test\": \"test(regexp(param_3,'i'),datum.ngram)\"}, {\"value\": \"\"}], \"tooltip\": {\"signal\": \"{\\\"token\\\": isValid(datum[\\\"ngram\\\"]) ? datum[\\\"ngram\\\"] : \\\"\\\"+datum[\\\"ngram\\\"], \\\"freq value\\\": format(datum[\\\"value\\\"], \\\"\\\")}\"}, \"opacity\": [{\"value\": 1, \"test\": \"test(regexp(param_3,'i'),datum.ngram)\"}, {\"value\": 0}], \"x2\": {\"field\": \"value_start\", \"scale\": \"child_x\"}}}, \"style\": [\"bar\"]}]}]}], \"scales\": [{\"name\": \"child_x\", \"type\": \"linear\", \"domain\": {\"data\": \"data_0\", \"fields\": [\"value_start\", \"value_end\"]}, \"range\": [0, {\"signal\": \"child_width\"}], \"zero\": true, \"nice\": true}, {\"name\": \"child_y\", \"type\": \"band\", \"domain\": {\"data\": \"facet_child_y_domain_ngram_2\", \"field\": \"ngram\", \"sort\": {\"op\": \"max\", \"field\": \"sort_field\", \"order\": \"descending\"}}, \"range\": {\"step\": {\"signal\": \"child_y_step\"}}, \"paddingInner\": 0.1, \"paddingOuter\": 0.05}], \"axes\": [{\"scale\": \"child_x\", \"ticks\": false, \"zindex\": 0, \"gridScale\": \"child_y\", \"tickCount\": {\"signal\": \"ceil(child_width/40)\"}, \"maxExtent\": 0, \"grid\": true, \"domain\": false, \"orient\": \"bottom\", \"labels\": false, \"minExtent\": 0, \"aria\": false}, {\"scale\": \"child_x\", \"orient\": \"bottom\", \"labelOverlap\": true, \"zindex\": 0, \"tickCount\": {\"signal\": \"ceil(child_width/40)\"}, \"title\": \"freq\", \"grid\": false, \"labelFlush\": true}, {\"scale\": \"child_y\", \"grid\": false, \"zindex\": 0, \"orient\": \"left\"}], \"style\": \"cell\"}], \"scales\": [{\"name\": \"color\", \"type\": \"ordinal\", \"domain\": {\"data\": \"source_0_color_domain_ngram\", \"field\": \"ngram\", \"sort\": {\"op\": \"max\", \"field\": \"sort_field\", \"order\": \"descending\"}}, \"range\": \"category\"}], \"padding\": 5, \"background\": \"white\", \"legends\": [{\"fill\": \"color\", \"symbolType\": \"square\", \"encode\": {\"symbols\": {\"update\": {\"opacity\": {\"value\": 1}}}}}], \"layout\": {\"padding\": 20, \"offset\": {\"columnTitle\": 10}, \"columns\": {\"signal\": \"length(data('column_domain'))\"}, \"bounds\": \"full\", \"align\": \"none\", \"center\": true}}, {\"mode\": \"vega\"});\n",
              "</script>"
            ],
            "text/plain": [
              "alt.Chart(...)"
            ]
          },
          "metadata": {},
          "execution_count": 8
        }
      ],
      "source": [
        "charts[\"freq\"][\"BarChart\"]"
      ]
    },
    {
      "cell_type": "code",
      "execution_count": 9,
      "metadata": {
        "colab": {
          "base_uri": "https://localhost:8080/",
          "height": 535
        },
        "id": "tULijn0bl38O",
        "outputId": "5c4735a1-41bb-40af-f7dd-735762ea31f1"
      },
      "outputs": [
        {
          "output_type": "execute_result",
          "data": {
            "text/html": [
              "\n",
              "<style>\n",
              "  #altair-viz-fcc680e5f40f463c9a510a4cc9170755.vega-embed {\n",
              "    width: 100%;\n",
              "    display: flex;\n",
              "  }\n",
              "\n",
              "  #altair-viz-fcc680e5f40f463c9a510a4cc9170755.vega-embed details,\n",
              "  #altair-viz-fcc680e5f40f463c9a510a4cc9170755.vega-embed details summary {\n",
              "    position: relative;\n",
              "  }\n",
              "</style>\n",
              "<div id=\"altair-viz-fcc680e5f40f463c9a510a4cc9170755\"></div>\n",
              "<script type=\"text/javascript\">\n",
              "  var VEGA_DEBUG = (typeof VEGA_DEBUG == \"undefined\") ? {} : VEGA_DEBUG;\n",
              "  (function(spec, embedOpt){\n",
              "    let outputDiv = document.currentScript.previousElementSibling;\n",
              "    if (outputDiv.id !== \"altair-viz-fcc680e5f40f463c9a510a4cc9170755\") {\n",
              "      outputDiv = document.getElementById(\"altair-viz-fcc680e5f40f463c9a510a4cc9170755\");\n",
              "    }\n",
              "    const paths = {\n",
              "      \"vega\": \"https://cdn.jsdelivr.net/npm/vega@5?noext\",\n",
              "      \"vega-lib\": \"https://cdn.jsdelivr.net/npm/vega-lib?noext\",\n",
              "      \"vega-lite\": \"https://cdn.jsdelivr.net/npm/vega-lite@5.16.3?noext\",\n",
              "      \"vega-embed\": \"https://cdn.jsdelivr.net/npm/vega-embed@6?noext\",\n",
              "    };\n",
              "\n",
              "    function maybeLoadScript(lib, version) {\n",
              "      var key = `${lib.replace(\"-\", \"\")}_version`;\n",
              "      return (VEGA_DEBUG[key] == version) ?\n",
              "        Promise.resolve(paths[lib]) :\n",
              "        new Promise(function(resolve, reject) {\n",
              "          var s = document.createElement('script');\n",
              "          document.getElementsByTagName(\"head\")[0].appendChild(s);\n",
              "          s.async = true;\n",
              "          s.onload = () => {\n",
              "            VEGA_DEBUG[key] = version;\n",
              "            return resolve(paths[lib]);\n",
              "          };\n",
              "          s.onerror = () => reject(`Error loading script: ${paths[lib]}`);\n",
              "          s.src = paths[lib];\n",
              "        });\n",
              "    }\n",
              "\n",
              "    function showError(err) {\n",
              "      outputDiv.innerHTML = `<div class=\"error\" style=\"color:red;\">${err}</div>`;\n",
              "      throw err;\n",
              "    }\n",
              "\n",
              "    function displayChart(vegaEmbed) {\n",
              "      vegaEmbed(outputDiv, spec, embedOpt)\n",
              "        .catch(err => showError(`Javascript Error: ${err.message}<br>This usually means there's a typo in your chart specification. See the javascript console for the full traceback.`));\n",
              "    }\n",
              "\n",
              "    if(typeof define === \"function\" && define.amd) {\n",
              "      requirejs.config({paths});\n",
              "      require([\"vega-embed\"], displayChart, err => showError(`Error loading script: ${err.message}`));\n",
              "    } else {\n",
              "      maybeLoadScript(\"vega\", \"5\")\n",
              "        .then(() => maybeLoadScript(\"vega-lite\", \"5.16.3\"))\n",
              "        .then(() => maybeLoadScript(\"vega-embed\", \"6\"))\n",
              "        .catch(showError)\n",
              "        .then(() => displayChart(vegaEmbed));\n",
              "    }\n",
              "  })({\"$schema\": \"https://vega.github.io/schema/vega/v5.json\", \"data\": [{\"name\": \"source_0\", \"values\": [{\"label\": \"4\", \"ngram\": \"food\", \"value\": 1.0, \"rank\": 1}, {\"label\": \"4\", \"ngram\": \"time\", \"value\": 0.8085477992419517, \"rank\": 2}, {\"label\": \"4\", \"ngram\": \"service\", \"value\": 0.6692458007887214, \"rank\": 3}, {\"label\": \"4\", \"ngram\": \"love\", \"value\": 0.6014307985294325, \"rank\": 4}, {\"label\": \"4\", \"ngram\": \"amazing\", \"value\": 0.5457805487092446, \"rank\": 5}, {\"label\": \"4\", \"ngram\": \"friendly\", \"value\": 0.4853959719634319, \"rank\": 6}, {\"label\": \"4\", \"ngram\": \"delicious\", \"value\": 0.453931614285198, \"rank\": 7}, {\"label\": \"4\", \"ngram\": \"Vegas\", \"value\": 0.4434362608161904, \"rank\": 8}, {\"label\": \"4\", \"ngram\": \"staff\", \"value\": 0.4312420463945033, \"rank\": 9}, {\"label\": \"4\", \"ngram\": \"nice\", \"value\": 0.40369235898828176, \"rank\": 10}, {\"label\": \"4\", \"ngram\": \"nThe\", \"value\": 0.3883674760326104, \"rank\": 11}, {\"label\": \"4\", \"ngram\": \"recommend\", \"value\": 0.3562589087101966, \"rank\": 12}, {\"label\": \"4\", \"ngram\": \"awesome\", \"value\": 0.33548120996664643, \"rank\": 13}, {\"label\": \"4\", \"ngram\": \"favorite\", \"value\": 0.32876444364207846, \"rank\": 14}, {\"label\": \"4\", \"ngram\": \"restaurant\", \"value\": 0.3231396101333916, \"rank\": 15}, {\"label\": \"4\", \"ngram\": \"experience\", \"value\": 0.3052583173515047, \"rank\": 16}, {\"label\": \"4\", \"ngram\": \"menu\", \"value\": 0.29833419183480736, \"rank\": 17}, {\"label\": \"4\", \"ngram\": \"fresh\", \"value\": 0.29350395639858207, \"rank\": 18}, {\"label\": \"4\", \"ngram\": \"people\", \"value\": 0.2801204742721492, \"rank\": 19}, {\"label\": \"4\", \"ngram\": \"day\", \"value\": 0.2722755919536765, \"rank\": 20}, {\"label\": \"1\", \"ngram\": \"food\", \"value\": 1.0, \"rank\": 1}, {\"label\": \"1\", \"ngram\": \"time\", \"value\": 0.5608783168533755, \"rank\": 2}, {\"label\": \"1\", \"ngram\": \"service\", \"value\": 0.5210401192218316, \"rank\": 3}, {\"label\": \"1\", \"ngram\": \"nThe\", \"value\": 0.370945356476197, \"rank\": 4}, {\"label\": \"1\", \"ngram\": \"2\", \"value\": 0.32526985362671723, \"rank\": 5}, {\"label\": \"1\", \"ngram\": \"restaurant\", \"value\": 0.28996573741238146, \"rank\": 6}, {\"label\": \"1\", \"ngram\": \"people\", \"value\": 0.28940404489914573, \"rank\": 7}, {\"label\": \"1\", \"ngram\": \"minutes\", \"value\": 0.2733805671989023, \"rank\": 8}, {\"label\": \"1\", \"ngram\": \"pretty\", \"value\": 0.26426659517388373, \"rank\": 9}, {\"label\": \"1\", \"ngram\": \"bad\", \"value\": 0.2542926970930796, \"rank\": 10}, {\"label\": \"1\", \"ngram\": \"nice\", \"value\": 0.2530834177797321, \"rank\": 11}, {\"label\": \"1\", \"ngram\": \"table\", \"value\": 0.23582138447366022, \"rank\": 12}, {\"label\": \"1\", \"ngram\": \"menu\", \"value\": 0.21735837342741163, \"rank\": 13}, {\"label\": \"1\", \"ngram\": \"night\", \"value\": 0.21249166790452925, \"rank\": 14}, {\"label\": \"1\", \"ngram\": \"chicken\", \"value\": 0.21055082807930042, \"rank\": 15}, {\"label\": \"1\", \"ngram\": \"bar\", \"value\": 0.20740417878362322, \"rank\": 16}, {\"label\": \"1\", \"ngram\": \"experience\", \"value\": 0.20588277234393706, \"rank\": 17}, {\"label\": \"1\", \"ngram\": \"told\", \"value\": 0.18096289917650232, \"rank\": 18}, {\"label\": \"1\", \"ngram\": \"wait\", \"value\": 0.18079828096827236, \"rank\": 19}, {\"label\": \"1\", \"ngram\": \"3\", \"value\": 0.18007547103157748, \"rank\": 20}, {\"label\": \"3\", \"ngram\": \"food\", \"value\": 1.0, \"rank\": 1}, {\"label\": \"3\", \"ngram\": \"time\", \"value\": 0.6463381061525393, \"rank\": 2}, {\"label\": \"3\", \"ngram\": \"nice\", \"value\": 0.5311916827328927, \"rank\": 3}, {\"label\": \"3\", \"ngram\": \"nThe\", \"value\": 0.5009088969882837, \"rank\": 4}, {\"label\": \"3\", \"ngram\": \"service\", \"value\": 0.4762438255916428, \"rank\": 5}, {\"label\": \"3\", \"ngram\": \"pretty\", \"value\": 0.3969715543299178, \"rank\": 6}, {\"label\": \"3\", \"ngram\": \"menu\", \"value\": 0.3526950379969293, \"rank\": 7}, {\"label\": \"3\", \"ngram\": \"delicious\", \"value\": 0.34925144344512105, \"rank\": 8}, {\"label\": \"3\", \"ngram\": \"friendly\", \"value\": 0.3351511765566705, \"rank\": 9}, {\"label\": \"3\", \"ngram\": \"love\", \"value\": 0.3334847989303045, \"rank\": 10}, {\"label\": \"3\", \"ngram\": \"restaurant\", \"value\": 0.3128538253460465, \"rank\": 11}, {\"label\": \"3\", \"ngram\": \"bar\", \"value\": 0.3071405840089311, \"rank\": 12}, {\"label\": \"3\", \"ngram\": \"night\", \"value\": 0.30249807259911354, \"rank\": 13}, {\"label\": \"3\", \"ngram\": \"bit\", \"value\": 0.28446641481722185, \"rank\": 14}, {\"label\": \"3\", \"ngram\": \"Vegas\", \"value\": 0.2835879743519886, \"rank\": 15}, {\"label\": \"3\", \"ngram\": \"chicken\", \"value\": 0.28027592927276906, \"rank\": 16}, {\"label\": \"3\", \"ngram\": \"people\", \"value\": 0.27837961677195755, \"rank\": 17}, {\"label\": \"3\", \"ngram\": \"5\", \"value\": 0.26888358846280175, \"rank\": 18}, {\"label\": \"3\", \"ngram\": \"lunch\", \"value\": 0.26865214003156646, \"rank\": 19}, {\"label\": \"3\", \"ngram\": \"fresh\", \"value\": 0.2571236241907132, \"rank\": 20}, {\"label\": \"0\", \"ngram\": \"food\", \"value\": 1.0, \"rank\": 1}, {\"label\": \"0\", \"ngram\": \"time\", \"value\": 0.84384786536517, \"rank\": 2}, {\"label\": \"0\", \"ngram\": \"service\", \"value\": 0.8231629411273859, \"rank\": 3}, {\"label\": \"0\", \"ngram\": \"told\", \"value\": 0.699231310854081, \"rank\": 4}, {\"label\": \"0\", \"ngram\": \"minutes\", \"value\": 0.5463042542831885, \"rank\": 5}, {\"label\": \"0\", \"ngram\": \"people\", \"value\": 0.45245410935174774, \"rank\": 6}, {\"label\": \"0\", \"ngram\": \"2\", \"value\": 0.3849140759099658, \"rank\": 7}, {\"label\": \"0\", \"ngram\": \"manager\", \"value\": 0.38278161517311865, \"rank\": 8}, {\"label\": \"0\", \"ngram\": \"bad\", \"value\": 0.3770695998052215, \"rank\": 9}, {\"label\": \"0\", \"ngram\": \"customer\", \"value\": 0.36944550504023044, \"rank\": 10}, {\"label\": \"0\", \"ngram\": \"called\", \"value\": 0.34831287940997246, \"rank\": 11}, {\"label\": \"0\", \"ngram\": \"restaurant\", \"value\": 0.319923912972812, \"rank\": 12}, {\"label\": \"0\", \"ngram\": \"money\", \"value\": 0.3183942908547539, \"rank\": 13}, {\"label\": \"0\", \"ngram\": \"left\", \"value\": 0.3153409022286377, \"rank\": 14}, {\"label\": \"0\", \"ngram\": \"experience\", \"value\": 0.31241272285710275, \"rank\": 15}, {\"label\": \"0\", \"ngram\": \"table\", \"value\": 0.30028913291728887, \"rank\": 16}, {\"label\": \"0\", \"ngram\": \"day\", \"value\": 0.28524006395997975, \"rank\": 17}, {\"label\": \"0\", \"ngram\": \"3\", \"value\": 0.2784681967548999, \"rank\": 18}, {\"label\": \"0\", \"ngram\": \"car\", \"value\": 0.2777618271458248, \"rank\": 19}, {\"label\": \"0\", \"ngram\": \"wait\", \"value\": 0.2667219644249797, \"rank\": 20}, {\"label\": \"2\", \"ngram\": \"food\", \"value\": 1.0, \"rank\": 1}, {\"label\": \"2\", \"ngram\": \"time\", \"value\": 0.5609546404171749, \"rank\": 2}, {\"label\": \"2\", \"ngram\": \"pretty\", \"value\": 0.489157217073371, \"rank\": 3}, {\"label\": \"2\", \"ngram\": \"nThe\", \"value\": 0.47651658489824195, \"rank\": 4}, {\"label\": \"2\", \"ngram\": \"service\", \"value\": 0.4664857564713383, \"rank\": 5}, {\"label\": \"2\", \"ngram\": \"nice\", \"value\": 0.44211842764820086, \"rank\": 6}, {\"label\": \"2\", \"ngram\": \"3\", \"value\": 0.31573760260142086, \"rank\": 7}, {\"label\": \"2\", \"ngram\": \"bit\", \"value\": 0.3058678482779037, \"rank\": 8}, {\"label\": \"2\", \"ngram\": \"restaurant\", \"value\": 0.2982587673768126, \"rank\": 9}, {\"label\": \"2\", \"ngram\": \"menu\", \"value\": 0.29575451869945074, \"rank\": 10}, {\"label\": \"2\", \"ngram\": \"people\", \"value\": 0.2876300457222249, \"rank\": 11}, {\"label\": \"2\", \"ngram\": \"bar\", \"value\": 0.2826054344670469, \"rank\": 12}, {\"label\": \"2\", \"ngram\": \"night\", \"value\": 0.26513887618833476, \"rank\": 13}, {\"label\": \"2\", \"ngram\": \"chicken\", \"value\": 0.2542255696836292, \"rank\": 14}, {\"label\": \"2\", \"ngram\": \"2\", \"value\": 0.24733620512875495, \"rank\": 15}, {\"label\": \"2\", \"ngram\": \"bad\", \"value\": 0.24445838064940056, \"rank\": 16}, {\"label\": \"2\", \"ngram\": \"stars\", \"value\": 0.23032794273200785, \"rank\": 17}, {\"label\": \"2\", \"ngram\": \"5\", \"value\": 0.22760740045538264, \"rank\": 18}, {\"label\": \"2\", \"ngram\": \"lot\", \"value\": 0.21065040972406399, \"rank\": 19}, {\"label\": \"2\", \"ngram\": \"sauce\", \"value\": 0.20705367233371735, \"rank\": 20}]}, {\"name\": \"column_domain\", \"values\": [{\"label\": \"4\", \"count\": 20}, {\"label\": \"1\", \"count\": 20}, {\"label\": \"3\", \"count\": 20}, {\"label\": \"0\", \"count\": 20}, {\"label\": \"2\", \"count\": 20}]}, {\"name\": \"data_2\"}, {\"name\": \"source_0_color_domain_ngram\", \"values\": [{\"ngram\": \"food\", \"sort_field\": 5.0}, {\"ngram\": \"time\", \"sort_field\": 3.4205667280302117}, {\"ngram\": \"service\", \"sort_field\": 2.95617844320092}, {\"ngram\": \"love\", \"sort_field\": 0.934915597459737}, {\"ngram\": \"amazing\", \"sort_field\": 0.5457805487092446}, {\"ngram\": \"friendly\", \"sort_field\": 0.8205471485201024}, {\"ngram\": \"delicious\", \"sort_field\": 0.8031830577303191}, {\"ngram\": \"Vegas\", \"sort_field\": 0.727024235168179}, {\"ngram\": \"staff\", \"sort_field\": 0.4312420463945033}, {\"ngram\": \"nice\", \"sort_field\": 1.6300858871491075}, {\"ngram\": \"nThe\", \"sort_field\": 1.7367383143953332}, {\"ngram\": \"recommend\", \"sort_field\": 0.3562589087101966}, {\"ngram\": \"awesome\", \"sort_field\": 0.33548120996664643}, {\"ngram\": \"favorite\", \"sort_field\": 0.32876444364207846}, {\"ngram\": \"restaurant\", \"sort_field\": 1.5441418532414442}, {\"ngram\": \"experience\", \"sort_field\": 0.8235538125525446}, {\"ngram\": \"menu\", \"sort_field\": 1.164142121958599}, {\"ngram\": \"fresh\", \"sort_field\": 0.5506275805892953}, {\"ngram\": \"people\", \"sort_field\": 1.5879882910172252}, {\"ngram\": \"day\", \"sort_field\": 0.5575156559136563}, {\"ngram\": \"2\", \"sort_field\": 0.957520134665438}, {\"ngram\": \"minutes\", \"sort_field\": 0.8196848214820909}, {\"ngram\": \"pretty\", \"sort_field\": 1.1503953665771727}, {\"ngram\": \"bad\", \"sort_field\": 0.8758206775477015}, {\"ngram\": \"table\", \"sort_field\": 0.5361105173909491}, {\"ngram\": \"night\", \"sort_field\": 0.7801286166919775}, {\"ngram\": \"chicken\", \"sort_field\": 0.7450523270356987}, {\"ngram\": \"bar\", \"sort_field\": 0.7971501972596012}, {\"ngram\": \"told\", \"sort_field\": 0.8801942100305833}, {\"ngram\": \"wait\", \"sort_field\": 0.4475202453932521}, {\"ngram\": \"3\", \"sort_field\": 0.7742812703878983}, {\"ngram\": \"bit\", \"sort_field\": 0.5903342630951256}, {\"ngram\": \"5\", \"sort_field\": 0.4964909889181844}, {\"ngram\": \"lunch\", \"sort_field\": 0.26865214003156646}, {\"ngram\": \"manager\", \"sort_field\": 0.38278161517311865}, {\"ngram\": \"customer\", \"sort_field\": 0.36944550504023044}, {\"ngram\": \"called\", \"sort_field\": 0.34831287940997246}, {\"ngram\": \"money\", \"sort_field\": 0.3183942908547539}, {\"ngram\": \"left\", \"sort_field\": 0.3153409022286377}, {\"ngram\": \"car\", \"sort_field\": 0.2777618271458248}, {\"ngram\": \"stars\", \"sort_field\": 0.23032794273200785}, {\"ngram\": \"lot\", \"sort_field\": 0.21065040972406399}, {\"ngram\": \"sauce\", \"sort_field\": 0.20705367233371735}]}], \"signals\": [{\"name\": \"child_width\", \"value\": 160}, {\"name\": \"child_y_step\", \"value\": 20}, {\"name\": \"param_2\", \"value\": \"\", \"bind\": {\"input\": \"search\", \"placeholder\": \"insert token...\", \"name\": \"Filter by token \"}}], \"marks\": [{\"type\": \"group\", \"name\": \"column-title\", \"title\": {\"text\": \"label\", \"offset\": 10, \"style\": \"guide-title\"}, \"role\": \"column-title\"}, {\"type\": \"group\", \"name\": \"column_header\", \"from\": {\"data\": \"column_domain\"}, \"sort\": {\"field\": \"datum[\\\"label\\\"]\", \"order\": \"ascending\"}, \"encode\": {\"update\": {\"width\": {\"signal\": \"child_width\"}}}, \"title\": {\"text\": {\"signal\": \"isValid(parent[\\\"label\\\"]) ? parent[\\\"label\\\"] : \\\"\\\"+parent[\\\"label\\\"]\"}, \"style\": \"guide-label\", \"fontWeight\": \"bold\", \"offset\": 10, \"frame\": \"group\"}, \"role\": \"column-header\"}, {\"type\": \"group\", \"name\": \"cell\", \"from\": {\"facet\": {\"data\": \"source_0\", \"name\": \"facet\", \"groupby\": [\"label\"], \"aggregate\": {\"fields\": [\"ngram\"], \"ops\": [\"distinct\"], \"as\": [\"distinct_ngram\"]}}}, \"sort\": {\"field\": [\"datum[\\\"label\\\"]\"], \"order\": [\"ascending\"]}, \"encode\": {\"update\": {\"width\": {\"signal\": \"child_width\"}, \"height\": {\"signal\": \"bandspace(datum[\\\"distinct_ngram\\\"], 0.1, 0.05) * child_y_step\"}}}, \"data\": [{\"name\": \"data_0\", \"source\": \"facet\", \"transform\": [{\"type\": \"stack\", \"field\": \"value\", \"groupby\": [\"ngram\"], \"sort\": {\"field\": [], \"order\": []}, \"as\": [\"value_start\", \"value_end\"], \"offset\": \"zero\"}, {\"type\": \"filter\", \"expr\": \"isValid(datum[\\\"value\\\"]) && isFinite(+datum[\\\"value\\\"])\"}]}, {\"name\": \"facet_child_y_domain_ngram_2\", \"source\": \"facet\", \"transform\": [{\"type\": \"aggregate\", \"groupby\": [\"ngram\"], \"fields\": [\"value\"], \"ops\": [\"sum\"], \"as\": [\"sort_field\"]}, {\"type\": \"project\", \"fields\": [\"ngram\", \"sort_field\"]}]}], \"marks\": [{\"type\": \"group\", \"from\": {\"facet\": {\"data\": \"data_0\", \"name\": \"stack_group_child_main\", \"groupby\": [\"ngram\"], \"aggregate\": {\"fields\": [\"value_start\", \"value_start\", \"value_end\", \"value_end\"], \"ops\": [\"min\", \"max\", \"min\", \"max\"]}}}, \"encode\": {\"update\": {\"height\": {\"value\": 15}, \"cornerRadiusTopRight\": {\"value\": 5}, \"cornerRadiusBottomRight\": {\"value\": 5}, \"clip\": {\"value\": true}, \"yc\": {\"field\": \"ngram\", \"scale\": \"child_y\", \"band\": 0.5}, \"x\": {\"signal\": \"min(scale('child_x',datum[\\\"min_value_start\\\"]),scale('child_x',datum[\\\"max_value_start\\\"]),scale('child_x',datum[\\\"min_value_end\\\"]),scale('child_x',datum[\\\"max_value_end\\\"]))\"}, \"x2\": {\"signal\": \"max(scale('child_x',datum[\\\"min_value_start\\\"]),scale('child_x',datum[\\\"max_value_start\\\"]),scale('child_x',datum[\\\"min_value_end\\\"]),scale('child_x',datum[\\\"max_value_end\\\"]))\"}}}, \"marks\": [{\"type\": \"group\", \"encode\": {\"update\": {\"x\": {\"field\": {\"signal\": null, \"datum\": null, \"group\": \"x\", \"parent\": null}, \"mult\": -1}, \"height\": {\"field\": {\"signal\": null, \"datum\": null, \"group\": \"height\", \"parent\": null}}}}, \"marks\": [{\"type\": \"rect\", \"name\": \"child_marks\", \"from\": {\"data\": \"stack_group_child_main\"}, \"encode\": {\"update\": {\"opacity\": [{\"value\": 1, \"test\": \"test(regexp(param_2,'i'),datum.ngram)\"}, {\"value\": 0}], \"height\": {\"field\": {\"signal\": null, \"datum\": null, \"group\": \"height\", \"parent\": null}}, \"x\": {\"field\": \"value_end\", \"scale\": \"child_x\"}, \"x2\": {\"field\": \"value_start\", \"scale\": \"child_x\"}, \"fill\": [{\"field\": \"ngram\", \"scale\": \"color\", \"test\": \"test(regexp(param_2,'i'),datum.ngram)\"}, {\"value\": \"\"}], \"tooltip\": {\"signal\": \"{\\\"token\\\": isValid(datum[\\\"ngram\\\"]) ? datum[\\\"ngram\\\"] : \\\"\\\"+datum[\\\"ngram\\\"], \\\"npw_relevance value\\\": format(datum[\\\"value\\\"], \\\"\\\")}\"}}}, \"style\": [\"bar\"]}]}]}], \"scales\": [{\"name\": \"child_x\", \"type\": \"linear\", \"domain\": {\"data\": \"data_0\", \"fields\": [\"value_start\", \"value_end\"]}, \"range\": [0, {\"signal\": \"child_width\"}], \"zero\": true, \"nice\": true}, {\"name\": \"child_y\", \"type\": \"band\", \"domain\": {\"data\": \"facet_child_y_domain_ngram_2\", \"field\": \"ngram\", \"sort\": {\"op\": \"max\", \"field\": \"sort_field\", \"order\": \"descending\"}}, \"range\": {\"step\": {\"signal\": \"child_y_step\"}}, \"paddingInner\": 0.1, \"paddingOuter\": 0.05}], \"axes\": [{\"scale\": \"child_x\", \"minExtent\": 0, \"aria\": false, \"ticks\": false, \"orient\": \"bottom\", \"zindex\": 0, \"gridScale\": \"child_y\", \"tickCount\": {\"signal\": \"ceil(child_width/40)\"}, \"labels\": false, \"maxExtent\": 0, \"domain\": false, \"grid\": true}, {\"scale\": \"child_x\", \"labelFlush\": true, \"zindex\": 0, \"labelOverlap\": true, \"orient\": \"bottom\", \"tickCount\": {\"signal\": \"ceil(child_width/40)\"}, \"title\": \"npw_relevance\", \"grid\": false}, {\"scale\": \"child_y\", \"grid\": false, \"orient\": \"left\", \"zindex\": 0}], \"style\": \"cell\"}], \"scales\": [{\"name\": \"color\", \"type\": \"ordinal\", \"domain\": {\"data\": \"source_0_color_domain_ngram\", \"field\": \"ngram\", \"sort\": {\"op\": \"max\", \"field\": \"sort_field\", \"order\": \"descending\"}}, \"range\": \"category\"}], \"background\": \"white\", \"padding\": 5, \"legends\": [{\"fill\": \"color\", \"symbolType\": \"square\", \"encode\": {\"symbols\": {\"update\": {\"opacity\": {\"value\": 1}}}}}], \"layout\": {\"padding\": 20, \"offset\": {\"columnTitle\": 10}, \"columns\": {\"signal\": \"length(data('column_domain'))\"}, \"bounds\": \"full\", \"align\": \"none\", \"center\": true}}, {\"mode\": \"vega\"});\n",
              "</script>"
            ],
            "text/plain": [
              "alt.Chart(...)"
            ]
          },
          "metadata": {},
          "execution_count": 9
        }
      ],
      "source": [
        "charts[\"npw_relevance\"][\"BarChart\"]"
      ]
    },
    {
      "cell_type": "markdown",
      "metadata": {
        "id": "HAS3oguPm8be"
      },
      "source": [
        "Hm. Looks like \"food\" and \"time\" are very common across all of our labels, so this does not tell us much. Let's try filtering them out with the `custom_stopwords` parameter of Inspector.\n",
        "\n"
      ]
    },
    {
      "cell_type": "code",
      "execution_count": 10,
      "metadata": {
        "id": "bwY6jGESnN_i"
      },
      "outputs": [],
      "source": [
        "inspector_args = InspectorArgs(\n",
        "\t\t text_names=[\"text\"],\n",
        "\t\t var_names=[\"label\"],\n",
        "\t\t metrics=[\"pmi\", \"stats\", \"npw_relevance\", \"ttr\", \"freq\"],\n",
        "\t\t stopwords=True,\n",
        "\t\t custom_stopwords=[\"food\", \"time\"],\n",
        "\t\t language=\"en\",\n",
        "\t\t n_tokens=1,\n",
        "\t\t n_cooc=1\n",
        ")"
      ]
    },
    {
      "cell_type": "code",
      "execution_count": 11,
      "metadata": {
        "colab": {
          "base_uri": "https://localhost:8080/"
        },
        "id": "C9YaJOIGoUzB",
        "outputId": "9e79878b-93cf-47d6-9fce-e97b27f177c0"
      },
      "outputs": [
        {
          "output_type": "stream",
          "name": "stdout",
          "text": [
            "INFO: No values have been set for var_types. Defaults to nominal.\n",
            "INFO: No values have been set for var_semantics. Defaults to general.\n",
            "INFO: The metadata we will be using for the current analysis are:\n",
            "{'text_names': ['text'], 'var_names': ['label'], 'metrics': ['pmi', 'stats', 'npw_relevance', 'ttr', 'freq'], 'var_types': ['nominal'], 'var_semantics': ['general'], 'var_subsets': None, 'var_bins': [0], 'tokenizer': 'whitespace', 'language': 'en', 'n_tokens': 1, 'n_cooc': 1, 'unique_cooc': False, 'cooc_window_size': 0, 'freq_cutoff': 3, 'stopwords': True, 'custom_stopwords': ['food', 'time'], 'lowercase': False, 'ignore_null_var': False}\n",
            "INFO: all column identifiers are treated as column names.\n",
            "INFO: 'Loading hf::yelp_review_full::train' as a HuggingFace dataset. We assume the last element in the specified string is the split (\"train\").\n",
            "INFO: Tokenizing the text column...\n"
          ]
        },
        {
          "output_type": "stream",
          "name": "stderr",
          "text": [
            "100%|██████████| 650000/650000 [03:12<00:00, 3383.15it/s]\n"
          ]
        },
        {
          "output_type": "stream",
          "name": "stdout",
          "text": [
            "INFO: Currently calculating metric: 'pmi'\n"
          ]
        },
        {
          "output_type": "stream",
          "name": "stderr",
          "text": [
            "100%|██████████| 5/5 [00:11<00:00,  2.34s/it]\n"
          ]
        },
        {
          "output_type": "stream",
          "name": "stdout",
          "text": [
            "INFO: Currently calculating metric: 'stats'\n",
            "INFO: Currently calculating metric: 'npw_relevance'\n"
          ]
        },
        {
          "output_type": "stream",
          "name": "stderr",
          "text": [
            "100%|██████████| 5/5 [00:11<00:00,  2.20s/it]\n"
          ]
        },
        {
          "output_type": "stream",
          "name": "stdout",
          "text": [
            "INFO: Currently calculating metric: 'ttr'\n"
          ]
        },
        {
          "output_type": "stream",
          "name": "stderr",
          "text": [
            "100%|██████████| 5/5 [00:05<00:00,  1.15s/it]\n"
          ]
        },
        {
          "output_type": "stream",
          "name": "stdout",
          "text": [
            "INFO: Currently calculating metric: 'freq'\n"
          ]
        },
        {
          "output_type": "stream",
          "name": "stderr",
          "text": [
            "100%|██████████| 5/5 [00:11<00:00,  2.23s/it]\n"
          ]
        }
      ],
      "source": [
        "# Create an inspector instance, run it, and get the results in json\n",
        "results = Inspector(dataset=my_dataset, args=inspector_args).inspect()"
      ]
    },
    {
      "cell_type": "code",
      "execution_count": 13,
      "metadata": {
        "colab": {
          "base_uri": "https://localhost:8080/"
        },
        "id": "QCn_RNPFomMe",
        "outputId": "cd6d12da-0df4-4eaa-f66a-3b865f77d66b"
      },
      "outputs": [
        {
          "output_type": "stream",
          "name": "stdout",
          "text": [
            "Reading json data...\n",
            "INFO: Creating a BarChart object for metric \"pmi\"...\n",
            "INFO: Saving it to the filepath: \"output/pmi/BarChart.html\".\n",
            "The dataset is too big to be serialized as PNG efficiently. Please use the interactive HTML.\n",
            "INFO: Creating a BarChart object for metric \"stats\"...\n",
            "INFO: Saving it to the filepath: \"output/stats/StatsBarChart.html\".\n",
            "The dataset is too big to be serialized as PNG efficiently. Please use the interactive HTML.\n",
            "INFO: Creating a BarChart object for metric \"npw_relevance\"...\n",
            "INFO: Saving it to the filepath: \"output/npw_relevance/BarChart.html\".\n",
            "The dataset is too big to be serialized as PNG efficiently. Please use the interactive HTML.\n",
            "INFO: Creating a BarChart object for metric \"ttr\"...\n",
            "INFO: Saving it to the filepath: \"output/ttr/DiversityBarChart.html\".\n",
            "The dataset is too big to be serialized as PNG efficiently. Please use the interactive HTML.\n",
            "INFO: Creating a BarChart object for metric \"freq\"...\n",
            "INFO: Saving it to the filepath: \"output/freq/BarChart.html\".\n",
            "The dataset is too big to be serialized as PNG efficiently. Please use the interactive HTML.\n"
          ]
        }
      ],
      "source": [
        "# Define the visualizer arguments\n",
        "visualizer_args = VisualizerArgs(\n",
        "\toutput_folder=\"output\", output_formats=[\"html\", \"png\"])\n",
        "\n",
        "# Create dynamic visualizations of the results\n",
        "charts = Visualizer(input_json=results, args=visualizer_args).create()"
      ]
    },
    {
      "cell_type": "code",
      "execution_count": 14,
      "metadata": {
        "colab": {
          "base_uri": "https://localhost:8080/",
          "height": 535
        },
        "id": "dwkIr6cFoofX",
        "outputId": "eb9cac78-53f9-4f31-ab7d-f48fe587ab96"
      },
      "outputs": [
        {
          "output_type": "execute_result",
          "data": {
            "text/html": [
              "\n",
              "<style>\n",
              "  #altair-viz-45c868502f4b4420b67bd3110c20c276.vega-embed {\n",
              "    width: 100%;\n",
              "    display: flex;\n",
              "  }\n",
              "\n",
              "  #altair-viz-45c868502f4b4420b67bd3110c20c276.vega-embed details,\n",
              "  #altair-viz-45c868502f4b4420b67bd3110c20c276.vega-embed details summary {\n",
              "    position: relative;\n",
              "  }\n",
              "</style>\n",
              "<div id=\"altair-viz-45c868502f4b4420b67bd3110c20c276\"></div>\n",
              "<script type=\"text/javascript\">\n",
              "  var VEGA_DEBUG = (typeof VEGA_DEBUG == \"undefined\") ? {} : VEGA_DEBUG;\n",
              "  (function(spec, embedOpt){\n",
              "    let outputDiv = document.currentScript.previousElementSibling;\n",
              "    if (outputDiv.id !== \"altair-viz-45c868502f4b4420b67bd3110c20c276\") {\n",
              "      outputDiv = document.getElementById(\"altair-viz-45c868502f4b4420b67bd3110c20c276\");\n",
              "    }\n",
              "    const paths = {\n",
              "      \"vega\": \"https://cdn.jsdelivr.net/npm/vega@5?noext\",\n",
              "      \"vega-lib\": \"https://cdn.jsdelivr.net/npm/vega-lib?noext\",\n",
              "      \"vega-lite\": \"https://cdn.jsdelivr.net/npm/vega-lite@5.16.3?noext\",\n",
              "      \"vega-embed\": \"https://cdn.jsdelivr.net/npm/vega-embed@6?noext\",\n",
              "    };\n",
              "\n",
              "    function maybeLoadScript(lib, version) {\n",
              "      var key = `${lib.replace(\"-\", \"\")}_version`;\n",
              "      return (VEGA_DEBUG[key] == version) ?\n",
              "        Promise.resolve(paths[lib]) :\n",
              "        new Promise(function(resolve, reject) {\n",
              "          var s = document.createElement('script');\n",
              "          document.getElementsByTagName(\"head\")[0].appendChild(s);\n",
              "          s.async = true;\n",
              "          s.onload = () => {\n",
              "            VEGA_DEBUG[key] = version;\n",
              "            return resolve(paths[lib]);\n",
              "          };\n",
              "          s.onerror = () => reject(`Error loading script: ${paths[lib]}`);\n",
              "          s.src = paths[lib];\n",
              "        });\n",
              "    }\n",
              "\n",
              "    function showError(err) {\n",
              "      outputDiv.innerHTML = `<div class=\"error\" style=\"color:red;\">${err}</div>`;\n",
              "      throw err;\n",
              "    }\n",
              "\n",
              "    function displayChart(vegaEmbed) {\n",
              "      vegaEmbed(outputDiv, spec, embedOpt)\n",
              "        .catch(err => showError(`Javascript Error: ${err.message}<br>This usually means there's a typo in your chart specification. See the javascript console for the full traceback.`));\n",
              "    }\n",
              "\n",
              "    if(typeof define === \"function\" && define.amd) {\n",
              "      requirejs.config({paths});\n",
              "      require([\"vega-embed\"], displayChart, err => showError(`Error loading script: ${err.message}`));\n",
              "    } else {\n",
              "      maybeLoadScript(\"vega\", \"5\")\n",
              "        .then(() => maybeLoadScript(\"vega-lite\", \"5.16.3\"))\n",
              "        .then(() => maybeLoadScript(\"vega-embed\", \"6\"))\n",
              "        .catch(showError)\n",
              "        .then(() => displayChart(vegaEmbed));\n",
              "    }\n",
              "  })({\"$schema\": \"https://vega.github.io/schema/vega/v5.json\", \"data\": [{\"name\": \"source_0\", \"values\": [{\"label\": \"4\", \"ngram\": \"service\", \"value\": 1.0, \"rank\": 1}, {\"label\": \"4\", \"ngram\": \"love\", \"value\": 0.8995770851042495, \"rank\": 2}, {\"label\": \"4\", \"ngram\": \"amazing\", \"value\": 0.8166185577397702, \"rank\": 3}, {\"label\": \"4\", \"ngram\": \"friendly\", \"value\": 0.7259008692815601, \"rank\": 4}, {\"label\": \"4\", \"ngram\": \"delicious\", \"value\": 0.6789707229379592, \"rank\": 5}, {\"label\": \"4\", \"ngram\": \"Vegas\", \"value\": 0.6630137093848967, \"rank\": 6}, {\"label\": \"4\", \"ngram\": \"staff\", \"value\": 0.6447270077380979, \"rank\": 7}, {\"label\": \"4\", \"ngram\": \"nice\", \"value\": 0.603221785805024, \"rank\": 8}, {\"label\": \"4\", \"ngram\": \"nThe\", \"value\": 0.5801848095883936, \"rank\": 9}, {\"label\": \"4\", \"ngram\": \"recommend\", \"value\": 0.5328762829398257, \"rank\": 10}, {\"label\": \"4\", \"ngram\": \"awesome\", \"value\": 0.501865700887612, \"rank\": 11}, {\"label\": \"4\", \"ngram\": \"favorite\", \"value\": 0.49180378608404257, \"rank\": 12}, {\"label\": \"4\", \"ngram\": \"restaurant\", \"value\": 0.48278431868748894, \"rank\": 13}, {\"label\": \"4\", \"ngram\": \"experience\", \"value\": 0.4562106632705285, \"rank\": 14}, {\"label\": \"4\", \"ngram\": \"menu\", \"value\": 0.44578626551828343, \"rank\": 15}, {\"label\": \"4\", \"ngram\": \"fresh\", \"value\": 0.43884715386648593, \"rank\": 16}, {\"label\": \"4\", \"ngram\": \"people\", \"value\": 0.418410229227617, \"rank\": 17}, {\"label\": \"4\", \"ngram\": \"day\", \"value\": 0.4068993580647357, \"rank\": 18}, {\"label\": \"4\", \"ngram\": \"perfect\", \"value\": 0.38841764814994273, \"rank\": 19}, {\"label\": \"4\", \"ngram\": \"night\", \"value\": 0.3675861761913574, \"rank\": 20}, {\"label\": \"1\", \"ngram\": \"service\", \"value\": 1.0, \"rank\": 1}, {\"label\": \"1\", \"ngram\": \"nThe\", \"value\": 0.7119677049281848, \"rank\": 2}, {\"label\": \"1\", \"ngram\": \"2\", \"value\": 0.6244363318643817, \"rank\": 3}, {\"label\": \"1\", \"ngram\": \"restaurant\", \"value\": 0.556543272627419, \"rank\": 4}, {\"label\": \"1\", \"ngram\": \"people\", \"value\": 0.5554443617082955, \"rank\": 5}, {\"label\": \"1\", \"ngram\": \"minutes\", \"value\": 0.5248334724744692, \"rank\": 6}, {\"label\": \"1\", \"ngram\": \"pretty\", \"value\": 0.5071992289558057, \"rank\": 7}, {\"label\": \"1\", \"ngram\": \"bad\", \"value\": 0.4881643000456635, \"rank\": 8}, {\"label\": \"1\", \"ngram\": \"nice\", \"value\": 0.4856204485442227, \"rank\": 9}, {\"label\": \"1\", \"ngram\": \"table\", \"value\": 0.45269528508718193, \"rank\": 10}, {\"label\": \"1\", \"ngram\": \"menu\", \"value\": 0.4171388696799601, \"rank\": 11}, {\"label\": \"1\", \"ngram\": \"night\", \"value\": 0.40779661486805857, \"rank\": 12}, {\"label\": \"1\", \"ngram\": \"chicken\", \"value\": 0.4041112793270979, \"rank\": 13}, {\"label\": \"1\", \"ngram\": \"bar\", \"value\": 0.3980409068325092, \"rank\": 14}, {\"label\": \"1\", \"ngram\": \"experience\", \"value\": 0.3951414876868173, \"rank\": 15}, {\"label\": \"1\", \"ngram\": \"told\", \"value\": 0.3473075974187819, \"rank\": 16}, {\"label\": \"1\", \"ngram\": \"wait\", \"value\": 0.3469848920148628, \"rank\": 17}, {\"label\": \"1\", \"ngram\": \"3\", \"value\": 0.34556465569021727, \"rank\": 18}, {\"label\": \"1\", \"ngram\": \"5\", \"value\": 0.34461236901075515, \"rank\": 19}, {\"label\": \"1\", \"ngram\": \"eat\", \"value\": 0.3359462102473755, \"rank\": 20}, {\"label\": \"3\", \"ngram\": \"nice\", \"value\": 1.0, \"rank\": 1}, {\"label\": \"3\", \"ngram\": \"nThe\", \"value\": 0.9427892736107393, \"rank\": 2}, {\"label\": \"3\", \"ngram\": \"service\", \"value\": 0.895892702371141, \"rank\": 3}, {\"label\": \"3\", \"ngram\": \"pretty\", \"value\": 0.747225973621428, \"rank\": 4}, {\"label\": \"3\", \"ngram\": \"menu\", \"value\": 0.663890634534612, \"rank\": 5}, {\"label\": \"3\", \"ngram\": \"delicious\", \"value\": 0.6577331846951839, \"rank\": 6}, {\"label\": \"3\", \"ngram\": \"friendly\", \"value\": 0.6309971594072535, \"rank\": 7}, {\"label\": \"3\", \"ngram\": \"love\", \"value\": 0.6278308140712731, \"rank\": 8}, {\"label\": \"3\", \"ngram\": \"restaurant\", \"value\": 0.5886903188635193, \"rank\": 9}, {\"label\": \"3\", \"ngram\": \"bar\", \"value\": 0.5780920450502165, \"rank\": 10}, {\"label\": \"3\", \"ngram\": \"night\", \"value\": 0.5693174915668247, \"rank\": 11}, {\"label\": \"3\", \"ngram\": \"bit\", \"value\": 0.5355341766029701, \"rank\": 12}, {\"label\": \"3\", \"ngram\": \"Vegas\", \"value\": 0.5337596978043229, \"rank\": 13}, {\"label\": \"3\", \"ngram\": \"chicken\", \"value\": 0.5275077277093816, \"rank\": 14}, {\"label\": \"3\", \"ngram\": \"people\", \"value\": 0.5237235450395318, \"rank\": 15}, {\"label\": \"3\", \"ngram\": \"5\", \"value\": 0.5060342467939867, \"rank\": 16}, {\"label\": \"3\", \"ngram\": \"lunch\", \"value\": 0.5057721532741174, \"rank\": 17}, {\"label\": \"3\", \"ngram\": \"fresh\", \"value\": 0.48411757496252966, \"rank\": 18}, {\"label\": \"3\", \"ngram\": \"staff\", \"value\": 0.4806457677467742, \"rank\": 19}, {\"label\": \"3\", \"ngram\": \"cheese\", \"value\": 0.449666947062204, \"rank\": 20}, {\"label\": \"0\", \"ngram\": \"service\", \"value\": 1.0, \"rank\": 1}, {\"label\": \"0\", \"ngram\": \"told\", \"value\": 0.8501153401603763, \"rank\": 2}, {\"label\": \"0\", \"ngram\": \"minutes\", \"value\": 0.6639875919463529, \"rank\": 3}, {\"label\": \"0\", \"ngram\": \"people\", \"value\": 0.5496558363586693, \"rank\": 4}, {\"label\": \"0\", \"ngram\": \"2\", \"value\": 0.46758818267852614, \"rank\": 5}, {\"label\": \"0\", \"ngram\": \"manager\", \"value\": 0.4654177616506188, \"rank\": 6}, {\"label\": \"0\", \"ngram\": \"bad\", \"value\": 0.4581499832233366, \"rank\": 7}, {\"label\": \"0\", \"ngram\": \"customer\", \"value\": 0.44912376971459533, \"rank\": 8}, {\"label\": \"0\", \"ngram\": \"called\", \"value\": 0.42344864664219434, \"rank\": 9}, {\"label\": \"0\", \"ngram\": \"restaurant\", \"value\": 0.3885209644359774, \"rank\": 10}, {\"label\": \"0\", \"ngram\": \"money\", \"value\": 0.38703302784650695, \"rank\": 11}, {\"label\": \"0\", \"ngram\": \"left\", \"value\": 0.383263091138809, \"rank\": 12}, {\"label\": \"0\", \"ngram\": \"experience\", \"value\": 0.37951448478482536, \"rank\": 13}, {\"label\": \"0\", \"ngram\": \"table\", \"value\": 0.36479593012674555, \"rank\": 14}, {\"label\": \"0\", \"ngram\": \"day\", \"value\": 0.3465004618728183, \"rank\": 15}, {\"label\": \"0\", \"ngram\": \"3\", \"value\": 0.3382425593899764, \"rank\": 16}, {\"label\": \"0\", \"ngram\": \"car\", \"value\": 0.33764843013933993, \"rank\": 17}, {\"label\": \"0\", \"ngram\": \"wait\", \"value\": 0.3239885085546189, \"rank\": 18}, {\"label\": \"0\", \"ngram\": \"5\", \"value\": 0.3068172122220181, \"rank\": 19}, {\"label\": \"0\", \"ngram\": \"business\", \"value\": 0.3035702510390559, \"rank\": 20}, {\"label\": \"2\", \"ngram\": \"pretty\", \"value\": 1.0, \"rank\": 1}, {\"label\": \"2\", \"ngram\": \"nThe\", \"value\": 0.9738372652805903, \"rank\": 2}, {\"label\": \"2\", \"ngram\": \"service\", \"value\": 0.9529016525428219, \"rank\": 3}, {\"label\": \"2\", \"ngram\": \"nice\", \"value\": 0.9036000598613729, \"rank\": 4}, {\"label\": \"2\", \"ngram\": \"3\", \"value\": 0.6453597048294506, \"rank\": 5}, {\"label\": \"2\", \"ngram\": \"bit\", \"value\": 0.6252963108491819, \"rank\": 6}, {\"label\": \"2\", \"ngram\": \"restaurant\", \"value\": 0.6093949369879299, \"rank\": 7}, {\"label\": \"2\", \"ngram\": \"menu\", \"value\": 0.6043957408703694, \"rank\": 8}, {\"label\": \"2\", \"ngram\": \"people\", \"value\": 0.5876320172848506, \"rank\": 9}, {\"label\": \"2\", \"ngram\": \"bar\", \"value\": 0.5775330303815216, \"rank\": 10}, {\"label\": \"2\", \"ngram\": \"night\", \"value\": 0.5417768668243418, \"rank\": 11}, {\"label\": \"2\", \"ngram\": \"chicken\", \"value\": 0.519508790189965, \"rank\": 12}, {\"label\": \"2\", \"ngram\": \"2\", \"value\": 0.5052958644130551, \"rank\": 13}, {\"label\": \"2\", \"ngram\": \"bad\", \"value\": 0.49953247863013467, \"rank\": 14}, {\"label\": \"2\", \"ngram\": \"stars\", \"value\": 0.4708344761349702, \"rank\": 15}, {\"label\": \"2\", \"ngram\": \"5\", \"value\": 0.46505111145649564, \"rank\": 16}, {\"label\": \"2\", \"ngram\": \"lot\", \"value\": 0.43051748751703856, \"rank\": 17}, {\"label\": \"2\", \"ngram\": \"sauce\", \"value\": 0.42312151659725367, \"rank\": 18}, {\"label\": \"2\", \"ngram\": \"lunch\", \"value\": 0.42216467313810313, \"rank\": 19}, {\"label\": \"2\", \"ngram\": \"decent\", \"value\": 0.41920566333025644, \"rank\": 20}]}, {\"name\": \"column_domain\", \"values\": [{\"label\": \"4\", \"count\": 20}, {\"label\": \"1\", \"count\": 20}, {\"label\": \"3\", \"count\": 20}, {\"label\": \"0\", \"count\": 20}, {\"label\": \"2\", \"count\": 20}]}, {\"name\": \"data_2\"}, {\"name\": \"source_0_color_domain_ngram\", \"values\": [{\"ngram\": \"service\", \"sort_field\": 4.848794354913963}, {\"ngram\": \"love\", \"sort_field\": 1.5274078991755227}, {\"ngram\": \"amazing\", \"sort_field\": 0.8166185577397702}, {\"ngram\": \"friendly\", \"sort_field\": 1.3568980286888137}, {\"ngram\": \"delicious\", \"sort_field\": 1.3367039076331433}, {\"ngram\": \"Vegas\", \"sort_field\": 1.1967734071892195}, {\"ngram\": \"staff\", \"sort_field\": 1.1253727754848721}, {\"ngram\": \"nice\", \"sort_field\": 2.99244229421062}, {\"ngram\": \"nThe\", \"sort_field\": 3.208779053407908}, {\"ngram\": \"recommend\", \"sort_field\": 0.5328762829398257}, {\"ngram\": \"awesome\", \"sort_field\": 0.501865700887612}, {\"ngram\": \"favorite\", \"sort_field\": 0.49180378608404257}, {\"ngram\": \"restaurant\", \"sort_field\": 2.6259338116023345}, {\"ngram\": \"experience\", \"sort_field\": 1.2308666357421711}, {\"ngram\": \"menu\", \"sort_field\": 2.131211510603225}, {\"ngram\": \"fresh\", \"sort_field\": 0.9229647288290156}, {\"ngram\": \"people\", \"sort_field\": 2.634865989618964}, {\"ngram\": \"day\", \"sort_field\": 0.753399819937554}, {\"ngram\": \"perfect\", \"sort_field\": 0.38841764814994273}, {\"ngram\": \"night\", \"sort_field\": 1.8864771494505823}, {\"ngram\": \"2\", \"sort_field\": 1.597320378955963}, {\"ngram\": \"minutes\", \"sort_field\": 1.1888210644208221}, {\"ngram\": \"pretty\", \"sort_field\": 2.2544252025772336}, {\"ngram\": \"bad\", \"sort_field\": 1.4458467618991349}, {\"ngram\": \"table\", \"sort_field\": 0.8174912152139275}, {\"ngram\": \"chicken\", \"sort_field\": 1.4511277972264445}, {\"ngram\": \"bar\", \"sort_field\": 1.5536659822642473}, {\"ngram\": \"told\", \"sort_field\": 1.1974229375791583}, {\"ngram\": \"wait\", \"sort_field\": 0.6709734005694817}, {\"ngram\": \"3\", \"sort_field\": 1.3291669199096443}, {\"ngram\": \"5\", \"sort_field\": 1.6225149394832556}, {\"ngram\": \"eat\", \"sort_field\": 0.3359462102473755}, {\"ngram\": \"bit\", \"sort_field\": 1.160830487452152}, {\"ngram\": \"lunch\", \"sort_field\": 0.9279368264122205}, {\"ngram\": \"cheese\", \"sort_field\": 0.449666947062204}, {\"ngram\": \"manager\", \"sort_field\": 0.4654177616506188}, {\"ngram\": \"customer\", \"sort_field\": 0.44912376971459533}, {\"ngram\": \"called\", \"sort_field\": 0.42344864664219434}, {\"ngram\": \"money\", \"sort_field\": 0.38703302784650695}, {\"ngram\": \"left\", \"sort_field\": 0.383263091138809}, {\"ngram\": \"car\", \"sort_field\": 0.33764843013933993}, {\"ngram\": \"business\", \"sort_field\": 0.3035702510390559}, {\"ngram\": \"stars\", \"sort_field\": 0.4708344761349702}, {\"ngram\": \"lot\", \"sort_field\": 0.43051748751703856}, {\"ngram\": \"sauce\", \"sort_field\": 0.42312151659725367}, {\"ngram\": \"decent\", \"sort_field\": 0.41920566333025644}]}], \"signals\": [{\"name\": \"child_width\", \"value\": 160}, {\"name\": \"child_y_step\", \"value\": 20}, {\"name\": \"param_7\", \"value\": \"\", \"bind\": {\"input\": \"search\", \"placeholder\": \"insert token...\", \"name\": \"Filter by token \"}}], \"marks\": [{\"type\": \"group\", \"name\": \"column-title\", \"title\": {\"text\": \"label\", \"offset\": 10, \"style\": \"guide-title\"}, \"role\": \"column-title\"}, {\"type\": \"group\", \"name\": \"column_header\", \"from\": {\"data\": \"column_domain\"}, \"sort\": {\"field\": \"datum[\\\"label\\\"]\", \"order\": \"ascending\"}, \"encode\": {\"update\": {\"width\": {\"signal\": \"child_width\"}}}, \"title\": {\"text\": {\"signal\": \"isValid(parent[\\\"label\\\"]) ? parent[\\\"label\\\"] : \\\"\\\"+parent[\\\"label\\\"]\"}, \"style\": \"guide-label\", \"frame\": \"group\", \"offset\": 10, \"fontWeight\": \"bold\"}, \"role\": \"column-header\"}, {\"type\": \"group\", \"name\": \"cell\", \"from\": {\"facet\": {\"data\": \"source_0\", \"name\": \"facet\", \"groupby\": [\"label\"], \"aggregate\": {\"fields\": [\"ngram\"], \"ops\": [\"distinct\"], \"as\": [\"distinct_ngram\"]}}}, \"sort\": {\"field\": [\"datum[\\\"label\\\"]\"], \"order\": [\"ascending\"]}, \"encode\": {\"update\": {\"width\": {\"signal\": \"child_width\"}, \"height\": {\"signal\": \"bandspace(datum[\\\"distinct_ngram\\\"], 0.1, 0.05) * child_y_step\"}}}, \"data\": [{\"name\": \"data_0\", \"source\": \"facet\", \"transform\": [{\"type\": \"stack\", \"field\": \"value\", \"groupby\": [\"ngram\"], \"sort\": {\"field\": [], \"order\": []}, \"as\": [\"value_start\", \"value_end\"], \"offset\": \"zero\"}, {\"type\": \"filter\", \"expr\": \"isValid(datum[\\\"value\\\"]) && isFinite(+datum[\\\"value\\\"])\"}]}, {\"name\": \"facet_child_y_domain_ngram_2\", \"source\": \"facet\", \"transform\": [{\"type\": \"aggregate\", \"groupby\": [\"ngram\"], \"fields\": [\"value\"], \"ops\": [\"sum\"], \"as\": [\"sort_field\"]}, {\"type\": \"project\", \"fields\": [\"ngram\", \"sort_field\"]}]}], \"marks\": [{\"type\": \"group\", \"from\": {\"facet\": {\"data\": \"data_0\", \"name\": \"stack_group_child_main\", \"groupby\": [\"ngram\"], \"aggregate\": {\"fields\": [\"value_start\", \"value_start\", \"value_end\", \"value_end\"], \"ops\": [\"min\", \"max\", \"min\", \"max\"]}}}, \"encode\": {\"update\": {\"x\": {\"signal\": \"min(scale('child_x',datum[\\\"min_value_start\\\"]),scale('child_x',datum[\\\"max_value_start\\\"]),scale('child_x',datum[\\\"min_value_end\\\"]),scale('child_x',datum[\\\"max_value_end\\\"]))\"}, \"cornerRadiusBottomRight\": {\"value\": 5}, \"x2\": {\"signal\": \"max(scale('child_x',datum[\\\"min_value_start\\\"]),scale('child_x',datum[\\\"max_value_start\\\"]),scale('child_x',datum[\\\"min_value_end\\\"]),scale('child_x',datum[\\\"max_value_end\\\"]))\"}, \"clip\": {\"value\": true}, \"yc\": {\"field\": \"ngram\", \"scale\": \"child_y\", \"band\": 0.5}, \"height\": {\"value\": 15}, \"cornerRadiusTopRight\": {\"value\": 5}}}, \"marks\": [{\"type\": \"group\", \"encode\": {\"update\": {\"height\": {\"field\": {\"signal\": null, \"datum\": null, \"group\": \"height\", \"parent\": null}}, \"x\": {\"field\": {\"signal\": null, \"datum\": null, \"group\": \"x\", \"parent\": null}, \"mult\": -1}}}, \"marks\": [{\"type\": \"rect\", \"name\": \"child_marks\", \"from\": {\"data\": \"stack_group_child_main\"}, \"encode\": {\"update\": {\"x\": {\"field\": \"value_end\", \"scale\": \"child_x\"}, \"x2\": {\"field\": \"value_start\", \"scale\": \"child_x\"}, \"fill\": [{\"field\": \"ngram\", \"scale\": \"color\", \"test\": \"test(regexp(param_7,'i'),datum.ngram)\"}, {\"value\": \"\"}], \"tooltip\": {\"signal\": \"{\\\"token\\\": isValid(datum[\\\"ngram\\\"]) ? datum[\\\"ngram\\\"] : \\\"\\\"+datum[\\\"ngram\\\"], \\\"npw_relevance value\\\": format(datum[\\\"value\\\"], \\\"\\\")}\"}, \"height\": {\"field\": {\"signal\": null, \"datum\": null, \"group\": \"height\", \"parent\": null}}, \"opacity\": [{\"value\": 1, \"test\": \"test(regexp(param_7,'i'),datum.ngram)\"}, {\"value\": 0}]}}, \"style\": [\"bar\"]}]}]}], \"scales\": [{\"name\": \"child_x\", \"type\": \"linear\", \"domain\": {\"data\": \"data_0\", \"fields\": [\"value_start\", \"value_end\"]}, \"range\": [0, {\"signal\": \"child_width\"}], \"nice\": true, \"zero\": true}, {\"name\": \"child_y\", \"type\": \"band\", \"domain\": {\"data\": \"facet_child_y_domain_ngram_2\", \"field\": \"ngram\", \"sort\": {\"op\": \"max\", \"field\": \"sort_field\", \"order\": \"descending\"}}, \"range\": {\"step\": {\"signal\": \"child_y_step\"}}, \"paddingInner\": 0.1, \"paddingOuter\": 0.05}], \"axes\": [{\"scale\": \"child_x\", \"domain\": false, \"minExtent\": 0, \"zindex\": 0, \"maxExtent\": 0, \"labels\": false, \"tickCount\": {\"signal\": \"ceil(child_width/40)\"}, \"orient\": \"bottom\", \"gridScale\": \"child_y\", \"aria\": false, \"ticks\": false, \"grid\": true}, {\"scale\": \"child_x\", \"zindex\": 0, \"title\": \"npw_relevance\", \"labelOverlap\": true, \"orient\": \"bottom\", \"tickCount\": {\"signal\": \"ceil(child_width/40)\"}, \"grid\": false, \"labelFlush\": true}, {\"scale\": \"child_y\", \"orient\": \"left\", \"grid\": false, \"zindex\": 0}], \"style\": \"cell\"}], \"scales\": [{\"name\": \"color\", \"type\": \"ordinal\", \"domain\": {\"data\": \"source_0_color_domain_ngram\", \"field\": \"ngram\", \"sort\": {\"op\": \"max\", \"field\": \"sort_field\", \"order\": \"descending\"}}, \"range\": \"category\"}], \"layout\": {\"padding\": 20, \"offset\": {\"columnTitle\": 10}, \"columns\": {\"signal\": \"length(data('column_domain'))\"}, \"bounds\": \"full\", \"align\": \"none\", \"center\": true}, \"background\": \"white\", \"padding\": 5, \"legends\": [{\"fill\": \"color\", \"symbolType\": \"square\", \"encode\": {\"symbols\": {\"update\": {\"opacity\": {\"value\": 1}}}}}]}, {\"mode\": \"vega\"});\n",
              "</script>"
            ],
            "text/plain": [
              "alt.Chart(...)"
            ]
          },
          "metadata": {},
          "execution_count": 14
        }
      ],
      "source": [
        "charts[\"npw_relevance\"][\"BarChart\"]"
      ]
    }
  ],
  "metadata": {
    "colab": {
      "provenance": []
    },
    "kernelspec": {
      "display_name": "Python 3",
      "name": "python3"
    },
    "language_info": {
      "name": "python"
    },
    "widgets": {
      "application/vnd.jupyter.widget-state+json": {
        "481087fedd5545c4ad26941bc8a8d6af": {
          "model_module": "@jupyter-widgets/controls",
          "model_name": "HBoxModel",
          "model_module_version": "1.5.0",
          "state": {
            "_dom_classes": [],
            "_model_module": "@jupyter-widgets/controls",
            "_model_module_version": "1.5.0",
            "_model_name": "HBoxModel",
            "_view_count": null,
            "_view_module": "@jupyter-widgets/controls",
            "_view_module_version": "1.5.0",
            "_view_name": "HBoxView",
            "box_style": "",
            "children": [
              "IPY_MODEL_977c816c03424c258fa22a7b17493e23",
              "IPY_MODEL_d92cd6e18cf0475c9599ae4c69b89140",
              "IPY_MODEL_bce3fa0392974687b12a0ac262c4ad6d"
            ],
            "layout": "IPY_MODEL_57ef6f970bf048dbabbc49dec7afa9ab"
          }
        },
        "977c816c03424c258fa22a7b17493e23": {
          "model_module": "@jupyter-widgets/controls",
          "model_name": "HTMLModel",
          "model_module_version": "1.5.0",
          "state": {
            "_dom_classes": [],
            "_model_module": "@jupyter-widgets/controls",
            "_model_module_version": "1.5.0",
            "_model_name": "HTMLModel",
            "_view_count": null,
            "_view_module": "@jupyter-widgets/controls",
            "_view_module_version": "1.5.0",
            "_view_name": "HTMLView",
            "description": "",
            "description_tooltip": null,
            "layout": "IPY_MODEL_70197974e05a4d37af4a78c505c05135",
            "placeholder": "​",
            "style": "IPY_MODEL_60411bab7cbe4210ad497cade541d957",
            "value": "Downloading readme: 100%"
          }
        },
        "d92cd6e18cf0475c9599ae4c69b89140": {
          "model_module": "@jupyter-widgets/controls",
          "model_name": "FloatProgressModel",
          "model_module_version": "1.5.0",
          "state": {
            "_dom_classes": [],
            "_model_module": "@jupyter-widgets/controls",
            "_model_module_version": "1.5.0",
            "_model_name": "FloatProgressModel",
            "_view_count": null,
            "_view_module": "@jupyter-widgets/controls",
            "_view_module_version": "1.5.0",
            "_view_name": "ProgressView",
            "bar_style": "success",
            "description": "",
            "description_tooltip": null,
            "layout": "IPY_MODEL_9c5ec4f6c3b448fc92c6dfa149dcbdf8",
            "max": 6724,
            "min": 0,
            "orientation": "horizontal",
            "style": "IPY_MODEL_e743a71f0b0a4c3d849baae74f20f6fa",
            "value": 6724
          }
        },
        "bce3fa0392974687b12a0ac262c4ad6d": {
          "model_module": "@jupyter-widgets/controls",
          "model_name": "HTMLModel",
          "model_module_version": "1.5.0",
          "state": {
            "_dom_classes": [],
            "_model_module": "@jupyter-widgets/controls",
            "_model_module_version": "1.5.0",
            "_model_name": "HTMLModel",
            "_view_count": null,
            "_view_module": "@jupyter-widgets/controls",
            "_view_module_version": "1.5.0",
            "_view_name": "HTMLView",
            "description": "",
            "description_tooltip": null,
            "layout": "IPY_MODEL_59dbc33a112d46b5af38509dda7406c4",
            "placeholder": "​",
            "style": "IPY_MODEL_80939ac3db5d44f08c5eb1b7156a708e",
            "value": " 6.72k/6.72k [00:00&lt;00:00, 281kB/s]"
          }
        },
        "57ef6f970bf048dbabbc49dec7afa9ab": {
          "model_module": "@jupyter-widgets/base",
          "model_name": "LayoutModel",
          "model_module_version": "1.2.0",
          "state": {
            "_model_module": "@jupyter-widgets/base",
            "_model_module_version": "1.2.0",
            "_model_name": "LayoutModel",
            "_view_count": null,
            "_view_module": "@jupyter-widgets/base",
            "_view_module_version": "1.2.0",
            "_view_name": "LayoutView",
            "align_content": null,
            "align_items": null,
            "align_self": null,
            "border": null,
            "bottom": null,
            "display": null,
            "flex": null,
            "flex_flow": null,
            "grid_area": null,
            "grid_auto_columns": null,
            "grid_auto_flow": null,
            "grid_auto_rows": null,
            "grid_column": null,
            "grid_gap": null,
            "grid_row": null,
            "grid_template_areas": null,
            "grid_template_columns": null,
            "grid_template_rows": null,
            "height": null,
            "justify_content": null,
            "justify_items": null,
            "left": null,
            "margin": null,
            "max_height": null,
            "max_width": null,
            "min_height": null,
            "min_width": null,
            "object_fit": null,
            "object_position": null,
            "order": null,
            "overflow": null,
            "overflow_x": null,
            "overflow_y": null,
            "padding": null,
            "right": null,
            "top": null,
            "visibility": null,
            "width": null
          }
        },
        "70197974e05a4d37af4a78c505c05135": {
          "model_module": "@jupyter-widgets/base",
          "model_name": "LayoutModel",
          "model_module_version": "1.2.0",
          "state": {
            "_model_module": "@jupyter-widgets/base",
            "_model_module_version": "1.2.0",
            "_model_name": "LayoutModel",
            "_view_count": null,
            "_view_module": "@jupyter-widgets/base",
            "_view_module_version": "1.2.0",
            "_view_name": "LayoutView",
            "align_content": null,
            "align_items": null,
            "align_self": null,
            "border": null,
            "bottom": null,
            "display": null,
            "flex": null,
            "flex_flow": null,
            "grid_area": null,
            "grid_auto_columns": null,
            "grid_auto_flow": null,
            "grid_auto_rows": null,
            "grid_column": null,
            "grid_gap": null,
            "grid_row": null,
            "grid_template_areas": null,
            "grid_template_columns": null,
            "grid_template_rows": null,
            "height": null,
            "justify_content": null,
            "justify_items": null,
            "left": null,
            "margin": null,
            "max_height": null,
            "max_width": null,
            "min_height": null,
            "min_width": null,
            "object_fit": null,
            "object_position": null,
            "order": null,
            "overflow": null,
            "overflow_x": null,
            "overflow_y": null,
            "padding": null,
            "right": null,
            "top": null,
            "visibility": null,
            "width": null
          }
        },
        "60411bab7cbe4210ad497cade541d957": {
          "model_module": "@jupyter-widgets/controls",
          "model_name": "DescriptionStyleModel",
          "model_module_version": "1.5.0",
          "state": {
            "_model_module": "@jupyter-widgets/controls",
            "_model_module_version": "1.5.0",
            "_model_name": "DescriptionStyleModel",
            "_view_count": null,
            "_view_module": "@jupyter-widgets/base",
            "_view_module_version": "1.2.0",
            "_view_name": "StyleView",
            "description_width": ""
          }
        },
        "9c5ec4f6c3b448fc92c6dfa149dcbdf8": {
          "model_module": "@jupyter-widgets/base",
          "model_name": "LayoutModel",
          "model_module_version": "1.2.0",
          "state": {
            "_model_module": "@jupyter-widgets/base",
            "_model_module_version": "1.2.0",
            "_model_name": "LayoutModel",
            "_view_count": null,
            "_view_module": "@jupyter-widgets/base",
            "_view_module_version": "1.2.0",
            "_view_name": "LayoutView",
            "align_content": null,
            "align_items": null,
            "align_self": null,
            "border": null,
            "bottom": null,
            "display": null,
            "flex": null,
            "flex_flow": null,
            "grid_area": null,
            "grid_auto_columns": null,
            "grid_auto_flow": null,
            "grid_auto_rows": null,
            "grid_column": null,
            "grid_gap": null,
            "grid_row": null,
            "grid_template_areas": null,
            "grid_template_columns": null,
            "grid_template_rows": null,
            "height": null,
            "justify_content": null,
            "justify_items": null,
            "left": null,
            "margin": null,
            "max_height": null,
            "max_width": null,
            "min_height": null,
            "min_width": null,
            "object_fit": null,
            "object_position": null,
            "order": null,
            "overflow": null,
            "overflow_x": null,
            "overflow_y": null,
            "padding": null,
            "right": null,
            "top": null,
            "visibility": null,
            "width": null
          }
        },
        "e743a71f0b0a4c3d849baae74f20f6fa": {
          "model_module": "@jupyter-widgets/controls",
          "model_name": "ProgressStyleModel",
          "model_module_version": "1.5.0",
          "state": {
            "_model_module": "@jupyter-widgets/controls",
            "_model_module_version": "1.5.0",
            "_model_name": "ProgressStyleModel",
            "_view_count": null,
            "_view_module": "@jupyter-widgets/base",
            "_view_module_version": "1.2.0",
            "_view_name": "StyleView",
            "bar_color": null,
            "description_width": ""
          }
        },
        "59dbc33a112d46b5af38509dda7406c4": {
          "model_module": "@jupyter-widgets/base",
          "model_name": "LayoutModel",
          "model_module_version": "1.2.0",
          "state": {
            "_model_module": "@jupyter-widgets/base",
            "_model_module_version": "1.2.0",
            "_model_name": "LayoutModel",
            "_view_count": null,
            "_view_module": "@jupyter-widgets/base",
            "_view_module_version": "1.2.0",
            "_view_name": "LayoutView",
            "align_content": null,
            "align_items": null,
            "align_self": null,
            "border": null,
            "bottom": null,
            "display": null,
            "flex": null,
            "flex_flow": null,
            "grid_area": null,
            "grid_auto_columns": null,
            "grid_auto_flow": null,
            "grid_auto_rows": null,
            "grid_column": null,
            "grid_gap": null,
            "grid_row": null,
            "grid_template_areas": null,
            "grid_template_columns": null,
            "grid_template_rows": null,
            "height": null,
            "justify_content": null,
            "justify_items": null,
            "left": null,
            "margin": null,
            "max_height": null,
            "max_width": null,
            "min_height": null,
            "min_width": null,
            "object_fit": null,
            "object_position": null,
            "order": null,
            "overflow": null,
            "overflow_x": null,
            "overflow_y": null,
            "padding": null,
            "right": null,
            "top": null,
            "visibility": null,
            "width": null
          }
        },
        "80939ac3db5d44f08c5eb1b7156a708e": {
          "model_module": "@jupyter-widgets/controls",
          "model_name": "DescriptionStyleModel",
          "model_module_version": "1.5.0",
          "state": {
            "_model_module": "@jupyter-widgets/controls",
            "_model_module_version": "1.5.0",
            "_model_name": "DescriptionStyleModel",
            "_view_count": null,
            "_view_module": "@jupyter-widgets/base",
            "_view_module_version": "1.2.0",
            "_view_name": "StyleView",
            "description_width": ""
          }
        },
        "692fb62ee5db4a5ca831f7f530ac78c8": {
          "model_module": "@jupyter-widgets/controls",
          "model_name": "HBoxModel",
          "model_module_version": "1.5.0",
          "state": {
            "_dom_classes": [],
            "_model_module": "@jupyter-widgets/controls",
            "_model_module_version": "1.5.0",
            "_model_name": "HBoxModel",
            "_view_count": null,
            "_view_module": "@jupyter-widgets/controls",
            "_view_module_version": "1.5.0",
            "_view_name": "HBoxView",
            "box_style": "",
            "children": [
              "IPY_MODEL_8b71003855104bf5bed195d2ad0f302b",
              "IPY_MODEL_6758e11618ea4899a1d0212687ec8b1f",
              "IPY_MODEL_3ccc62550c904d8a889073a03957fe54"
            ],
            "layout": "IPY_MODEL_42308e4a490e43b39733b1a7e8cab6aa"
          }
        },
        "8b71003855104bf5bed195d2ad0f302b": {
          "model_module": "@jupyter-widgets/controls",
          "model_name": "HTMLModel",
          "model_module_version": "1.5.0",
          "state": {
            "_dom_classes": [],
            "_model_module": "@jupyter-widgets/controls",
            "_model_module_version": "1.5.0",
            "_model_name": "HTMLModel",
            "_view_count": null,
            "_view_module": "@jupyter-widgets/controls",
            "_view_module_version": "1.5.0",
            "_view_name": "HTMLView",
            "description": "",
            "description_tooltip": null,
            "layout": "IPY_MODEL_0c688e2b50484a9cadd28a480d934528",
            "placeholder": "​",
            "style": "IPY_MODEL_cff868bfcd4548cbb9802a0cbb21ac30",
            "value": "Downloading data: 100%"
          }
        },
        "6758e11618ea4899a1d0212687ec8b1f": {
          "model_module": "@jupyter-widgets/controls",
          "model_name": "FloatProgressModel",
          "model_module_version": "1.5.0",
          "state": {
            "_dom_classes": [],
            "_model_module": "@jupyter-widgets/controls",
            "_model_module_version": "1.5.0",
            "_model_name": "FloatProgressModel",
            "_view_count": null,
            "_view_module": "@jupyter-widgets/controls",
            "_view_module_version": "1.5.0",
            "_view_name": "ProgressView",
            "bar_style": "success",
            "description": "",
            "description_tooltip": null,
            "layout": "IPY_MODEL_41b4681e18b447b58645fce38bab3fbd",
            "max": 299436850,
            "min": 0,
            "orientation": "horizontal",
            "style": "IPY_MODEL_0eb3741dee6e4f97832a684b67781f74",
            "value": 299436850
          }
        },
        "3ccc62550c904d8a889073a03957fe54": {
          "model_module": "@jupyter-widgets/controls",
          "model_name": "HTMLModel",
          "model_module_version": "1.5.0",
          "state": {
            "_dom_classes": [],
            "_model_module": "@jupyter-widgets/controls",
            "_model_module_version": "1.5.0",
            "_model_name": "HTMLModel",
            "_view_count": null,
            "_view_module": "@jupyter-widgets/controls",
            "_view_module_version": "1.5.0",
            "_view_name": "HTMLView",
            "description": "",
            "description_tooltip": null,
            "layout": "IPY_MODEL_3dbf1a151c694f3dbf15da02506a1d97",
            "placeholder": "​",
            "style": "IPY_MODEL_c574ba401a0740dc95d6c2e9b10b5e1c",
            "value": " 299M/299M [00:01&lt;00:00, 237MB/s]"
          }
        },
        "42308e4a490e43b39733b1a7e8cab6aa": {
          "model_module": "@jupyter-widgets/base",
          "model_name": "LayoutModel",
          "model_module_version": "1.2.0",
          "state": {
            "_model_module": "@jupyter-widgets/base",
            "_model_module_version": "1.2.0",
            "_model_name": "LayoutModel",
            "_view_count": null,
            "_view_module": "@jupyter-widgets/base",
            "_view_module_version": "1.2.0",
            "_view_name": "LayoutView",
            "align_content": null,
            "align_items": null,
            "align_self": null,
            "border": null,
            "bottom": null,
            "display": null,
            "flex": null,
            "flex_flow": null,
            "grid_area": null,
            "grid_auto_columns": null,
            "grid_auto_flow": null,
            "grid_auto_rows": null,
            "grid_column": null,
            "grid_gap": null,
            "grid_row": null,
            "grid_template_areas": null,
            "grid_template_columns": null,
            "grid_template_rows": null,
            "height": null,
            "justify_content": null,
            "justify_items": null,
            "left": null,
            "margin": null,
            "max_height": null,
            "max_width": null,
            "min_height": null,
            "min_width": null,
            "object_fit": null,
            "object_position": null,
            "order": null,
            "overflow": null,
            "overflow_x": null,
            "overflow_y": null,
            "padding": null,
            "right": null,
            "top": null,
            "visibility": null,
            "width": null
          }
        },
        "0c688e2b50484a9cadd28a480d934528": {
          "model_module": "@jupyter-widgets/base",
          "model_name": "LayoutModel",
          "model_module_version": "1.2.0",
          "state": {
            "_model_module": "@jupyter-widgets/base",
            "_model_module_version": "1.2.0",
            "_model_name": "LayoutModel",
            "_view_count": null,
            "_view_module": "@jupyter-widgets/base",
            "_view_module_version": "1.2.0",
            "_view_name": "LayoutView",
            "align_content": null,
            "align_items": null,
            "align_self": null,
            "border": null,
            "bottom": null,
            "display": null,
            "flex": null,
            "flex_flow": null,
            "grid_area": null,
            "grid_auto_columns": null,
            "grid_auto_flow": null,
            "grid_auto_rows": null,
            "grid_column": null,
            "grid_gap": null,
            "grid_row": null,
            "grid_template_areas": null,
            "grid_template_columns": null,
            "grid_template_rows": null,
            "height": null,
            "justify_content": null,
            "justify_items": null,
            "left": null,
            "margin": null,
            "max_height": null,
            "max_width": null,
            "min_height": null,
            "min_width": null,
            "object_fit": null,
            "object_position": null,
            "order": null,
            "overflow": null,
            "overflow_x": null,
            "overflow_y": null,
            "padding": null,
            "right": null,
            "top": null,
            "visibility": null,
            "width": null
          }
        },
        "cff868bfcd4548cbb9802a0cbb21ac30": {
          "model_module": "@jupyter-widgets/controls",
          "model_name": "DescriptionStyleModel",
          "model_module_version": "1.5.0",
          "state": {
            "_model_module": "@jupyter-widgets/controls",
            "_model_module_version": "1.5.0",
            "_model_name": "DescriptionStyleModel",
            "_view_count": null,
            "_view_module": "@jupyter-widgets/base",
            "_view_module_version": "1.2.0",
            "_view_name": "StyleView",
            "description_width": ""
          }
        },
        "41b4681e18b447b58645fce38bab3fbd": {
          "model_module": "@jupyter-widgets/base",
          "model_name": "LayoutModel",
          "model_module_version": "1.2.0",
          "state": {
            "_model_module": "@jupyter-widgets/base",
            "_model_module_version": "1.2.0",
            "_model_name": "LayoutModel",
            "_view_count": null,
            "_view_module": "@jupyter-widgets/base",
            "_view_module_version": "1.2.0",
            "_view_name": "LayoutView",
            "align_content": null,
            "align_items": null,
            "align_self": null,
            "border": null,
            "bottom": null,
            "display": null,
            "flex": null,
            "flex_flow": null,
            "grid_area": null,
            "grid_auto_columns": null,
            "grid_auto_flow": null,
            "grid_auto_rows": null,
            "grid_column": null,
            "grid_gap": null,
            "grid_row": null,
            "grid_template_areas": null,
            "grid_template_columns": null,
            "grid_template_rows": null,
            "height": null,
            "justify_content": null,
            "justify_items": null,
            "left": null,
            "margin": null,
            "max_height": null,
            "max_width": null,
            "min_height": null,
            "min_width": null,
            "object_fit": null,
            "object_position": null,
            "order": null,
            "overflow": null,
            "overflow_x": null,
            "overflow_y": null,
            "padding": null,
            "right": null,
            "top": null,
            "visibility": null,
            "width": null
          }
        },
        "0eb3741dee6e4f97832a684b67781f74": {
          "model_module": "@jupyter-widgets/controls",
          "model_name": "ProgressStyleModel",
          "model_module_version": "1.5.0",
          "state": {
            "_model_module": "@jupyter-widgets/controls",
            "_model_module_version": "1.5.0",
            "_model_name": "ProgressStyleModel",
            "_view_count": null,
            "_view_module": "@jupyter-widgets/base",
            "_view_module_version": "1.2.0",
            "_view_name": "StyleView",
            "bar_color": null,
            "description_width": ""
          }
        },
        "3dbf1a151c694f3dbf15da02506a1d97": {
          "model_module": "@jupyter-widgets/base",
          "model_name": "LayoutModel",
          "model_module_version": "1.2.0",
          "state": {
            "_model_module": "@jupyter-widgets/base",
            "_model_module_version": "1.2.0",
            "_model_name": "LayoutModel",
            "_view_count": null,
            "_view_module": "@jupyter-widgets/base",
            "_view_module_version": "1.2.0",
            "_view_name": "LayoutView",
            "align_content": null,
            "align_items": null,
            "align_self": null,
            "border": null,
            "bottom": null,
            "display": null,
            "flex": null,
            "flex_flow": null,
            "grid_area": null,
            "grid_auto_columns": null,
            "grid_auto_flow": null,
            "grid_auto_rows": null,
            "grid_column": null,
            "grid_gap": null,
            "grid_row": null,
            "grid_template_areas": null,
            "grid_template_columns": null,
            "grid_template_rows": null,
            "height": null,
            "justify_content": null,
            "justify_items": null,
            "left": null,
            "margin": null,
            "max_height": null,
            "max_width": null,
            "min_height": null,
            "min_width": null,
            "object_fit": null,
            "object_position": null,
            "order": null,
            "overflow": null,
            "overflow_x": null,
            "overflow_y": null,
            "padding": null,
            "right": null,
            "top": null,
            "visibility": null,
            "width": null
          }
        },
        "c574ba401a0740dc95d6c2e9b10b5e1c": {
          "model_module": "@jupyter-widgets/controls",
          "model_name": "DescriptionStyleModel",
          "model_module_version": "1.5.0",
          "state": {
            "_model_module": "@jupyter-widgets/controls",
            "_model_module_version": "1.5.0",
            "_model_name": "DescriptionStyleModel",
            "_view_count": null,
            "_view_module": "@jupyter-widgets/base",
            "_view_module_version": "1.2.0",
            "_view_name": "StyleView",
            "description_width": ""
          }
        },
        "94d8edb106a342e19143969e9fb80dae": {
          "model_module": "@jupyter-widgets/controls",
          "model_name": "HBoxModel",
          "model_module_version": "1.5.0",
          "state": {
            "_dom_classes": [],
            "_model_module": "@jupyter-widgets/controls",
            "_model_module_version": "1.5.0",
            "_model_name": "HBoxModel",
            "_view_count": null,
            "_view_module": "@jupyter-widgets/controls",
            "_view_module_version": "1.5.0",
            "_view_name": "HBoxView",
            "box_style": "",
            "children": [
              "IPY_MODEL_5e0c319ad7ee4e08b6a1917be81815a7",
              "IPY_MODEL_d485d95101e74426b3a17e4f6b9d410f",
              "IPY_MODEL_0bb2dc6c954f45beb9cc1ffcf85d8745"
            ],
            "layout": "IPY_MODEL_4c9446817b914755b30c1ac0c3969729"
          }
        },
        "5e0c319ad7ee4e08b6a1917be81815a7": {
          "model_module": "@jupyter-widgets/controls",
          "model_name": "HTMLModel",
          "model_module_version": "1.5.0",
          "state": {
            "_dom_classes": [],
            "_model_module": "@jupyter-widgets/controls",
            "_model_module_version": "1.5.0",
            "_model_name": "HTMLModel",
            "_view_count": null,
            "_view_module": "@jupyter-widgets/controls",
            "_view_module_version": "1.5.0",
            "_view_name": "HTMLView",
            "description": "",
            "description_tooltip": null,
            "layout": "IPY_MODEL_db840247572543648df1f12cbd188320",
            "placeholder": "​",
            "style": "IPY_MODEL_0d08ba949d2f4ac795e7b1267e55a6c1",
            "value": "Downloading data: 100%"
          }
        },
        "d485d95101e74426b3a17e4f6b9d410f": {
          "model_module": "@jupyter-widgets/controls",
          "model_name": "FloatProgressModel",
          "model_module_version": "1.5.0",
          "state": {
            "_dom_classes": [],
            "_model_module": "@jupyter-widgets/controls",
            "_model_module_version": "1.5.0",
            "_model_name": "FloatProgressModel",
            "_view_count": null,
            "_view_module": "@jupyter-widgets/controls",
            "_view_module_version": "1.5.0",
            "_view_name": "ProgressView",
            "bar_style": "success",
            "description": "",
            "description_tooltip": null,
            "layout": "IPY_MODEL_397d9035a0b248a6a34d4a021b6a86ec",
            "max": 23515519,
            "min": 0,
            "orientation": "horizontal",
            "style": "IPY_MODEL_e00da59bd9ee455ca597eec2393e8324",
            "value": 23515519
          }
        },
        "0bb2dc6c954f45beb9cc1ffcf85d8745": {
          "model_module": "@jupyter-widgets/controls",
          "model_name": "HTMLModel",
          "model_module_version": "1.5.0",
          "state": {
            "_dom_classes": [],
            "_model_module": "@jupyter-widgets/controls",
            "_model_module_version": "1.5.0",
            "_model_name": "HTMLModel",
            "_view_count": null,
            "_view_module": "@jupyter-widgets/controls",
            "_view_module_version": "1.5.0",
            "_view_name": "HTMLView",
            "description": "",
            "description_tooltip": null,
            "layout": "IPY_MODEL_ba0a80f0dd17438696aafbf8ad81d332",
            "placeholder": "​",
            "style": "IPY_MODEL_92277a0dfa844e448032569895cc6b48",
            "value": " 23.5M/23.5M [00:00&lt;00:00, 90.6MB/s]"
          }
        },
        "4c9446817b914755b30c1ac0c3969729": {
          "model_module": "@jupyter-widgets/base",
          "model_name": "LayoutModel",
          "model_module_version": "1.2.0",
          "state": {
            "_model_module": "@jupyter-widgets/base",
            "_model_module_version": "1.2.0",
            "_model_name": "LayoutModel",
            "_view_count": null,
            "_view_module": "@jupyter-widgets/base",
            "_view_module_version": "1.2.0",
            "_view_name": "LayoutView",
            "align_content": null,
            "align_items": null,
            "align_self": null,
            "border": null,
            "bottom": null,
            "display": null,
            "flex": null,
            "flex_flow": null,
            "grid_area": null,
            "grid_auto_columns": null,
            "grid_auto_flow": null,
            "grid_auto_rows": null,
            "grid_column": null,
            "grid_gap": null,
            "grid_row": null,
            "grid_template_areas": null,
            "grid_template_columns": null,
            "grid_template_rows": null,
            "height": null,
            "justify_content": null,
            "justify_items": null,
            "left": null,
            "margin": null,
            "max_height": null,
            "max_width": null,
            "min_height": null,
            "min_width": null,
            "object_fit": null,
            "object_position": null,
            "order": null,
            "overflow": null,
            "overflow_x": null,
            "overflow_y": null,
            "padding": null,
            "right": null,
            "top": null,
            "visibility": null,
            "width": null
          }
        },
        "db840247572543648df1f12cbd188320": {
          "model_module": "@jupyter-widgets/base",
          "model_name": "LayoutModel",
          "model_module_version": "1.2.0",
          "state": {
            "_model_module": "@jupyter-widgets/base",
            "_model_module_version": "1.2.0",
            "_model_name": "LayoutModel",
            "_view_count": null,
            "_view_module": "@jupyter-widgets/base",
            "_view_module_version": "1.2.0",
            "_view_name": "LayoutView",
            "align_content": null,
            "align_items": null,
            "align_self": null,
            "border": null,
            "bottom": null,
            "display": null,
            "flex": null,
            "flex_flow": null,
            "grid_area": null,
            "grid_auto_columns": null,
            "grid_auto_flow": null,
            "grid_auto_rows": null,
            "grid_column": null,
            "grid_gap": null,
            "grid_row": null,
            "grid_template_areas": null,
            "grid_template_columns": null,
            "grid_template_rows": null,
            "height": null,
            "justify_content": null,
            "justify_items": null,
            "left": null,
            "margin": null,
            "max_height": null,
            "max_width": null,
            "min_height": null,
            "min_width": null,
            "object_fit": null,
            "object_position": null,
            "order": null,
            "overflow": null,
            "overflow_x": null,
            "overflow_y": null,
            "padding": null,
            "right": null,
            "top": null,
            "visibility": null,
            "width": null
          }
        },
        "0d08ba949d2f4ac795e7b1267e55a6c1": {
          "model_module": "@jupyter-widgets/controls",
          "model_name": "DescriptionStyleModel",
          "model_module_version": "1.5.0",
          "state": {
            "_model_module": "@jupyter-widgets/controls",
            "_model_module_version": "1.5.0",
            "_model_name": "DescriptionStyleModel",
            "_view_count": null,
            "_view_module": "@jupyter-widgets/base",
            "_view_module_version": "1.2.0",
            "_view_name": "StyleView",
            "description_width": ""
          }
        },
        "397d9035a0b248a6a34d4a021b6a86ec": {
          "model_module": "@jupyter-widgets/base",
          "model_name": "LayoutModel",
          "model_module_version": "1.2.0",
          "state": {
            "_model_module": "@jupyter-widgets/base",
            "_model_module_version": "1.2.0",
            "_model_name": "LayoutModel",
            "_view_count": null,
            "_view_module": "@jupyter-widgets/base",
            "_view_module_version": "1.2.0",
            "_view_name": "LayoutView",
            "align_content": null,
            "align_items": null,
            "align_self": null,
            "border": null,
            "bottom": null,
            "display": null,
            "flex": null,
            "flex_flow": null,
            "grid_area": null,
            "grid_auto_columns": null,
            "grid_auto_flow": null,
            "grid_auto_rows": null,
            "grid_column": null,
            "grid_gap": null,
            "grid_row": null,
            "grid_template_areas": null,
            "grid_template_columns": null,
            "grid_template_rows": null,
            "height": null,
            "justify_content": null,
            "justify_items": null,
            "left": null,
            "margin": null,
            "max_height": null,
            "max_width": null,
            "min_height": null,
            "min_width": null,
            "object_fit": null,
            "object_position": null,
            "order": null,
            "overflow": null,
            "overflow_x": null,
            "overflow_y": null,
            "padding": null,
            "right": null,
            "top": null,
            "visibility": null,
            "width": null
          }
        },
        "e00da59bd9ee455ca597eec2393e8324": {
          "model_module": "@jupyter-widgets/controls",
          "model_name": "ProgressStyleModel",
          "model_module_version": "1.5.0",
          "state": {
            "_model_module": "@jupyter-widgets/controls",
            "_model_module_version": "1.5.0",
            "_model_name": "ProgressStyleModel",
            "_view_count": null,
            "_view_module": "@jupyter-widgets/base",
            "_view_module_version": "1.2.0",
            "_view_name": "StyleView",
            "bar_color": null,
            "description_width": ""
          }
        },
        "ba0a80f0dd17438696aafbf8ad81d332": {
          "model_module": "@jupyter-widgets/base",
          "model_name": "LayoutModel",
          "model_module_version": "1.2.0",
          "state": {
            "_model_module": "@jupyter-widgets/base",
            "_model_module_version": "1.2.0",
            "_model_name": "LayoutModel",
            "_view_count": null,
            "_view_module": "@jupyter-widgets/base",
            "_view_module_version": "1.2.0",
            "_view_name": "LayoutView",
            "align_content": null,
            "align_items": null,
            "align_self": null,
            "border": null,
            "bottom": null,
            "display": null,
            "flex": null,
            "flex_flow": null,
            "grid_area": null,
            "grid_auto_columns": null,
            "grid_auto_flow": null,
            "grid_auto_rows": null,
            "grid_column": null,
            "grid_gap": null,
            "grid_row": null,
            "grid_template_areas": null,
            "grid_template_columns": null,
            "grid_template_rows": null,
            "height": null,
            "justify_content": null,
            "justify_items": null,
            "left": null,
            "margin": null,
            "max_height": null,
            "max_width": null,
            "min_height": null,
            "min_width": null,
            "object_fit": null,
            "object_position": null,
            "order": null,
            "overflow": null,
            "overflow_x": null,
            "overflow_y": null,
            "padding": null,
            "right": null,
            "top": null,
            "visibility": null,
            "width": null
          }
        },
        "92277a0dfa844e448032569895cc6b48": {
          "model_module": "@jupyter-widgets/controls",
          "model_name": "DescriptionStyleModel",
          "model_module_version": "1.5.0",
          "state": {
            "_model_module": "@jupyter-widgets/controls",
            "_model_module_version": "1.5.0",
            "_model_name": "DescriptionStyleModel",
            "_view_count": null,
            "_view_module": "@jupyter-widgets/base",
            "_view_module_version": "1.2.0",
            "_view_name": "StyleView",
            "description_width": ""
          }
        },
        "ed19787cf4a54439952cde3b7690540f": {
          "model_module": "@jupyter-widgets/controls",
          "model_name": "HBoxModel",
          "model_module_version": "1.5.0",
          "state": {
            "_dom_classes": [],
            "_model_module": "@jupyter-widgets/controls",
            "_model_module_version": "1.5.0",
            "_model_name": "HBoxModel",
            "_view_count": null,
            "_view_module": "@jupyter-widgets/controls",
            "_view_module_version": "1.5.0",
            "_view_name": "HBoxView",
            "box_style": "",
            "children": [
              "IPY_MODEL_381374d318a74d249c4ea9c928594d3f",
              "IPY_MODEL_853e8299fded419c9d78352f2faae02b",
              "IPY_MODEL_6d143f43d25148de8f4d2bb76de6e639"
            ],
            "layout": "IPY_MODEL_6b29170ba15144e28cb801722d8d0072"
          }
        },
        "381374d318a74d249c4ea9c928594d3f": {
          "model_module": "@jupyter-widgets/controls",
          "model_name": "HTMLModel",
          "model_module_version": "1.5.0",
          "state": {
            "_dom_classes": [],
            "_model_module": "@jupyter-widgets/controls",
            "_model_module_version": "1.5.0",
            "_model_name": "HTMLModel",
            "_view_count": null,
            "_view_module": "@jupyter-widgets/controls",
            "_view_module_version": "1.5.0",
            "_view_name": "HTMLView",
            "description": "",
            "description_tooltip": null,
            "layout": "IPY_MODEL_6362528e8097410fad55bc67f3b56698",
            "placeholder": "​",
            "style": "IPY_MODEL_02d8340cd23f40e6acf29c9bc21cbe4e",
            "value": "Generating train split: 100%"
          }
        },
        "853e8299fded419c9d78352f2faae02b": {
          "model_module": "@jupyter-widgets/controls",
          "model_name": "FloatProgressModel",
          "model_module_version": "1.5.0",
          "state": {
            "_dom_classes": [],
            "_model_module": "@jupyter-widgets/controls",
            "_model_module_version": "1.5.0",
            "_model_name": "FloatProgressModel",
            "_view_count": null,
            "_view_module": "@jupyter-widgets/controls",
            "_view_module_version": "1.5.0",
            "_view_name": "ProgressView",
            "bar_style": "success",
            "description": "",
            "description_tooltip": null,
            "layout": "IPY_MODEL_8ea593f951824050a1107c51b854d6a3",
            "max": 650000,
            "min": 0,
            "orientation": "horizontal",
            "style": "IPY_MODEL_2434f6cd37fa4a15adcccf14087eab55",
            "value": 650000
          }
        },
        "6d143f43d25148de8f4d2bb76de6e639": {
          "model_module": "@jupyter-widgets/controls",
          "model_name": "HTMLModel",
          "model_module_version": "1.5.0",
          "state": {
            "_dom_classes": [],
            "_model_module": "@jupyter-widgets/controls",
            "_model_module_version": "1.5.0",
            "_model_name": "HTMLModel",
            "_view_count": null,
            "_view_module": "@jupyter-widgets/controls",
            "_view_module_version": "1.5.0",
            "_view_name": "HTMLView",
            "description": "",
            "description_tooltip": null,
            "layout": "IPY_MODEL_02ebe4972a3b4a97ae3339c47859fb26",
            "placeholder": "​",
            "style": "IPY_MODEL_fde26087f4c44165891b5a84847eee4c",
            "value": " 650000/650000 [00:03&lt;00:00, 242973.07 examples/s]"
          }
        },
        "6b29170ba15144e28cb801722d8d0072": {
          "model_module": "@jupyter-widgets/base",
          "model_name": "LayoutModel",
          "model_module_version": "1.2.0",
          "state": {
            "_model_module": "@jupyter-widgets/base",
            "_model_module_version": "1.2.0",
            "_model_name": "LayoutModel",
            "_view_count": null,
            "_view_module": "@jupyter-widgets/base",
            "_view_module_version": "1.2.0",
            "_view_name": "LayoutView",
            "align_content": null,
            "align_items": null,
            "align_self": null,
            "border": null,
            "bottom": null,
            "display": null,
            "flex": null,
            "flex_flow": null,
            "grid_area": null,
            "grid_auto_columns": null,
            "grid_auto_flow": null,
            "grid_auto_rows": null,
            "grid_column": null,
            "grid_gap": null,
            "grid_row": null,
            "grid_template_areas": null,
            "grid_template_columns": null,
            "grid_template_rows": null,
            "height": null,
            "justify_content": null,
            "justify_items": null,
            "left": null,
            "margin": null,
            "max_height": null,
            "max_width": null,
            "min_height": null,
            "min_width": null,
            "object_fit": null,
            "object_position": null,
            "order": null,
            "overflow": null,
            "overflow_x": null,
            "overflow_y": null,
            "padding": null,
            "right": null,
            "top": null,
            "visibility": null,
            "width": null
          }
        },
        "6362528e8097410fad55bc67f3b56698": {
          "model_module": "@jupyter-widgets/base",
          "model_name": "LayoutModel",
          "model_module_version": "1.2.0",
          "state": {
            "_model_module": "@jupyter-widgets/base",
            "_model_module_version": "1.2.0",
            "_model_name": "LayoutModel",
            "_view_count": null,
            "_view_module": "@jupyter-widgets/base",
            "_view_module_version": "1.2.0",
            "_view_name": "LayoutView",
            "align_content": null,
            "align_items": null,
            "align_self": null,
            "border": null,
            "bottom": null,
            "display": null,
            "flex": null,
            "flex_flow": null,
            "grid_area": null,
            "grid_auto_columns": null,
            "grid_auto_flow": null,
            "grid_auto_rows": null,
            "grid_column": null,
            "grid_gap": null,
            "grid_row": null,
            "grid_template_areas": null,
            "grid_template_columns": null,
            "grid_template_rows": null,
            "height": null,
            "justify_content": null,
            "justify_items": null,
            "left": null,
            "margin": null,
            "max_height": null,
            "max_width": null,
            "min_height": null,
            "min_width": null,
            "object_fit": null,
            "object_position": null,
            "order": null,
            "overflow": null,
            "overflow_x": null,
            "overflow_y": null,
            "padding": null,
            "right": null,
            "top": null,
            "visibility": null,
            "width": null
          }
        },
        "02d8340cd23f40e6acf29c9bc21cbe4e": {
          "model_module": "@jupyter-widgets/controls",
          "model_name": "DescriptionStyleModel",
          "model_module_version": "1.5.0",
          "state": {
            "_model_module": "@jupyter-widgets/controls",
            "_model_module_version": "1.5.0",
            "_model_name": "DescriptionStyleModel",
            "_view_count": null,
            "_view_module": "@jupyter-widgets/base",
            "_view_module_version": "1.2.0",
            "_view_name": "StyleView",
            "description_width": ""
          }
        },
        "8ea593f951824050a1107c51b854d6a3": {
          "model_module": "@jupyter-widgets/base",
          "model_name": "LayoutModel",
          "model_module_version": "1.2.0",
          "state": {
            "_model_module": "@jupyter-widgets/base",
            "_model_module_version": "1.2.0",
            "_model_name": "LayoutModel",
            "_view_count": null,
            "_view_module": "@jupyter-widgets/base",
            "_view_module_version": "1.2.0",
            "_view_name": "LayoutView",
            "align_content": null,
            "align_items": null,
            "align_self": null,
            "border": null,
            "bottom": null,
            "display": null,
            "flex": null,
            "flex_flow": null,
            "grid_area": null,
            "grid_auto_columns": null,
            "grid_auto_flow": null,
            "grid_auto_rows": null,
            "grid_column": null,
            "grid_gap": null,
            "grid_row": null,
            "grid_template_areas": null,
            "grid_template_columns": null,
            "grid_template_rows": null,
            "height": null,
            "justify_content": null,
            "justify_items": null,
            "left": null,
            "margin": null,
            "max_height": null,
            "max_width": null,
            "min_height": null,
            "min_width": null,
            "object_fit": null,
            "object_position": null,
            "order": null,
            "overflow": null,
            "overflow_x": null,
            "overflow_y": null,
            "padding": null,
            "right": null,
            "top": null,
            "visibility": null,
            "width": null
          }
        },
        "2434f6cd37fa4a15adcccf14087eab55": {
          "model_module": "@jupyter-widgets/controls",
          "model_name": "ProgressStyleModel",
          "model_module_version": "1.5.0",
          "state": {
            "_model_module": "@jupyter-widgets/controls",
            "_model_module_version": "1.5.0",
            "_model_name": "ProgressStyleModel",
            "_view_count": null,
            "_view_module": "@jupyter-widgets/base",
            "_view_module_version": "1.2.0",
            "_view_name": "StyleView",
            "bar_color": null,
            "description_width": ""
          }
        },
        "02ebe4972a3b4a97ae3339c47859fb26": {
          "model_module": "@jupyter-widgets/base",
          "model_name": "LayoutModel",
          "model_module_version": "1.2.0",
          "state": {
            "_model_module": "@jupyter-widgets/base",
            "_model_module_version": "1.2.0",
            "_model_name": "LayoutModel",
            "_view_count": null,
            "_view_module": "@jupyter-widgets/base",
            "_view_module_version": "1.2.0",
            "_view_name": "LayoutView",
            "align_content": null,
            "align_items": null,
            "align_self": null,
            "border": null,
            "bottom": null,
            "display": null,
            "flex": null,
            "flex_flow": null,
            "grid_area": null,
            "grid_auto_columns": null,
            "grid_auto_flow": null,
            "grid_auto_rows": null,
            "grid_column": null,
            "grid_gap": null,
            "grid_row": null,
            "grid_template_areas": null,
            "grid_template_columns": null,
            "grid_template_rows": null,
            "height": null,
            "justify_content": null,
            "justify_items": null,
            "left": null,
            "margin": null,
            "max_height": null,
            "max_width": null,
            "min_height": null,
            "min_width": null,
            "object_fit": null,
            "object_position": null,
            "order": null,
            "overflow": null,
            "overflow_x": null,
            "overflow_y": null,
            "padding": null,
            "right": null,
            "top": null,
            "visibility": null,
            "width": null
          }
        },
        "fde26087f4c44165891b5a84847eee4c": {
          "model_module": "@jupyter-widgets/controls",
          "model_name": "DescriptionStyleModel",
          "model_module_version": "1.5.0",
          "state": {
            "_model_module": "@jupyter-widgets/controls",
            "_model_module_version": "1.5.0",
            "_model_name": "DescriptionStyleModel",
            "_view_count": null,
            "_view_module": "@jupyter-widgets/base",
            "_view_module_version": "1.2.0",
            "_view_name": "StyleView",
            "description_width": ""
          }
        },
        "8687fc45db4249a9a0f13872f6c87207": {
          "model_module": "@jupyter-widgets/controls",
          "model_name": "HBoxModel",
          "model_module_version": "1.5.0",
          "state": {
            "_dom_classes": [],
            "_model_module": "@jupyter-widgets/controls",
            "_model_module_version": "1.5.0",
            "_model_name": "HBoxModel",
            "_view_count": null,
            "_view_module": "@jupyter-widgets/controls",
            "_view_module_version": "1.5.0",
            "_view_name": "HBoxView",
            "box_style": "",
            "children": [
              "IPY_MODEL_1510b9a26e054e3983742e7fd61847c7",
              "IPY_MODEL_f33dabad34fa40c38785b2c8b97b0337",
              "IPY_MODEL_a653d8f03fc9492a82fcc50ce1c678ea"
            ],
            "layout": "IPY_MODEL_b022f5acfa7c4d87b4b16b429d62c0cb"
          }
        },
        "1510b9a26e054e3983742e7fd61847c7": {
          "model_module": "@jupyter-widgets/controls",
          "model_name": "HTMLModel",
          "model_module_version": "1.5.0",
          "state": {
            "_dom_classes": [],
            "_model_module": "@jupyter-widgets/controls",
            "_model_module_version": "1.5.0",
            "_model_name": "HTMLModel",
            "_view_count": null,
            "_view_module": "@jupyter-widgets/controls",
            "_view_module_version": "1.5.0",
            "_view_name": "HTMLView",
            "description": "",
            "description_tooltip": null,
            "layout": "IPY_MODEL_2f606a6a2ce34cdda3353b7850d9ee57",
            "placeholder": "​",
            "style": "IPY_MODEL_952798b4a5ca4e0397864f65c5f1a39e",
            "value": "Generating test split: 100%"
          }
        },
        "f33dabad34fa40c38785b2c8b97b0337": {
          "model_module": "@jupyter-widgets/controls",
          "model_name": "FloatProgressModel",
          "model_module_version": "1.5.0",
          "state": {
            "_dom_classes": [],
            "_model_module": "@jupyter-widgets/controls",
            "_model_module_version": "1.5.0",
            "_model_name": "FloatProgressModel",
            "_view_count": null,
            "_view_module": "@jupyter-widgets/controls",
            "_view_module_version": "1.5.0",
            "_view_name": "ProgressView",
            "bar_style": "success",
            "description": "",
            "description_tooltip": null,
            "layout": "IPY_MODEL_b2e1e787c0e64989abade34bc2e81d50",
            "max": 50000,
            "min": 0,
            "orientation": "horizontal",
            "style": "IPY_MODEL_0b6f796a7713450c93ca7308b1aecf94",
            "value": 50000
          }
        },
        "a653d8f03fc9492a82fcc50ce1c678ea": {
          "model_module": "@jupyter-widgets/controls",
          "model_name": "HTMLModel",
          "model_module_version": "1.5.0",
          "state": {
            "_dom_classes": [],
            "_model_module": "@jupyter-widgets/controls",
            "_model_module_version": "1.5.0",
            "_model_name": "HTMLModel",
            "_view_count": null,
            "_view_module": "@jupyter-widgets/controls",
            "_view_module_version": "1.5.0",
            "_view_name": "HTMLView",
            "description": "",
            "description_tooltip": null,
            "layout": "IPY_MODEL_de5b9a9483264cb199214a1a2617deab",
            "placeholder": "​",
            "style": "IPY_MODEL_e2cabecb81a9455b8fc8c7f500d5dd7d",
            "value": " 50000/50000 [00:00&lt;00:00, 174156.26 examples/s]"
          }
        },
        "b022f5acfa7c4d87b4b16b429d62c0cb": {
          "model_module": "@jupyter-widgets/base",
          "model_name": "LayoutModel",
          "model_module_version": "1.2.0",
          "state": {
            "_model_module": "@jupyter-widgets/base",
            "_model_module_version": "1.2.0",
            "_model_name": "LayoutModel",
            "_view_count": null,
            "_view_module": "@jupyter-widgets/base",
            "_view_module_version": "1.2.0",
            "_view_name": "LayoutView",
            "align_content": null,
            "align_items": null,
            "align_self": null,
            "border": null,
            "bottom": null,
            "display": null,
            "flex": null,
            "flex_flow": null,
            "grid_area": null,
            "grid_auto_columns": null,
            "grid_auto_flow": null,
            "grid_auto_rows": null,
            "grid_column": null,
            "grid_gap": null,
            "grid_row": null,
            "grid_template_areas": null,
            "grid_template_columns": null,
            "grid_template_rows": null,
            "height": null,
            "justify_content": null,
            "justify_items": null,
            "left": null,
            "margin": null,
            "max_height": null,
            "max_width": null,
            "min_height": null,
            "min_width": null,
            "object_fit": null,
            "object_position": null,
            "order": null,
            "overflow": null,
            "overflow_x": null,
            "overflow_y": null,
            "padding": null,
            "right": null,
            "top": null,
            "visibility": null,
            "width": null
          }
        },
        "2f606a6a2ce34cdda3353b7850d9ee57": {
          "model_module": "@jupyter-widgets/base",
          "model_name": "LayoutModel",
          "model_module_version": "1.2.0",
          "state": {
            "_model_module": "@jupyter-widgets/base",
            "_model_module_version": "1.2.0",
            "_model_name": "LayoutModel",
            "_view_count": null,
            "_view_module": "@jupyter-widgets/base",
            "_view_module_version": "1.2.0",
            "_view_name": "LayoutView",
            "align_content": null,
            "align_items": null,
            "align_self": null,
            "border": null,
            "bottom": null,
            "display": null,
            "flex": null,
            "flex_flow": null,
            "grid_area": null,
            "grid_auto_columns": null,
            "grid_auto_flow": null,
            "grid_auto_rows": null,
            "grid_column": null,
            "grid_gap": null,
            "grid_row": null,
            "grid_template_areas": null,
            "grid_template_columns": null,
            "grid_template_rows": null,
            "height": null,
            "justify_content": null,
            "justify_items": null,
            "left": null,
            "margin": null,
            "max_height": null,
            "max_width": null,
            "min_height": null,
            "min_width": null,
            "object_fit": null,
            "object_position": null,
            "order": null,
            "overflow": null,
            "overflow_x": null,
            "overflow_y": null,
            "padding": null,
            "right": null,
            "top": null,
            "visibility": null,
            "width": null
          }
        },
        "952798b4a5ca4e0397864f65c5f1a39e": {
          "model_module": "@jupyter-widgets/controls",
          "model_name": "DescriptionStyleModel",
          "model_module_version": "1.5.0",
          "state": {
            "_model_module": "@jupyter-widgets/controls",
            "_model_module_version": "1.5.0",
            "_model_name": "DescriptionStyleModel",
            "_view_count": null,
            "_view_module": "@jupyter-widgets/base",
            "_view_module_version": "1.2.0",
            "_view_name": "StyleView",
            "description_width": ""
          }
        },
        "b2e1e787c0e64989abade34bc2e81d50": {
          "model_module": "@jupyter-widgets/base",
          "model_name": "LayoutModel",
          "model_module_version": "1.2.0",
          "state": {
            "_model_module": "@jupyter-widgets/base",
            "_model_module_version": "1.2.0",
            "_model_name": "LayoutModel",
            "_view_count": null,
            "_view_module": "@jupyter-widgets/base",
            "_view_module_version": "1.2.0",
            "_view_name": "LayoutView",
            "align_content": null,
            "align_items": null,
            "align_self": null,
            "border": null,
            "bottom": null,
            "display": null,
            "flex": null,
            "flex_flow": null,
            "grid_area": null,
            "grid_auto_columns": null,
            "grid_auto_flow": null,
            "grid_auto_rows": null,
            "grid_column": null,
            "grid_gap": null,
            "grid_row": null,
            "grid_template_areas": null,
            "grid_template_columns": null,
            "grid_template_rows": null,
            "height": null,
            "justify_content": null,
            "justify_items": null,
            "left": null,
            "margin": null,
            "max_height": null,
            "max_width": null,
            "min_height": null,
            "min_width": null,
            "object_fit": null,
            "object_position": null,
            "order": null,
            "overflow": null,
            "overflow_x": null,
            "overflow_y": null,
            "padding": null,
            "right": null,
            "top": null,
            "visibility": null,
            "width": null
          }
        },
        "0b6f796a7713450c93ca7308b1aecf94": {
          "model_module": "@jupyter-widgets/controls",
          "model_name": "ProgressStyleModel",
          "model_module_version": "1.5.0",
          "state": {
            "_model_module": "@jupyter-widgets/controls",
            "_model_module_version": "1.5.0",
            "_model_name": "ProgressStyleModel",
            "_view_count": null,
            "_view_module": "@jupyter-widgets/base",
            "_view_module_version": "1.2.0",
            "_view_name": "StyleView",
            "bar_color": null,
            "description_width": ""
          }
        },
        "de5b9a9483264cb199214a1a2617deab": {
          "model_module": "@jupyter-widgets/base",
          "model_name": "LayoutModel",
          "model_module_version": "1.2.0",
          "state": {
            "_model_module": "@jupyter-widgets/base",
            "_model_module_version": "1.2.0",
            "_model_name": "LayoutModel",
            "_view_count": null,
            "_view_module": "@jupyter-widgets/base",
            "_view_module_version": "1.2.0",
            "_view_name": "LayoutView",
            "align_content": null,
            "align_items": null,
            "align_self": null,
            "border": null,
            "bottom": null,
            "display": null,
            "flex": null,
            "flex_flow": null,
            "grid_area": null,
            "grid_auto_columns": null,
            "grid_auto_flow": null,
            "grid_auto_rows": null,
            "grid_column": null,
            "grid_gap": null,
            "grid_row": null,
            "grid_template_areas": null,
            "grid_template_columns": null,
            "grid_template_rows": null,
            "height": null,
            "justify_content": null,
            "justify_items": null,
            "left": null,
            "margin": null,
            "max_height": null,
            "max_width": null,
            "min_height": null,
            "min_width": null,
            "object_fit": null,
            "object_position": null,
            "order": null,
            "overflow": null,
            "overflow_x": null,
            "overflow_y": null,
            "padding": null,
            "right": null,
            "top": null,
            "visibility": null,
            "width": null
          }
        },
        "e2cabecb81a9455b8fc8c7f500d5dd7d": {
          "model_module": "@jupyter-widgets/controls",
          "model_name": "DescriptionStyleModel",
          "model_module_version": "1.5.0",
          "state": {
            "_model_module": "@jupyter-widgets/controls",
            "_model_module_version": "1.5.0",
            "_model_name": "DescriptionStyleModel",
            "_view_count": null,
            "_view_module": "@jupyter-widgets/base",
            "_view_module_version": "1.2.0",
            "_view_name": "StyleView",
            "description_width": ""
          }
        }
      }
    }
  },
  "nbformat": 4,
  "nbformat_minor": 0
}